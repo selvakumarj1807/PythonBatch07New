{
 "cells": [
  {
   "cell_type": "markdown",
   "id": "6adc84b7-b617-4bb9-b7eb-24a1e3d83ad1",
   "metadata": {},
   "source": [
    "Set:\n",
    "----\n",
    "\n",
    "1. Set is a Collection of Datatype.\n",
    "2. It can store n number values and different datatype values in a single variable\n",
    "3. Declare { }\n",
    "4. Remove Duplicate values\n",
    "5. Cannot index based values."
   ]
  },
  {
   "cell_type": "code",
   "execution_count": 1,
   "id": "2aade0d0-d7ca-4582-bdbc-b8465efc0286",
   "metadata": {},
   "outputs": [
    {
     "name": "stdout",
     "output_type": "stream",
     "text": [
      "{16, 18, 19, 20, 22, 10, 15} <class 'set'>\n"
     ]
    }
   ],
   "source": [
    "ageValues = {10, 20, 15, 16, 18, 10, 15, 19, 20, 22}\n",
    "\n",
    "print(ageValues, type(ageValues))"
   ]
  },
  {
   "cell_type": "code",
   "execution_count": 2,
   "id": "6630c802-fd94-45fd-8183-3c84aa480b6f",
   "metadata": {},
   "outputs": [
    {
     "name": "stdout",
     "output_type": "stream",
     "text": [
      "{101, 'sara@gmail.com', 28, 'Sara'} <class 'set'>\n"
     ]
    }
   ],
   "source": [
    "details = {101, 'Sara', 28, 'sara@gmail.com', 'Sara', 101}\n",
    "\n",
    "print(details, type(details))"
   ]
  },
  {
   "cell_type": "markdown",
   "id": "c3df2564-4efb-47fa-b011-4d84d0d24bad",
   "metadata": {},
   "source": [
    "# Add Values after variable Declaration\n",
    "---------------------------------------"
   ]
  },
  {
   "cell_type": "code",
   "execution_count": 6,
   "id": "153cb1af-98fb-4cf0-b71c-2957345213cd",
   "metadata": {},
   "outputs": [
    {
     "name": "stdout",
     "output_type": "stream",
     "text": [
      "{28, 101, 'Sara'} <class 'set'>\n",
      "--------------------------------------------\n",
      "{'sara@gmail.com', 28, 101, 'Sara'} <class 'set'>\n"
     ]
    }
   ],
   "source": [
    "details01 = {101, 'Sara', 28}\n",
    "\n",
    "print(details01, type(details01))\n",
    "\n",
    "print('--------------------------------------------')\n",
    "\n",
    "details01.add('sara@gmail.com')\n",
    "\n",
    "print(details01, type(details01))"
   ]
  },
  {
   "cell_type": "markdown",
   "id": "fa14cb37-43c0-4a70-9047-cb571367cd96",
   "metadata": {},
   "source": [
    "Update Values after two Variable Declaration\n",
    "--------------------------------------------"
   ]
  },
  {
   "cell_type": "code",
   "execution_count": 8,
   "id": "34d07240-04a4-4c5a-aed3-16fe49373333",
   "metadata": {},
   "outputs": [
    {
     "name": "stdout",
     "output_type": "stream",
     "text": [
      "{28, 101, 'Sara'} <class 'set'>\n",
      "--------------------------------------------\n",
      "{9500912258, 'sara@gmail.com'} <class 'set'>\n",
      "--------------------------------------------\n",
      "{9500912258, 101, 28, 'sara@gmail.com', 'Sara'} <class 'set'>\n"
     ]
    }
   ],
   "source": [
    "details01 = {101, 'Sara', 28}\n",
    "\n",
    "print(details01, type(details01))\n",
    "\n",
    "print('--------------------------------------------')\n",
    "\n",
    "details02 = {'sara@gmail.com', 9500912258}\n",
    "\n",
    "print(details02, type(details02))\n",
    "\n",
    "print('--------------------------------------------')\n",
    "\n",
    "details01.update(details02)\n",
    "\n",
    "print(details01, type(details01))"
   ]
  },
  {
   "cell_type": "markdown",
   "id": "7d0b5eb9-6bc6-4aae-b1dd-7d72ab15d152",
   "metadata": {},
   "source": [
    "Remove values:\n",
    "--------------"
   ]
  },
  {
   "cell_type": "code",
   "execution_count": 14,
   "id": "3062099a-1a03-4aad-ae1a-da6170a5fbbc",
   "metadata": {},
   "outputs": [
    {
     "name": "stdout",
     "output_type": "stream",
     "text": [
      "{28, 'sara@gmail.com', 101, 'Sara'} <class 'set'>\n",
      "-----------------------------------------------------------\n",
      "{28, 'sara@gmail.com', 101} <class 'set'>\n",
      "-----------------------------------------------------------\n",
      "{28, 'sara@gmail.com', 101} <class 'set'>\n",
      "{'sara@gmail.com', 101} <class 'set'>\n",
      "-----------------------------------------------------------\n"
     ]
    },
    {
     "ename": "KeyError",
     "evalue": "9500912258",
     "output_type": "error",
     "traceback": [
      "\u001b[31m---------------------------------------------------------------------------\u001b[39m",
      "\u001b[31mKeyError\u001b[39m                                  Traceback (most recent call last)",
      "\u001b[36mCell\u001b[39m\u001b[36m \u001b[39m\u001b[32mIn[14]\u001b[39m\u001b[32m, line 24\u001b[39m\n\u001b[32m     20\u001b[39m \u001b[38;5;28mprint\u001b[39m(details, \u001b[38;5;28mtype\u001b[39m(details))\n\u001b[32m     22\u001b[39m \u001b[38;5;28mprint\u001b[39m(\u001b[33m'\u001b[39m\u001b[33m-----------------------------------------------------------\u001b[39m\u001b[33m'\u001b[39m)\n\u001b[32m---> \u001b[39m\u001b[32m24\u001b[39m \u001b[43mdetails\u001b[49m\u001b[43m.\u001b[49m\u001b[43mremove\u001b[49m\u001b[43m(\u001b[49m\u001b[32;43m9500912258\u001b[39;49m\u001b[43m)\u001b[49m\n\u001b[32m     26\u001b[39m \u001b[38;5;28mprint\u001b[39m(details, \u001b[38;5;28mtype\u001b[39m(details))\n",
      "\u001b[31mKeyError\u001b[39m: 9500912258"
     ]
    }
   ],
   "source": [
    "details = {101, 'Sara', 28, 'sara@gmail.com', 'Sara', 101}\n",
    "\n",
    "print(details, type(details))\n",
    "\n",
    "print('-----------------------------------------------------------')\n",
    "\n",
    "details.remove('Sara')\n",
    "\n",
    "print(details, type(details))\n",
    "\n",
    "print('-----------------------------------------------------------')\n",
    "# Discard\n",
    "\n",
    "details.discard(9500912258)\n",
    "\n",
    "print(details, type(details))\n",
    "\n",
    "details.discard(28)\n",
    "\n",
    "print(details, type(details))\n",
    "\n",
    "print('-----------------------------------------------------------')\n",
    "\n",
    "details.remove(9500912258)\n",
    "\n",
    "print(details, type(details))\n",
    "\n"
   ]
  },
  {
   "cell_type": "code",
   "execution_count": null,
   "id": "c58efecc-38e4-4c94-87e2-5c4656eba8e1",
   "metadata": {},
   "outputs": [],
   "source": [
    "'''\n",
    "1. union\n",
    "2. intersection\n",
    "3. symmetric Difference\n",
    "'''"
   ]
  }
 ],
 "metadata": {
  "kernelspec": {
   "display_name": "Python 3 (ipykernel)",
   "language": "python",
   "name": "python3"
  },
  "language_info": {
   "codemirror_mode": {
    "name": "ipython",
    "version": 3
   },
   "file_extension": ".py",
   "mimetype": "text/x-python",
   "name": "python",
   "nbconvert_exporter": "python",
   "pygments_lexer": "ipython3",
   "version": "3.13.2"
  }
 },
 "nbformat": 4,
 "nbformat_minor": 5
}
