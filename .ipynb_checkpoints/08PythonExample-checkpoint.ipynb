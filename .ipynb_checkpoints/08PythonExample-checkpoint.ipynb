{
 "cells": [
  {
   "cell_type": "markdown",
   "id": "044b000e-abfb-4cbd-a932-4ec5df521c77",
   "metadata": {},
   "source": [
    "Tuple:\n",
    "------\n",
    "\n",
    "1. Tuple is a collection of Datatype\n",
    "2. It can store N number of values different Datatype values in a single variable.\n",
    "3. Tuple is a immuatable.\n",
    "4. It will be declare ()\n",
    "5. Tuple also assign a index base value"
   ]
  },
  {
   "cell_type": "code",
   "execution_count": 7,
   "id": "ff090337-f98b-437b-a1eb-6c74c1b8cf2f",
   "metadata": {},
   "outputs": [
    {
     "name": "stdout",
     "output_type": "stream",
     "text": [
      "(100, 'Sara', 27, 'Gender') <class 'tuple'>\n",
      "------------------------------------------------------\n",
      "Sara\n",
      "(27, 'Gender')\n"
     ]
    }
   ],
   "source": [
    "studentDetails = (100, 'Sara', 27, 'Gender')\n",
    "\n",
    "print(studentDetails, type(studentDetails))\n",
    "\n",
    "print('------------------------------------------------------')\n",
    "\n",
    "# get a value using particular index position\n",
    "\n",
    "print(studentDetails[1])\n",
    "\n",
    "# get a last two values using index Manipulation\n",
    "\n",
    "print(studentDetails[2:3+1])"
   ]
  },
  {
   "cell_type": "code",
   "execution_count": 11,
   "id": "a907db57-66f3-4b08-a27e-0606210c0111",
   "metadata": {},
   "outputs": [
    {
     "name": "stdout",
     "output_type": "stream",
     "text": [
      "(100, 'Sara', 27, 'Gender') <class 'tuple'>\n",
      "------------------------------------------------------\n",
      "100\n",
      "Sara\n",
      "27\n",
      "Gender\n",
      "------------------------------------------------------\n",
      "yes value is in your variable\n"
     ]
    }
   ],
   "source": [
    "studentDetails = (100, 'Sara', 27, 'Gender')\n",
    "\n",
    "print(studentDetails, type(studentDetails))\n",
    "\n",
    "print('------------------------------------------------------')\n",
    "\n",
    "for i in studentDetails:\n",
    "    print(i)\n",
    "\n",
    "print('------------------------------------------------------')\n",
    "\n",
    "if 'Sara' in studentDetails:\n",
    "    print('yes value is in your variable')\n",
    "else:\n",
    "    print('No value is not in your variable')"
   ]
  },
  {
   "cell_type": "markdown",
   "id": "162f337c-a897-40d4-832c-74eba65bd86d",
   "metadata": {},
   "source": [
    "# Tuple is a Immutable:\n",
    "-----------------------\n",
    "\n",
    "Cannot change(add, remove) values after variable creation"
   ]
  },
  {
   "cell_type": "code",
   "execution_count": 16,
   "id": "2fab0ea1-0b51-4493-8ab0-455f98ab1a21",
   "metadata": {},
   "outputs": [
    {
     "name": "stdout",
     "output_type": "stream",
     "text": [
      "(100, 'Sara', 27, 'Gender') <class 'tuple'>\n",
      "------------------------------------------------------\n"
     ]
    },
    {
     "ename": "AttributeError",
     "evalue": "'tuple' object has no attribute 'append'",
     "output_type": "error",
     "traceback": [
      "\u001b[31m---------------------------------------------------------------------------\u001b[39m",
      "\u001b[31mAttributeError\u001b[39m                            Traceback (most recent call last)",
      "\u001b[36mCell\u001b[39m\u001b[36m \u001b[39m\u001b[32mIn[16]\u001b[39m\u001b[32m, line 7\u001b[39m\n\u001b[32m      3\u001b[39m \u001b[38;5;28mprint\u001b[39m(studentDetails, \u001b[38;5;28mtype\u001b[39m(studentDetails))\n\u001b[32m      5\u001b[39m \u001b[38;5;28mprint\u001b[39m(\u001b[33m'\u001b[39m\u001b[33m------------------------------------------------------\u001b[39m\u001b[33m'\u001b[39m)\n\u001b[32m----> \u001b[39m\u001b[32m7\u001b[39m \u001b[43mstudentDetails\u001b[49m\u001b[43m.\u001b[49m\u001b[43mappend\u001b[49m(\u001b[32m9500912258\u001b[39m) \u001b[38;5;66;03m# 'tuple' object has no attribute 'append'\u001b[39;00m\n\u001b[32m      9\u001b[39m \u001b[38;5;28mprint\u001b[39m(studentDetails)\n",
      "\u001b[31mAttributeError\u001b[39m: 'tuple' object has no attribute 'append'"
     ]
    }
   ],
   "source": [
    "studentDetails = (100, 'Sara', 27, 'Gender')\n",
    "\n",
    "print(studentDetails, type(studentDetails))\n",
    "\n",
    "print('------------------------------------------------------')\n",
    "\n",
    "studentDetails.append(9500912258) # Error - 'tuple' object has no attribute 'append'\n",
    "\n",
    "print(studentDetails)"
   ]
  },
  {
   "cell_type": "markdown",
   "id": "f9bbf0e7-1060-451d-958e-fd7828a0f21e",
   "metadata": {},
   "source": [
    "Type Casting:\n",
    "-------------\n",
    "    One Datatype to Another DataType will change\n",
    "Possible\n",
    "--------\n",
    "1. int to float\n",
    "2. float to int\n",
    "3. int or float to string\n",
    "4. tuple to list\n",
    "5. list to tupe\n",
    "6. list or tuple to set\n",
    "\n",
    "Not Possible\n",
    "------------\n",
    "1. string to int or float"
   ]
  },
  {
   "cell_type": "code",
   "execution_count": 18,
   "id": "e39d22f2-6c29-4a3e-bbab-2c35b371fe59",
   "metadata": {},
   "outputs": [
    {
     "name": "stdout",
     "output_type": "stream",
     "text": [
      "99.5 <class 'float'>\n",
      "-------------------------\n",
      "99 <class 'int'>\n"
     ]
    }
   ],
   "source": [
    "average = 99.50\n",
    "\n",
    "print(average, type(average))\n",
    "\n",
    "print('-------------------------')\n",
    "\n",
    "average = int(average)\n",
    "\n",
    "print(average, type(average))\n"
   ]
  },
  {
   "cell_type": "code",
   "execution_count": 21,
   "id": "1fb971f0-c7f8-4285-bb68-137be07c9281",
   "metadata": {},
   "outputs": [
    {
     "name": "stdout",
     "output_type": "stream",
     "text": [
      "(100, 'Sara', 27, 'Gender') <class 'tuple'>\n",
      "------------------------------------------------------\n",
      "[100, 'Sara', 27, 'Gender'] <class 'list'>\n",
      "[100, 'Sara', 27, 'Gender', 9500912258]\n",
      "------------------------------------------------------\n",
      "(100, 'Sara', 27, 'Gender', 9500912258) <class 'tuple'>\n"
     ]
    }
   ],
   "source": [
    "studentDetails = (100, 'Sara', 27, 'Gender')\n",
    "\n",
    "print(studentDetails, type(studentDetails))\n",
    "\n",
    "print('------------------------------------------------------')\n",
    "\n",
    "studentDetails = list(studentDetails)\n",
    "\n",
    "print(studentDetails, type(studentDetails))\n",
    "\n",
    "studentDetails.append(9500912258) \n",
    "\n",
    "print(studentDetails)\n",
    "\n",
    "print('------------------------------------------------------')\n",
    "\n",
    "studentDetails = tuple(studentDetails)\n",
    "\n",
    "print(studentDetails, type(studentDetails))\n"
   ]
  },
  {
   "cell_type": "code",
   "execution_count": null,
   "id": "90a2a74d-9b2c-4561-bdac-ee3343d0ade3",
   "metadata": {},
   "outputs": [],
   "source": []
  }
 ],
 "metadata": {
  "kernelspec": {
   "display_name": "Python 3 (ipykernel)",
   "language": "python",
   "name": "python3"
  },
  "language_info": {
   "codemirror_mode": {
    "name": "ipython",
    "version": 3
   },
   "file_extension": ".py",
   "mimetype": "text/x-python",
   "name": "python",
   "nbconvert_exporter": "python",
   "pygments_lexer": "ipython3",
   "version": "3.13.2"
  }
 },
 "nbformat": 4,
 "nbformat_minor": 5
}
