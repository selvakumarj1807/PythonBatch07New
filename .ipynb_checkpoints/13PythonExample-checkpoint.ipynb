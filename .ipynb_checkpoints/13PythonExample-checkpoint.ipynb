{
 "cells": [
  {
   "cell_type": "markdown",
   "id": "6a893db1-62af-4507-81a5-99da906b4769",
   "metadata": {},
   "source": [
    "Random Module:\n",
    "--------------"
   ]
  },
  {
   "cell_type": "code",
   "execution_count": 2,
   "id": "1cb3f35d-51fc-45fa-8c9a-b80a515c76c8",
   "metadata": {},
   "outputs": [],
   "source": [
    "import random"
   ]
  },
  {
   "cell_type": "code",
   "execution_count": 6,
   "id": "28cf2859-4d2c-46f0-8ff2-b509c4202492",
   "metadata": {},
   "outputs": [
    {
     "name": "stdout",
     "output_type": "stream",
     "text": [
      "10\n"
     ]
    }
   ],
   "source": [
    "x = random.randint(1, 10)\n",
    "\n",
    "print(x)"
   ]
  },
  {
   "cell_type": "code",
   "execution_count": 8,
   "id": "98b3a526-7d02-4c03-b892-f551e45b92a7",
   "metadata": {},
   "outputs": [
    {
     "name": "stdout",
     "output_type": "stream",
     "text": [
      "MSc\n"
     ]
    }
   ],
   "source": [
    "departmentNames = ['BSc', 'MSc', 'BA', 'MA']\n",
    "\n",
    "print(random.choice(departmentNames))"
   ]
  },
  {
   "cell_type": "markdown",
   "id": "f87e428f-bde2-46c0-966c-ca80e0daeb14",
   "metadata": {},
   "source": [
    "Exception Handling or Error Handling:\n",
    "-------------------------------------"
   ]
  },
  {
   "cell_type": "code",
   "execution_count": 12,
   "id": "f061f717-3329-4907-b569-c3a11c70a1e1",
   "metadata": {},
   "outputs": [
    {
     "name": "stdout",
     "output_type": "stream",
     "text": [
      "Denominator cannot be zero!\n"
     ]
    }
   ],
   "source": [
    "try:\n",
    "    a = 10\n",
    "    b = 0\n",
    "    c = a / b\n",
    "    print(c)\n",
    "\n",
    "except:\n",
    "    print('Denominator cannot be zero!')"
   ]
  },
  {
   "cell_type": "code",
   "execution_count": 16,
   "id": "8f6d9c43-df51-4489-b63e-58bb79d1d2a6",
   "metadata": {},
   "outputs": [
    {
     "name": "stdout",
     "output_type": "stream",
     "text": [
      "Denominator cannot be zero!\n",
      "division by zero\n"
     ]
    }
   ],
   "source": [
    "try:\n",
    "    a = 10\n",
    "    b = 0\n",
    "    c = a / b\n",
    "    print(c)\n",
    "\n",
    "except Exception as e:\n",
    "    print('Denominator cannot be zero!')\n",
    "\n",
    "    print(e)"
   ]
  },
  {
   "cell_type": "code",
   "execution_count": 19,
   "id": "31efc578-886e-4cc7-907d-420d3218478f",
   "metadata": {},
   "outputs": [
    {
     "name": "stdout",
     "output_type": "stream",
     "text": [
      "5.0\n",
      "Code Run Successfully!\n"
     ]
    }
   ],
   "source": [
    "try:\n",
    "    a = 10\n",
    "    b = 2\n",
    "    c = a / b\n",
    "\n",
    "except Exception as e:\n",
    "    print(e)\n",
    "\n",
    "else:\n",
    "    print(c)\n",
    "    \n",
    "finally:\n",
    "    print('Code Run Successfully!')"
   ]
  },
  {
   "cell_type": "code",
   "execution_count": 20,
   "id": "151cedea-bd01-46f9-8fb4-748f68f06dcf",
   "metadata": {},
   "outputs": [
    {
     "name": "stdout",
     "output_type": "stream",
     "text": [
      "division by zero\n",
      "Code Run Successfully!\n"
     ]
    }
   ],
   "source": [
    "try:\n",
    "    a = 10\n",
    "    b = 0\n",
    "    c = a / b\n",
    "\n",
    "except Exception as e:\n",
    "    print(e)\n",
    "\n",
    "else:\n",
    "    print(c)\n",
    "    \n",
    "finally:\n",
    "    print('Code Run Successfully!')"
   ]
  },
  {
   "cell_type": "code",
   "execution_count": 34,
   "id": "ce48049a-429c-484c-8b5d-04b01eaea74a",
   "metadata": {},
   "outputs": [
    {
     "name": "stdin",
     "output_type": "stream",
     "text": [
      "Enter your name value :  Sara\n",
      "Enter your age :  ss\n"
     ]
    },
    {
     "name": "stdout",
     "output_type": "stream",
     "text": [
      "\n",
      "invalid literal for int() with base 10: 'ss'\n",
      "Enter numeric values only in Age variable\n"
     ]
    },
    {
     "name": "stdin",
     "output_type": "stream",
     "text": [
      "Enter your age :  22\n"
     ]
    },
    {
     "name": "stdout",
     "output_type": "stream",
     "text": [
      "Sara  your age is  22\n"
     ]
    }
   ],
   "source": [
    "try:\n",
    "    name = input('Enter your name value : ')\n",
    "    age = int(input('Enter your age : '))\n",
    "\n",
    "    print(name, ' your age is ', age)\n",
    "    \n",
    "except Exception as e:\n",
    "    print('')\n",
    "    print(e)\n",
    "    print('Enter numeric values only in Age variable')\n",
    "    age = int(input('Enter your age : '))\n",
    "    print(name, ' your age is ', age)"
   ]
  },
  {
   "cell_type": "code",
   "execution_count": 29,
   "id": "3dd2e728-c6f7-4c0f-90af-111a832740b0",
   "metadata": {},
   "outputs": [
    {
     "name": "stdout",
     "output_type": "stream",
     "text": [
      "\n",
      "list index out of range\n"
     ]
    }
   ],
   "source": [
    "try:\n",
    "    ageValues = [10, 20, 30, 18]\n",
    "\n",
    "    print(ageValues[10])\n",
    "    \n",
    "except Exception as e:\n",
    "    print('')\n",
    "    print(e)\n",
    "   "
   ]
  },
  {
   "cell_type": "code",
   "execution_count": 30,
   "id": "c05ce55d-33e8-425d-80bf-cce8b19649cf",
   "metadata": {},
   "outputs": [
    {
     "name": "stdout",
     "output_type": "stream",
     "text": [
      "['ArithmeticError', 'AssertionError', 'AttributeError', 'BaseException', 'BaseExceptionGroup', 'BlockingIOError', 'BrokenPipeError', 'BufferError', 'BytesWarning', 'ChildProcessError', 'ConnectionAbortedError', 'ConnectionError', 'ConnectionRefusedError', 'ConnectionResetError', 'DeprecationWarning', 'EOFError', 'Ellipsis', 'EncodingWarning', 'EnvironmentError', 'Exception', 'ExceptionGroup', 'False', 'FileExistsError', 'FileNotFoundError', 'FloatingPointError', 'FutureWarning', 'GeneratorExit', 'IOError', 'ImportError', 'ImportWarning', 'IndentationError', 'IndexError', 'InterruptedError', 'IsADirectoryError', 'KeyError', 'KeyboardInterrupt', 'LookupError', 'MemoryError', 'ModuleNotFoundError', 'NameError', 'None', 'NotADirectoryError', 'NotImplemented', 'NotImplementedError', 'OSError', 'OverflowError', 'PendingDeprecationWarning', 'PermissionError', 'ProcessLookupError', 'PythonFinalizationError', 'RecursionError', 'ReferenceError', 'ResourceWarning', 'RuntimeError', 'RuntimeWarning', 'StopAsyncIteration', 'StopIteration', 'SyntaxError', 'SyntaxWarning', 'SystemError', 'SystemExit', 'TabError', 'TimeoutError', 'True', 'TypeError', 'UnboundLocalError', 'UnicodeDecodeError', 'UnicodeEncodeError', 'UnicodeError', 'UnicodeTranslateError', 'UnicodeWarning', 'UserWarning', 'ValueError', 'Warning', 'WindowsError', 'ZeroDivisionError', '_IncompleteInputError', '__IPYTHON__', '__build_class__', '__debug__', '__doc__', '__import__', '__loader__', '__name__', '__package__', '__spec__', 'abs', 'aiter', 'all', 'anext', 'any', 'ascii', 'bin', 'bool', 'breakpoint', 'bytearray', 'bytes', 'callable', 'chr', 'classmethod', 'compile', 'complex', 'copyright', 'credits', 'delattr', 'dict', 'dir', 'display', 'divmod', 'enumerate', 'eval', 'exec', 'execfile', 'filter', 'float', 'format', 'frozenset', 'get_ipython', 'getattr', 'globals', 'hasattr', 'hash', 'help', 'hex', 'id', 'input', 'int', 'isinstance', 'issubclass', 'iter', 'len', 'license', 'list', 'locals', 'map', 'max', 'memoryview', 'min', 'next', 'object', 'oct', 'open', 'ord', 'pow', 'print', 'property', 'range', 'repr', 'reversed', 'round', 'runfile', 'set', 'setattr', 'slice', 'sorted', 'staticmethod', 'str', 'sum', 'super', 'tuple', 'type', 'vars', 'zip']\n"
     ]
    }
   ],
   "source": [
    "print(dir(locals()['__builtins__']))"
   ]
  },
  {
   "cell_type": "code",
   "execution_count": 35,
   "id": "c054b665-5408-4f2c-b5cd-195dfa3e3379",
   "metadata": {},
   "outputs": [
    {
     "name": "stdout",
     "output_type": "stream",
     "text": [
      "163\n"
     ]
    }
   ],
   "source": [
    "print(len(dir(locals()['__builtins__'])))"
   ]
  },
  {
   "cell_type": "code",
   "execution_count": 38,
   "id": "5f7e84c2-5b89-461b-a599-a9312347fc20",
   "metadata": {},
   "outputs": [
    {
     "name": "stdout",
     "output_type": "stream",
     "text": [
      "list index out of range\n",
      "Code Run Successfully!\n"
     ]
    }
   ],
   "source": [
    "try:\n",
    "    a = 10\n",
    "    b = 0\n",
    "    c = a / b\n",
    "\n",
    "    ageValues = [10, 20, 30, 18]\n",
    "\n",
    "    print(ageValues[10])\n",
    "\n",
    "except Exception as e:\n",
    "    print(e)\n",
    "\n",
    "else:\n",
    "    print(c)\n",
    "    \n",
    "finally:\n",
    "    print('Code Run Successfully!')"
   ]
  },
  {
   "cell_type": "code",
   "execution_count": null,
   "id": "c3ed15be-c9c9-4cfd-9cad-f862c3056f30",
   "metadata": {},
   "outputs": [],
   "source": []
  }
 ],
 "metadata": {
  "kernelspec": {
   "display_name": "Python 3 (ipykernel)",
   "language": "python",
   "name": "python3"
  },
  "language_info": {
   "codemirror_mode": {
    "name": "ipython",
    "version": 3
   },
   "file_extension": ".py",
   "mimetype": "text/x-python",
   "name": "python",
   "nbconvert_exporter": "python",
   "pygments_lexer": "ipython3",
   "version": "3.13.2"
  }
 },
 "nbformat": 4,
 "nbformat_minor": 5
}
