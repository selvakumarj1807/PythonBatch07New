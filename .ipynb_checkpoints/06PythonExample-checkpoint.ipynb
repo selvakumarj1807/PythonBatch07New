{
 "cells": [
  {
   "cell_type": "markdown",
   "id": "b9504ed1-b3c6-4981-86b3-d0ab58b1744b",
   "metadata": {},
   "source": [
    "String Manipulation:\n",
    "--------------------"
   ]
  },
  {
   "cell_type": "code",
   "execution_count": 2,
   "id": "ff68c8e4-6cea-43d4-a026-bd523707d383",
   "metadata": {},
   "outputs": [
    {
     "name": "stdout",
     "output_type": "stream",
     "text": [
      "Admin <class 'str'>\n"
     ]
    }
   ],
   "source": [
    "name = 'Admin'\n",
    "\n",
    "print(name, type(name))"
   ]
  },
  {
   "cell_type": "code",
   "execution_count": 3,
   "id": "1602f6f2-1cc8-482a-b1c1-5ad37ccd8b7e",
   "metadata": {},
   "outputs": [
    {
     "name": "stdout",
     "output_type": "stream",
     "text": [
      "St Joseph's college <class 'str'>\n"
     ]
    }
   ],
   "source": [
    "college = \"St Joseph's college\"\n",
    "\n",
    "print(college, type(college))"
   ]
  },
  {
   "cell_type": "code",
   "execution_count": 18,
   "id": "c009b945-50a8-4401-be23-2b40ea2fa870",
   "metadata": {},
   "outputs": [
    {
     "name": "stdout",
     "output_type": "stream",
     "text": [
      "Welcome To Python <class 'str'>\n",
      "--------------------------------------------\n",
      "W\n",
      "--------------------------------------------\n",
      "Welcome\n",
      "--------------------------------------------\n",
      "To\n",
      "--------------------------------------------\n",
      "Python\n",
      "--------------------------------------------\n",
      "Welcome\n",
      "--------------------------------------------\n",
      "Python\n",
      "Python\n"
     ]
    }
   ],
   "source": [
    "# String Manipulation\n",
    "# Values Store in Index Based\n",
    "# Index Value Start at 0\n",
    "\n",
    "message = 'Welcome To Python'\n",
    "\n",
    "print(message, type(message))\n",
    "\n",
    "print('--------------------------------------------')\n",
    "\n",
    "print(message[0])\n",
    "\n",
    "print('--------------------------------------------')\n",
    "# variableName[Starting Index Value:Ending Index Value + 1])\n",
    "\n",
    "print(message[0:6+1])\n",
    "\n",
    "print('--------------------------------------------')\n",
    "\n",
    "print(message[8:10])\n",
    "\n",
    "print('--------------------------------------------')\n",
    "\n",
    "print(message[11:])\n",
    "\n",
    "print('--------------------------------------------')\n",
    "\n",
    "print(message[:7])\n",
    "\n",
    "print('--------------------------------------------')\n",
    "\n",
    "print(message[11:17])\n",
    "\n",
    "print(message[-6:])\n"
   ]
  },
  {
   "cell_type": "code",
   "execution_count": null,
   "id": "b0d990fb-19a3-48cc-bf03-d00d4126e499",
   "metadata": {},
   "outputs": [],
   "source": [
    "'''\n",
    "To Write the Python Code for Below Output:\n",
    "\n",
    "Gmail : admin18@gmail.com\n",
    "\n",
    "UserName : admin18\n",
    "'''"
   ]
  },
  {
   "cell_type": "markdown",
   "id": "2c8530a7-d994-428b-9456-95652c92b69d",
   "metadata": {},
   "source": [
    "String Function:\n",
    "----------------"
   ]
  },
  {
   "cell_type": "code",
   "execution_count": 5,
   "id": "bb67aa19-a261-412e-8709-42f1a20582fa",
   "metadata": {},
   "outputs": [
    {
     "name": "stdout",
     "output_type": "stream",
     "text": [
      "hI wELComE tO PYthOn <class 'str'>\n",
      "--------------------------------------------------\n",
      "hi welcome to python\n",
      "HI WELCOME TO PYTHON\n",
      "Hi welcome to python\n",
      "Hi Welcome To Python\n"
     ]
    }
   ],
   "source": [
    "msg = 'hI wELComE tO PYthOn'\n",
    "\n",
    "print(msg, type(msg))\n",
    "\n",
    "print('--------------------------------------------------')\n",
    "\n",
    "print(msg.lower())\n",
    "\n",
    "print(msg.upper())\n",
    "\n",
    "print(msg.capitalize())\n",
    "\n",
    "print(msg.title())"
   ]
  },
  {
   "cell_type": "code",
   "execution_count": 8,
   "id": "85ea6b88-1177-4e27-8410-b3da14af4fb3",
   "metadata": {},
   "outputs": [
    {
     "name": "stdout",
     "output_type": "stream",
     "text": [
      "Hi Welcome To Python <class 'str'>\n",
      "--------------------------------------------------\n",
      "3\n",
      "7\n"
     ]
    }
   ],
   "source": [
    "msg = 'Hi Welcome To Python'\n",
    "\n",
    "print(msg, type(msg))\n",
    "\n",
    "print('--------------------------------------------------')\n",
    "\n",
    "print(msg.count('o')) # To Find Count Of Value\n",
    "\n",
    "print(msg.find('o')) # To Find Value Of Index Position"
   ]
  },
  {
   "cell_type": "code",
   "execution_count": 15,
   "id": "ab94be0d-8a2f-4aaf-b336-c83d50e3b7a6",
   "metadata": {},
   "outputs": [
    {
     "name": "stdin",
     "output_type": "stream",
     "text": [
      "Enter Your Email :  admin18@gmail.com\n"
     ]
    },
    {
     "name": "stdout",
     "output_type": "stream",
     "text": [
      "admin18@gmail.com\n",
      "-------------------------------------------\n",
      "7\n",
      "admin18\n"
     ]
    }
   ],
   "source": [
    "email = input('Enter Your Email : ')\n",
    "\n",
    "print(email)\n",
    "\n",
    "print('-------------------------------------------')\n",
    "find = email.find('@')\n",
    "\n",
    "print(find)\n",
    "\n",
    "print('-------------------------------------------')\n",
    "\n",
    "print(email[0:find])"
   ]
  },
  {
   "cell_type": "code",
   "execution_count": 18,
   "id": "07dabab7-1fe3-47ab-8d40-8a6361ef05ef",
   "metadata": {},
   "outputs": [
    {
     "name": "stdout",
     "output_type": "stream",
     "text": [
      "Hi Welcome To Python\n",
      "--------------------------------------------------\n",
      "Hi Welcome To Java\n"
     ]
    }
   ],
   "source": [
    "# Replace\n",
    "\n",
    "msg = 'Hi Welcome To Python'\n",
    "\n",
    "print(msg)\n",
    "\n",
    "print('--------------------------------------------------')\n",
    "\n",
    "print(msg.replace('Python', 'Java'))\n"
   ]
  },
  {
   "cell_type": "code",
   "execution_count": 29,
   "id": "de198025-fb5e-4f9b-b383-5d5731c189c5",
   "metadata": {},
   "outputs": [
    {
     "name": "stdout",
     "output_type": "stream",
     "text": [
      "Hi Welcome To Python\n",
      "--------------------------------------------------\n",
      "St Joseph's College\n",
      "--------------------------------------------------\n",
      "A paragraph is a distinct unit of writing, typically consisting of multiple sentences, that focuses on a single idea or topic. It serves to organize and structure written work, making it easier for readers to follow the author's train of thought.\n",
      "--------------------------------------------------\n",
      " A paragraph is a distinct unit of writing, typically consisting of multiple sentences,\n",
      " that focuses on a single idea or topic. \n",
      " It serves to organize and structure written work,\n",
      " making it easier for readers to follow the author's train of thought.\n",
      "--------------------------------------------------\n",
      "--------------------------------------------------\n",
      "\n",
      "A paragraph is a distinct unit of writing, typically consisting of multiple sentences,\n",
      "that focuses on a single idea or topic.\n",
      "It serves to organize and structure written work,\n",
      "making it easier for readers to follow the author's train of thought.\n",
      "\n"
     ]
    }
   ],
   "source": [
    "sentence = 'Hi Welcome To Python'\n",
    "\n",
    "print(sentence)\n",
    "\n",
    "print('--------------------------------------------------')\n",
    "\n",
    "sentence02 = \"St Joseph's College\"\n",
    "\n",
    "print(sentence02)\n",
    "\n",
    "print('--------------------------------------------------')\n",
    "\n",
    "para01 = \"A paragraph is a distinct unit of writing, typically consisting of multiple sentences, that focuses on a single idea or topic. It serves to organize and structure written work, making it easier for readers to follow the author's train of thought.\"\n",
    "\n",
    "print(para01)\n",
    "\n",
    "print('--------------------------------------------------')\n",
    "\n",
    "para02 = \" A paragraph is a distinct unit of writing, typically consisting of multiple sentences,\\n that focuses on a single idea or topic. \\n It serves to organize and structure written work,\\n making it easier for readers to follow the author's train of thought.\"\n",
    "\n",
    "print(para02)\n",
    "\n",
    "print('--------------------------------------------------')\n",
    "\n",
    "# Single Line Comment\n",
    "\n",
    "'''\n",
    "Multi\n",
    "Line\n",
    "Comment\n",
    "'''\n",
    "\n",
    "print('--------------------------------------------------')\n",
    "\n",
    "para03 = '''\n",
    "A paragraph is a distinct unit of writing, typically consisting of multiple sentences,\n",
    "that focuses on a single idea or topic.\n",
    "It serves to organize and structure written work,\n",
    "making it easier for readers to follow the author's train of thought.\n",
    "'''\n",
    "\n",
    "print(para03)"
   ]
  },
  {
   "cell_type": "markdown",
   "id": "2168a943-398f-4b00-8d80-e1d8e6dda2ff",
   "metadata": {},
   "source": [
    "String Function:\n",
    "----------------"
   ]
  },
  {
   "cell_type": "code",
   "execution_count": 5,
   "id": "fbacd05a-c580-4623-bfd9-e366713bc0e7",
   "metadata": {},
   "outputs": [
    {
     "name": "stdout",
     "output_type": "stream",
     "text": [
      "Hi Welcome To Python\n",
      "--------------------------------------------------\n",
      "True\n",
      "False\n",
      "--------------------------------------------------\n",
      "True\n",
      "False\n"
     ]
    }
   ],
   "source": [
    "sentence = 'Hi Welcome To Python'\n",
    "\n",
    "print(sentence)\n",
    "\n",
    "print('--------------------------------------------------')\n",
    "\n",
    "print(sentence.startswith('Hi'))\n",
    "\n",
    "print(sentence.startswith('HI'))\n",
    "\n",
    "print('--------------------------------------------------')\n",
    "\n",
    "print(sentence.endswith('Python'))\n",
    "\n",
    "print(sentence.endswith('Java'))"
   ]
  },
  {
   "cell_type": "code",
   "execution_count": 15,
   "id": "c5001e69-cb57-496d-99b3-065926594bf3",
   "metadata": {},
   "outputs": [
    {
     "name": "stdout",
     "output_type": "stream",
     "text": [
      "True\n",
      "--------------------------------------------------\n",
      "True\n",
      "--------------------------------------------------\n",
      "True\n",
      "--------------------------------------------------\n",
      "True\n",
      "--------------------------------------------------\n"
     ]
    }
   ],
   "source": [
    "a = 'WELCOME'\n",
    "\n",
    "print(a.isupper())\n",
    "\n",
    "print('--------------------------------------------------')\n",
    "\n",
    "a = 'welocme'\n",
    "\n",
    "print(a.islower())\n",
    "\n",
    "print('--------------------------------------------------')\n",
    "\n",
    "a = 'WELcome'\n",
    "\n",
    "print(a.isalpha())\n",
    "\n",
    "print('--------------------------------------------------')\n",
    "\n",
    "a = 'Admin 123'\n",
    "\n",
    "print(a.isalnum())\n",
    "\n",
    "print('--------------------------------------------------')\n"
   ]
  },
  {
   "cell_type": "markdown",
   "id": "e09a3ad2-1037-4746-ba2b-5642c5014593",
   "metadata": {},
   "source": [
    "List Example:\n",
    "-------------\n",
    "\n",
    "    List is a collection of Datatype. It can store many different Datatype values in a single variable.\n",
    "    List Declare []."
   ]
  },
  {
   "cell_type": "code",
   "execution_count": 26,
   "id": "548e32d6-830f-47a5-8ef7-f946f056b789",
   "metadata": {},
   "outputs": [
    {
     "name": "stdout",
     "output_type": "stream",
     "text": [
      "[28, 22, 23, 24] <class 'list'>\n",
      "----------------------------------------\n",
      "23\n"
     ]
    }
   ],
   "source": [
    "age = [28, 22, 23, 24]\n",
    "\n",
    "print(age, type(age))\n",
    "\n",
    "print('----------------------------------------')\n",
    "\n",
    "print(age[2])"
   ]
  },
  {
   "cell_type": "markdown",
   "id": "171a9488-3662-4ec0-a9af-6b9f2f902883",
   "metadata": {},
   "source": [
    "Split Lines:\n",
    "------------"
   ]
  },
  {
   "cell_type": "code",
   "execution_count": 27,
   "id": "f1e04ea4-8bb2-4431-a351-e800e1d7771c",
   "metadata": {},
   "outputs": [
    {
     "name": "stdout",
     "output_type": "stream",
     "text": [
      "A paragraph is a distinct unit of writing, typically consisting of multiple sentences,\n",
      "that focuses on a single idea or topic.\n",
      "It serves to organize and structure written work,\n",
      "making it easier for readers to follow the author's train of thought.\n",
      "\n",
      "--------------------------------------------------\n",
      "['A paragraph is a distinct unit of writing, typically consisting of multiple sentences,', 'that focuses on a single idea or topic.', 'It serves to organize and structure written work,', \"making it easier for readers to follow the author's train of thought.\"]\n",
      "--------------------------------------------------\n",
      "['A paragraph is a distinct unit of writing, typically consisting of multiple sentences,', 'that focuses on a single idea or topic.', 'It serves to organize and structure written work,', \"making it easier for readers to follow the author's train of thought.\"] <class 'list'>\n",
      "--------------------------------------------------\n",
      "Line No.3 :  It serves to organize and structure written work,\n"
     ]
    }
   ],
   "source": [
    "para03 = '''A paragraph is a distinct unit of writing, typically consisting of multiple sentences,\n",
    "that focuses on a single idea or topic.\n",
    "It serves to organize and structure written work,\n",
    "making it easier for readers to follow the author's train of thought.\n",
    "'''\n",
    "\n",
    "print(para03)\n",
    "\n",
    "print('--------------------------------------------------')\n",
    "\n",
    "print(para03.splitlines())\n",
    "\n",
    "print('--------------------------------------------------')\n",
    "\n",
    "line = para03.splitlines()\n",
    "\n",
    "print(line, type(line))\n",
    "\n",
    "print('--------------------------------------------------')\n",
    "\n",
    "print('Line No.3 : ', line[2])"
   ]
  },
  {
   "cell_type": "markdown",
   "id": "6afa2f32-68d7-47a6-a4cd-08af2ca3a92e",
   "metadata": {},
   "source": [
    "Split:\n",
    "------"
   ]
  },
  {
   "cell_type": "code",
   "execution_count": 32,
   "id": "d5e68511-0a42-4416-98a2-507e8b76c6d5",
   "metadata": {},
   "outputs": [
    {
     "name": "stdout",
     "output_type": "stream",
     "text": [
      "Selva 26 Male selva@gmail.com <class 'str'>\n",
      "--------------------------------------------------\n",
      "['Selva', '26', 'Male', 'selva@gmail.com'] <class 'list'>\n",
      "Name :  Selva\n",
      "Age :  26\n",
      "Gender :  Male\n",
      "Gmail :  selva@gmail.com\n"
     ]
    }
   ],
   "source": [
    "# Example 01:\n",
    "\n",
    "details = 'Selva 26 Male selva@gmail.com'\n",
    "\n",
    "print(details, type(details))\n",
    "\n",
    "print('--------------------------------------------------')\n",
    "\n",
    "listValues = details.split(' ')\n",
    "\n",
    "print(listValues, type(listValues))\n",
    "\n",
    "print('Name : ', listValues[0])\n",
    "print('Age : ', listValues[1])\n",
    "print('Gender : ', listValues[2])\n",
    "print('Gmail : ', listValues[3])"
   ]
  },
  {
   "cell_type": "code",
   "execution_count": 39,
   "id": "f95916f7-3591-4c49-a690-381e5257c4c5",
   "metadata": {},
   "outputs": [
    {
     "name": "stdout",
     "output_type": "stream",
     "text": [
      "Selva - 26 - Male - selva@gmail.com <class 'str'>\n",
      "--------------------------------------------------\n",
      "['Selva ', ' 26 ', ' Male ', ' selva@gmail.com'] <class 'list'>\n",
      "Name :  Selva \n",
      "Age :   26 \n",
      "Gender :   Male \n",
      "Gmail :   selva@gmail.com\n"
     ]
    }
   ],
   "source": [
    "# Example 02:\n",
    "\n",
    "details = 'Selva - 26 - Male - selva@gmail.com'\n",
    "\n",
    "print(details, type(details))\n",
    "\n",
    "print('--------------------------------------------------')\n",
    "\n",
    "listValues = details.split('-')\n",
    "\n",
    "print(listValues, type(listValues))\n",
    "\n",
    "print('Name : ', listValues[0])\n",
    "print('Age : ', listValues[1])\n",
    "print('Gender : ', listValues[2])\n",
    "print('Gmail : ', listValues[3])"
   ]
  },
  {
   "cell_type": "markdown",
   "id": "b4c6b3d4-9524-474e-8b4c-141c219ce56d",
   "metadata": {},
   "source": [
    "Join :\n",
    "------"
   ]
  },
  {
   "cell_type": "code",
   "execution_count": 45,
   "id": "1aa556ec-eb62-421b-a2d3-aa2e91594381",
   "metadata": {},
   "outputs": [
    {
     "name": "stdout",
     "output_type": "stream",
     "text": [
      "['Selva ', ' 26 ', ' Male ', ' selva@gmail.com'] <class 'list'>\n",
      "--------------------------------------------------\n",
      "Selva / 26 / Male / selva@gmail.com <class 'str'>\n"
     ]
    }
   ],
   "source": [
    "ListDetails = ['Selva ', ' 26 ', ' Male ', ' selva@gmail.com']\n",
    "\n",
    "print(ListDetails, type(ListDetails))\n",
    "\n",
    "print('--------------------------------------------------')\n",
    "\n",
    "joinDetails = '/'.join(ListDetails)\n",
    "\n",
    "print(joinDetails, type(joinDetails))\n"
   ]
  },
  {
   "cell_type": "code",
   "execution_count": null,
   "id": "e941edeb-ec8c-46f0-931c-7697cc0605f4",
   "metadata": {},
   "outputs": [],
   "source": []
  }
 ],
 "metadata": {
  "kernelspec": {
   "display_name": "Python 3 (ipykernel)",
   "language": "python",
   "name": "python3"
  },
  "language_info": {
   "codemirror_mode": {
    "name": "ipython",
    "version": 3
   },
   "file_extension": ".py",
   "mimetype": "text/x-python",
   "name": "python",
   "nbconvert_exporter": "python",
   "pygments_lexer": "ipython3",
   "version": "3.13.2"
  }
 },
 "nbformat": 4,
 "nbformat_minor": 5
}
