{
 "cells": [
  {
   "cell_type": "markdown",
   "id": "25f2d0fd-12ed-4d3d-989d-96c059dfb4e5",
   "metadata": {},
   "source": [
    "Python Operators:\n",
    "-----------------\n",
    "\n",
    "1. Arithmatic Operators\n",
    "2. Arithmatic Assignment Operators\n",
    "3. Relational or Comparision Operators\n",
    "4. Logical Operators\n",
    "5. In & Not In\n",
    "6. Is & Is Not\n",
    "7. Bitwise Operators"
   ]
  },
  {
   "cell_type": "markdown",
   "id": "f9676854-2ae3-45a6-a564-11dab32b8377",
   "metadata": {},
   "source": [
    "# 1. Arithmatic Operators :\n",
    "---------------------------\n",
    "\n",
    "1. Addition(+)\n",
    "2. Subtration(-)\n",
    "3. Multiplication(*)\n",
    "4. Division(/)\n",
    "5. Floor Division(//)\n",
    "6. Exponentiation(**)\n",
    "7. modulas(%)"
   ]
  },
  {
   "cell_type": "code",
   "execution_count": 1,
   "id": "d7d4e20b-ffd7-48fc-9de1-0760fd2b9d07",
   "metadata": {
    "scrolled": true
   },
   "outputs": [
    {
     "name": "stdout",
     "output_type": "stream",
     "text": [
      "Addition(+) :  12\n",
      "Subtration(-) :  8\n",
      "Multiplication(*) :  20\n",
      "Division(/) :  5.0\n",
      "Floor Division(//) :  5\n",
      "Exponentiation(**) :  100\n",
      "Modulas(%) :  1\n",
      "Division(/) :  3.5\n"
     ]
    }
   ],
   "source": [
    "print('Addition(+) : ',10 + 2 )\n",
    "\n",
    "print('Subtration(-) : ',10 - 2 )\n",
    "\n",
    "print('Multiplication(*) : ',10 * 2 )\n",
    "\n",
    "print('Division(/) : ',10 / 2 )\n",
    "\n",
    "print('Floor Division(//) : ',10 // 2 )\n",
    "\n",
    "print('Exponentiation(**) : ',10 ** 2 ) # 10 * 10 = 100\n",
    "\n",
    "print('Modulas(%) : ', 7 % 2) # return remainder value\n",
    "\n",
    "print('Division(/) : ',7 / 2 ) # return qutiont value"
   ]
  },
  {
   "cell_type": "markdown",
   "id": "745e5e48-778a-46fa-9f38-8fbf943ea23e",
   "metadata": {},
   "source": [
    "# 2. Arithmatic Assignment Operators:\n",
    "-------------------------------------"
   ]
  },
  {
   "cell_type": "code",
   "execution_count": 4,
   "id": "21672dc8-4f81-4bd1-a2a7-91d3733f0931",
   "metadata": {},
   "outputs": [
    {
     "name": "stdout",
     "output_type": "stream",
     "text": [
      "Assignment Operators(=) :  10\n",
      "Arithmatic Assignment Operators (+=) :  11\n",
      "Arithmatic Assignment Operators (-=) :  9\n",
      "Arithmatic Assignment Operators (*=) :  20\n",
      "Arithmatic Assignment Operators (/=) :  5.0\n",
      "Arithmatic Assignment Operators (//=) :  10\n",
      "Arithmatic Assignment Operators (**=) :  100\n",
      "Arithmatic Assignment Operators (%=) :  0\n"
     ]
    }
   ],
   "source": [
    "# Assignment Operators :\n",
    "\n",
    "a = 10\n",
    "\n",
    "print('Assignment Operators(=) : ', a)\n",
    "\n",
    "# Arithmatic Assignment Operators\n",
    "\n",
    "a = 10\n",
    "a += 1 # a = a + 1 = a = 10 + 1\n",
    "print('Arithmatic Assignment Operators (+=) : ', a)\n",
    "\n",
    "a = 10\n",
    "a -= 1 # a = a - 1 = a = 10 - 1\n",
    "print('Arithmatic Assignment Operators (-=) : ', a)\n",
    "\n",
    "a = 10\n",
    "a *= 2 # a = a * 2 = a = 10 * 2\n",
    "print('Arithmatic Assignment Operators (*=) : ', a)\n",
    "\n",
    "a = 10\n",
    "a /= 2 # a = a / 2 = a = 10 / 2\n",
    "print('Arithmatic Assignment Operators (/=) : ', a)\n",
    "\n",
    "a = 10\n",
    "a //= 1 \n",
    "print('Arithmatic Assignment Operators (//=) : ', a)\n",
    "\n",
    "a = 10\n",
    "a **= 2\n",
    "print('Arithmatic Assignment Operators (**=) : ', a)\n",
    "\n",
    "a = 10\n",
    "a %= 2 # a = a % 2 = a = 10 * 2\n",
    "print('Arithmatic Assignment Operators (%=) : ', a)"
   ]
  },
  {
   "cell_type": "code",
   "execution_count": null,
   "id": "99d4bab7-e391-4841-8f32-963b4d2f2087",
   "metadata": {},
   "outputs": [],
   "source": [
    "'''\n",
    "ToDay Work:\n",
    "-----------\n",
    "\n",
    "To Write the Python Code for below output\n",
    "\n",
    "Enter the Value 01: 10\n",
    "Enter the value 02: 20\n",
    "\n",
    "10 + 20 = 30\n",
    "10 - 20 = -10\n",
    "10 * 20 = 200\n",
    "10 / 20 = 0.5\n",
    "10 // 20 =\n",
    "10 ** 20 = \n",
    "10 % 20 = \n",
    "'''"
   ]
  }
 ],
 "metadata": {
  "kernelspec": {
   "display_name": "Python 3 (ipykernel)",
   "language": "python",
   "name": "python3"
  },
  "language_info": {
   "codemirror_mode": {
    "name": "ipython",
    "version": 3
   },
   "file_extension": ".py",
   "mimetype": "text/x-python",
   "name": "python",
   "nbconvert_exporter": "python",
   "pygments_lexer": "ipython3",
   "version": "3.13.2"
  }
 },
 "nbformat": 4,
 "nbformat_minor": 5
}
