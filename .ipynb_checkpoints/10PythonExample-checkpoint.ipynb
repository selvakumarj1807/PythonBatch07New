{
 "cells": [
  {
   "cell_type": "markdown",
   "id": "a8efa92e-65ab-43cf-875a-27966e706737",
   "metadata": {},
   "source": [
    "Dictionary:\n",
    "-----------\n",
    "\n",
    "1. Dictionary Is Collection of Datatype.\n",
    "2. It can Store N Number of Different Datatype in a Single Variable baseddon Key and Pair values.\n",
    "3. {'Key': 'Value'}\n",
    "4. It Can not store Values Index Based\n",
    "5. It Can Always used for Remove Douplicate Values"
   ]
  },
  {
   "cell_type": "code",
   "execution_count": 4,
   "id": "7f388bbe-6b1f-4109-a218-6e34f45eace2",
   "metadata": {},
   "outputs": [
    {
     "name": "stdout",
     "output_type": "stream",
     "text": [
      "{'StudentID': 101, 'Name': 'Sara', 'Age': 25, 'Married': False} <class 'dict'>\n"
     ]
    }
   ],
   "source": [
    "details = {'StudentID': 101, 'Name': 'Sara', 'Age': 25, 'Married': False}\n",
    "\n",
    "print(details, type(details))"
   ]
  },
  {
   "cell_type": "markdown",
   "id": "ec6061e7-594e-46de-90e8-94e458d2ec90",
   "metadata": {},
   "source": [
    "Get a Single Value:\n",
    "-------------------"
   ]
  },
  {
   "cell_type": "code",
   "execution_count": 7,
   "id": "7cee38f5-dc34-445e-88b6-693129f87a61",
   "metadata": {},
   "outputs": [
    {
     "name": "stdout",
     "output_type": "stream",
     "text": [
      "{'StudentID': 101, 'Name': 'Sara', 'Age': 25, 'Married': False}\n",
      "----------------------------------------------------------------\n",
      "25 <class 'int'>\n",
      "----------------------------------------------------------------\n",
      "101 - Sara - 25 - False\n"
     ]
    }
   ],
   "source": [
    "details = {'StudentID': 101, 'Name': 'Sara', 'Age': 25, 'Married': False}\n",
    "\n",
    "print(details)\n",
    "\n",
    "print('----------------------------------------------------------------')\n",
    "\n",
    "StudentAge = details['Age']\n",
    "\n",
    "print(StudentAge, type(StudentAge))\n",
    "\n",
    "print('----------------------------------------------------------------')\n",
    "\n",
    "studId = details['StudentID']\n",
    "studName = details['Name']\n",
    "studAge = details['Age']\n",
    "MaritialStatus = details['Married']\n",
    "\n",
    "print(studId, '-', studName, '-', studAge, '-', MaritialStatus)"
   ]
  },
  {
   "cell_type": "markdown",
   "id": "a514d475-7fe4-4933-a36d-6da07c2017bc",
   "metadata": {},
   "source": [
    "If Condition in Dictionary DataType:\n",
    "------------------------------------"
   ]
  },
  {
   "cell_type": "code",
   "execution_count": 1,
   "id": "bc72a759-7b1f-48c3-afe7-a5187c310c23",
   "metadata": {},
   "outputs": [
    {
     "name": "stdout",
     "output_type": "stream",
     "text": [
      "{'StudentID': 101, 'Name': 'Sara', 'Age': 25, 'Married': False}\n",
      "----------------------------------------------------------------\n",
      "25 <class 'int'>\n",
      "----------------------------------------------------------------\n",
      "25 Eligible for vote\n"
     ]
    }
   ],
   "source": [
    "details = {'StudentID': 101, 'Name': 'Sara', 'Age': 25, 'Married': False}\n",
    "\n",
    "print(details)\n",
    "\n",
    "print('----------------------------------------------------------------')\n",
    "\n",
    "StudentAge = details['Age']\n",
    "\n",
    "print(StudentAge, type(StudentAge))\n",
    "\n",
    "print('----------------------------------------------------------------')\n",
    "\n",
    "if StudentAge >= 18:\n",
    "    print(StudentAge, 'Eligible for vote')\n",
    "else:\n",
    "    print(StudentAge, 'Not eligible for vote')"
   ]
  },
  {
   "cell_type": "code",
   "execution_count": 12,
   "id": "f494ea17-9f5b-4c6d-a774-0e509f43096d",
   "metadata": {},
   "outputs": [
    {
     "name": "stdout",
     "output_type": "stream",
     "text": [
      "StudentID -  101\n",
      "Name -  Sara\n",
      "Age -  25\n",
      "Married -  False\n"
     ]
    }
   ],
   "source": [
    "for i in details:\n",
    "    print(i, '- ', details[i])"
   ]
  },
  {
   "cell_type": "code",
   "execution_count": 3,
   "id": "88147d1f-a4c2-440e-9845-d94573d71a09",
   "metadata": {},
   "outputs": [
    {
     "name": "stdout",
     "output_type": "stream",
     "text": [
      "{'user1': {'Name': 'Sara', 'Age': 25}, 'user2': {'Name': 'Admin', 'Age': 22}} <class 'dict'>\n"
     ]
    }
   ],
   "source": [
    "users = {\n",
    "    'user1': {'Name': 'Sara', 'Age': 25},\n",
    "    'user2': {'Name': 'Admin', 'Age': 22}     \n",
    "}\n",
    "\n",
    "print(users, type(users))"
   ]
  },
  {
   "cell_type": "code",
   "execution_count": 7,
   "id": "56ac68cf-db6f-4692-b918-1a08628023ec",
   "metadata": {},
   "outputs": [
    {
     "name": "stdout",
     "output_type": "stream",
     "text": [
      "Sara  your age is  25\n"
     ]
    }
   ],
   "source": [
    "# user1 Values\n",
    "\n",
    "user01Name = users ['user1'] ['Name']\n",
    "\n",
    "user01Age = users ['user1']['Age']\n",
    "\n",
    "print(user01Name, ' your age is ', user01Age)"
   ]
  },
  {
   "cell_type": "markdown",
   "id": "677840ee-ba39-47ad-b893-fa0f0ea5882c",
   "metadata": {},
   "source": [
    "Change Values after Variable Declaration:\n",
    "-----------------------------------------"
   ]
  },
  {
   "cell_type": "code",
   "execution_count": 10,
   "id": "e5d15c7e-697c-4709-9551-15c6270b7211",
   "metadata": {},
   "outputs": [
    {
     "name": "stdout",
     "output_type": "stream",
     "text": [
      "{'StudentID': 101, 'Name': 'Sara', 'Age': 25, 'Married': False}\n",
      "----------------------------------------------------------------\n",
      "Sara\n",
      "----------------------------------------------------------------\n",
      "{'StudentID': 101, 'Name': 'Dev', 'Age': 25, 'Married': False}\n"
     ]
    }
   ],
   "source": [
    "details = {'StudentID': 101, 'Name': 'Sara', 'Age': 25, 'Married': False}\n",
    "\n",
    "print(details)\n",
    "\n",
    "print('----------------------------------------------------------------')\n",
    "\n",
    "studentName = details['Name']\n",
    "\n",
    "print(studentName)\n",
    "\n",
    "print('----------------------------------------------------------------')\n",
    "\n",
    "details['Name'] = 'Dev' \n",
    "\n",
    "print(details)"
   ]
  },
  {
   "cell_type": "markdown",
   "id": "35ace093-fea9-4afa-8845-015e1c3db58f",
   "metadata": {},
   "source": [
    "Add Values after Variable Declaration:\n",
    "--------------------------------------"
   ]
  },
  {
   "cell_type": "code",
   "execution_count": 16,
   "id": "1f9ec045-3928-44c5-8bb2-c2b3241e4520",
   "metadata": {},
   "outputs": [
    {
     "name": "stdout",
     "output_type": "stream",
     "text": [
      "{'StudentID': 101, 'Name': 'Sara', 'Age': 25, 'Married': False}\n",
      "----------------------------------------------------------------\n",
      "{'StudentID': 101, 'Name': 'Sara', 'Age': 25, 'Married': False, 'Mobile': 9500912258}\n",
      "----------------------------------------------------------------\n",
      "{'StudentID': 101, 'Name': 'Sara', 'Age': 25, 'Married': False, 'Mobile': 9500912258, 'AccNo': 10950091225801, 'City': 'Chennai'}\n"
     ]
    }
   ],
   "source": [
    "details = {'StudentID': 101, 'Name': 'Sara', 'Age': 25, 'Married': False}\n",
    "\n",
    "print(details)\n",
    "\n",
    "print('----------------------------------------------------------------')\n",
    "\n",
    "details.update({'Mobile' : 9500912258})\n",
    "\n",
    "print(details)\n",
    "\n",
    "print('----------------------------------------------------------------')\n",
    "\n",
    "afterV_Dict = {'AccNo': 10950091225801, 'City': 'Chennai'}\n",
    "\n",
    "details.update(afterV_Dict)\n",
    "\n",
    "print(details)"
   ]
  },
  {
   "cell_type": "markdown",
   "id": "1c79be96-5986-4773-8cac-3ca1d6071e15",
   "metadata": {},
   "source": [
    "Remove Values after Variable Declaration:\n",
    "-----------------------------------------"
   ]
  },
  {
   "cell_type": "code",
   "execution_count": 19,
   "id": "07b1e2d5-2bb4-4a0c-bb3d-8df9c6a89c5f",
   "metadata": {},
   "outputs": [
    {
     "name": "stdout",
     "output_type": "stream",
     "text": [
      "{'StudentID': 101, 'Name': 'Sara', 'Age': 25, 'Married': False}\n",
      "----------------------------------------------------------------\n",
      "{'StudentID': 101, 'Name': 'Sara', 'Age': 25}\n",
      "----------------------------------------------------------------\n",
      "{}\n"
     ]
    }
   ],
   "source": [
    "details = {'StudentID': 101, 'Name': 'Sara', 'Age': 25, 'Married': False}\n",
    "\n",
    "print(details)\n",
    "\n",
    "print('----------------------------------------------------------------')\n",
    "\n",
    "details.pop('Married')\n",
    "\n",
    "print(details)\n",
    "\n",
    "print('----------------------------------------------------------------')\n",
    "\n",
    "details.clear()\n",
    "\n",
    "print(details)"
   ]
  },
  {
   "cell_type": "code",
   "execution_count": 21,
   "id": "c91a3dd8-141e-4757-8774-51688aed3d66",
   "metadata": {},
   "outputs": [
    {
     "name": "stdout",
     "output_type": "stream",
     "text": [
      "{'user1': {'Name': 'Sara', 'Age': 25}, 'user2': {'Name': 'Admin', 'Age': 22}} <class 'dict'>\n",
      "----------------------------------------------------------------\n",
      "Sara  your age is  25\n",
      "Admin  your age is  22\n"
     ]
    }
   ],
   "source": [
    "users = {\n",
    "    'user1': {'Name': 'Sara', 'Age': 25},\n",
    "    'user2': {'Name': 'Admin', 'Age': 22},\n",
    "    'user3': {'Name': 'Dev', 'Age': 21}\n",
    "}\n",
    "\n",
    "print(users, type(users))\n",
    "print('----------------------------------------------------------------')\n",
    "\n",
    "# user1 Values\n",
    "\n",
    "user01Name = users ['user1'] ['Name']\n",
    "\n",
    "user01Age = users ['user1']['Age']\n",
    "\n",
    "print(user01Name, ' your age is ', user01Age)\n",
    "\n",
    "# user2 Values\n",
    "\n",
    "user02Name = users ['user2'] ['Name']\n",
    "\n",
    "user02Age = users ['user2']['Age']\n",
    "\n",
    "print(user02Name, ' your age is ', user02Age)"
   ]
  },
  {
   "cell_type": "code",
   "execution_count": null,
   "id": "4346a19e-61bf-4ae8-80e9-13b14b1422a6",
   "metadata": {},
   "outputs": [],
   "source": []
  }
 ],
 "metadata": {
  "kernelspec": {
   "display_name": "Python 3 (ipykernel)",
   "language": "python",
   "name": "python3"
  },
  "language_info": {
   "codemirror_mode": {
    "name": "ipython",
    "version": 3
   },
   "file_extension": ".py",
   "mimetype": "text/x-python",
   "name": "python",
   "nbconvert_exporter": "python",
   "pygments_lexer": "ipython3",
   "version": "3.13.2"
  }
 },
 "nbformat": 4,
 "nbformat_minor": 5
}
