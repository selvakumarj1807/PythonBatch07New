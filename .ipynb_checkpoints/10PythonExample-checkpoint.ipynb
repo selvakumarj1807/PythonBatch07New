{
 "cells": [
  {
   "cell_type": "markdown",
   "id": "a8efa92e-65ab-43cf-875a-27966e706737",
   "metadata": {},
   "source": [
    "Dictionary:\n",
    "-----------\n",
    "\n",
    "1. Dictionary Is Collection of Datatype.\n",
    "2. It can Store N Number of Different Datatype in a Single Variable baseddon Key and Pair values.\n",
    "3. {'Key': 'Value'}\n",
    "4. It Can not store Values Index Based\n",
    "5. It Can Always used for Remove Douplicate Values"
   ]
  },
  {
   "cell_type": "code",
   "execution_count": 4,
   "id": "7f388bbe-6b1f-4109-a218-6e34f45eace2",
   "metadata": {},
   "outputs": [
    {
     "name": "stdout",
     "output_type": "stream",
     "text": [
      "{'StudentID': 101, 'Name': 'Sara', 'Age': 25, 'Married': False} <class 'dict'>\n"
     ]
    }
   ],
   "source": [
    "details = {'StudentID': 101, 'Name': 'Sara', 'Age': 25, 'Married': False}\n",
    "\n",
    "print(details, type(details))"
   ]
  },
  {
   "cell_type": "markdown",
   "id": "ec6061e7-594e-46de-90e8-94e458d2ec90",
   "metadata": {},
   "source": [
    "Get a Single Value:\n",
    "-------------------"
   ]
  },
  {
   "cell_type": "code",
   "execution_count": 7,
   "id": "7cee38f5-dc34-445e-88b6-693129f87a61",
   "metadata": {},
   "outputs": [
    {
     "name": "stdout",
     "output_type": "stream",
     "text": [
      "{'StudentID': 101, 'Name': 'Sara', 'Age': 25, 'Married': False}\n",
      "----------------------------------------------------------------\n",
      "25 <class 'int'>\n",
      "----------------------------------------------------------------\n",
      "101 - Sara - 25 - False\n"
     ]
    }
   ],
   "source": [
    "details = {'StudentID': 101, 'Name': 'Sara', 'Age': 25, 'Married': False}\n",
    "\n",
    "print(details)\n",
    "\n",
    "print('----------------------------------------------------------------')\n",
    "\n",
    "StudentAge = details['Age']\n",
    "\n",
    "print(StudentAge, type(StudentAge))\n",
    "\n",
    "print('----------------------------------------------------------------')\n",
    "\n",
    "studId = details['StudentID']\n",
    "studName = details['Name']\n",
    "studAge = details['Age']\n",
    "MaritialStatus = details['Married']\n",
    "\n",
    "print(studId, '-', studName, '-', studAge, '-', MaritialStatus)"
   ]
  },
  {
   "cell_type": "markdown",
   "id": "a514d475-7fe4-4933-a36d-6da07c2017bc",
   "metadata": {},
   "source": [
    "If Condition in Dictionary DataType:\n",
    "------------------------------------"
   ]
  },
  {
   "cell_type": "code",
   "execution_count": 9,
   "id": "bc72a759-7b1f-48c3-afe7-a5187c310c23",
   "metadata": {},
   "outputs": [
    {
     "name": "stdout",
     "output_type": "stream",
     "text": [
      "{'StudentID': 101, 'Name': 'Sara', 'Age': 25, 'Married': False}\n",
      "----------------------------------------------------------------\n",
      "25 <class 'int'>\n",
      "----------------------------------------------------------------\n",
      "25 Eligible for vote\n"
     ]
    }
   ],
   "source": [
    "details = {'StudentID': 101, 'Name': 'Sara', 'Age': 25, 'Married': False}\n",
    "\n",
    "print(details)\n",
    "\n",
    "print('----------------------------------------------------------------')\n",
    "\n",
    "StudentAge = details['Age']\n",
    "\n",
    "print(StudentAge, type(StudentAge))\n",
    "\n",
    "print('----------------------------------------------------------------')\n",
    "\n",
    "if StudentAge >= 18:\n",
    "    print(StudentAge, 'Eligible for vote')\n",
    "else:\n",
    "    print(StudentAge, 'Not eligible for vote')"
   ]
  },
  {
   "cell_type": "code",
   "execution_count": 12,
   "id": "f494ea17-9f5b-4c6d-a774-0e509f43096d",
   "metadata": {},
   "outputs": [
    {
     "name": "stdout",
     "output_type": "stream",
     "text": [
      "StudentID -  101\n",
      "Name -  Sara\n",
      "Age -  25\n",
      "Married -  False\n"
     ]
    }
   ],
   "source": [
    "for i in details:\n",
    "    print(i, '- ', details[i])"
   ]
  },
  {
   "cell_type": "code",
   "execution_count": null,
   "id": "88147d1f-a4c2-440e-9845-d94573d71a09",
   "metadata": {},
   "outputs": [],
   "source": []
  }
 ],
 "metadata": {
  "kernelspec": {
   "display_name": "Python 3 (ipykernel)",
   "language": "python",
   "name": "python3"
  },
  "language_info": {
   "codemirror_mode": {
    "name": "ipython",
    "version": 3
   },
   "file_extension": ".py",
   "mimetype": "text/x-python",
   "name": "python",
   "nbconvert_exporter": "python",
   "pygments_lexer": "ipython3",
   "version": "3.13.2"
  }
 },
 "nbformat": 4,
 "nbformat_minor": 5
}
