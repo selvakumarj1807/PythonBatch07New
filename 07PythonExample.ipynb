{
 "cells": [
  {
   "cell_type": "markdown",
   "id": "b478c9d3-b574-4e19-ba08-a5514273f34b",
   "metadata": {},
   "source": [
    "List:\n",
    "-----\n",
    "\n",
    "1. List is a collection of datatype.\n",
    "2. It's declare []\n",
    "3. It's store n number of values. Different Datatype values can store in a single variable"
   ]
  },
  {
   "cell_type": "code",
   "execution_count": 8,
   "id": "39e35da4-6b8b-4673-b163-6393268ee1cf",
   "metadata": {},
   "outputs": [
    {
     "name": "stdout",
     "output_type": "stream",
     "text": [
      "['Sara', 23, 'male', True, [50, 60, 70], 50.0] <class 'list'>\n",
      "------------------------------------------------------------\n",
      "Name :  Sara <class 'str'>\n",
      "Age :  23\n",
      "Gender :  male\n",
      "Maritial Status :  True\n",
      "Mark Details :  [50, 60, 70]\n",
      "Average :  50.0\n"
     ]
    }
   ],
   "source": [
    "details = ['Sara', 23, 'male', True, [50, 60, 70], 50.0]\n",
    "\n",
    "print(details, type(details))\n",
    "\n",
    "print('------------------------------------------------------------')\n",
    "\n",
    "print('Name : ', details[0], type(details[0]))\n",
    "print('Age : ', details[1])\n",
    "print('Gender : ', details[2])\n",
    "print('Maritial Status : ', details[3])\n",
    "print('Mark Details : ', details[4])\n",
    "print('Average : ', details[5])"
   ]
  },
  {
   "cell_type": "code",
   "execution_count": 16,
   "id": "0d3ccefd-fc72-4945-8080-2bac9d6475a0",
   "metadata": {},
   "outputs": [
    {
     "name": "stdout",
     "output_type": "stream",
     "text": [
      "Mark Details :  [50, 60, 70]\n",
      "------------------------------------------------------------\n",
      "50\n",
      "60\n",
      "70\n",
      "------------------------------------------------------------\n",
      "['male', True]\n"
     ]
    }
   ],
   "source": [
    "print('Mark Details : ', details[4])\n",
    "\n",
    "print('------------------------------------------------------------')\n",
    "\n",
    "print(details[4][0])\n",
    "\n",
    "print(details[4][1])\n",
    "\n",
    "print(details[4][2])\n",
    "\n",
    "print('------------------------------------------------------------')\n",
    "\n",
    "# List Manipulation\n",
    "\n",
    "print(details[2:3+1])"
   ]
  },
  {
   "cell_type": "code",
   "execution_count": 18,
   "id": "ff86ea06-79eb-4cf0-81f3-7760a943992a",
   "metadata": {},
   "outputs": [
    {
     "name": "stdout",
     "output_type": "stream",
     "text": [
      "['Sara', 23, 'male', True, [50, 60, 70], 50.0] <class 'list'>\n",
      "------------------------------------------------------------\n",
      "Sara\n",
      "23\n",
      "male\n",
      "True\n",
      "[50, 60, 70]\n",
      "50.0\n"
     ]
    }
   ],
   "source": [
    "details = ['Sara', 23, 'male', True, [50, 60, 70], 50.0]\n",
    "\n",
    "print(details, type(details))\n",
    "\n",
    "print('------------------------------------------------------------')\n",
    "\n",
    "for i in details:\n",
    "    print(i)"
   ]
  },
  {
   "cell_type": "code",
   "execution_count": null,
   "id": "d5e11405-301e-4f0d-bfe6-016e30aca506",
   "metadata": {},
   "outputs": [],
   "source": [
    "'''\n",
    "ToDay Work. To Write the Python Code for. below Output using For Loop\n",
    "\n",
    "['Sara', 23, 'male', True, [50, 60, 70], 50.0] <class 'list'>\n",
    "------------------------------------------------------------\n",
    "\n",
    "Name :  Sara\n",
    "Age :  23\n",
    "Gender :  male\n",
    "Maritial Status :  True\n",
    "\n",
    "Mark Details :  [50, 60, 70]\n",
    "Mark 01: 50\n",
    "Mark 02: 60\n",
    "Mark 03: 70\n",
    "\n",
    "Total : 180\n",
    "Average :  50.0\n",
    "'''"
   ]
  },
  {
   "cell_type": "markdown",
   "id": "eaa39207-febd-49c8-b9da-f06fb940942c",
   "metadata": {},
   "source": [
    "Min, Max, Sum:\n",
    "--------------"
   ]
  },
  {
   "cell_type": "code",
   "execution_count": 26,
   "id": "eeb754ef-2c5a-4f12-8706-d81f0fa09f23",
   "metadata": {},
   "outputs": [
    {
     "name": "stdout",
     "output_type": "stream",
     "text": [
      "[5000, 6000, 4000, 3500, 5500, 6500, 7000, 8000, 7500, 10000, 9000]\n",
      "------------------------------------------------------------\n",
      "Min :  3500\n",
      "Max :  10000\n",
      "Sum :  72000\n",
      "Length :  11\n",
      "------------------------------------------------------------\n",
      "Average :  6545.454545454545\n"
     ]
    }
   ],
   "source": [
    "salaryDetails = [5000, 6000, 4000, 3500, 5500, 6500, 7000, 8000, 7500, 10000, 9000]\n",
    "\n",
    "print(salaryDetails)\n",
    "\n",
    "print('------------------------------------------------------------')\n",
    "\n",
    "print('Min : ', min(salaryDetails))\n",
    "\n",
    "print('Max : ', max(salaryDetails))\n",
    "\n",
    "print('Sum : ', sum(salaryDetails))\n",
    "\n",
    "print('Length : ', len(salaryDetails))\n",
    "\n",
    "print('------------------------------------------------------------')\n",
    "\n",
    "sumValue = sum(salaryDetails)\n",
    "\n",
    "lenValue = len(salaryDetails)\n",
    "\n",
    "average = sumValue / lenValue\n",
    "\n",
    "print('Average : ', average)"
   ]
  },
  {
   "cell_type": "markdown",
   "id": "1b74ca83-8da3-443e-9d11-115f79dd7550",
   "metadata": {},
   "source": [
    "Add & Update List Values After Variable Declaration:\n",
    "----------------------------------------------------"
   ]
  },
  {
   "cell_type": "code",
   "execution_count": 9,
   "id": "a422651d-d3a4-4e2c-a04d-e1b29e414450",
   "metadata": {},
   "outputs": [
    {
     "name": "stdout",
     "output_type": "stream",
     "text": [
      "['Sara', 26, 'Male']\n",
      "-------------------------------------------------------------------\n",
      "['Sara', 26, 'Male', 9500912258]\n",
      "-------------------------------------------------------------------\n",
      "26\n",
      "['Sara', 30, 'Male', 9500912258]\n"
     ]
    }
   ],
   "source": [
    "list01 = ['Sara', 26, 'Male']\n",
    "\n",
    "print(list01)\n",
    "\n",
    "print('-------------------------------------------------------------------')\n",
    "\n",
    "# Append\n",
    "\n",
    "list01.append(9500912258)\n",
    "\n",
    "print(list01)\n",
    "\n",
    "print('-------------------------------------------------------------------')\n",
    "\n",
    "print(list01[1])\n",
    "\n",
    "# Value update using Index Position\n",
    "\n",
    "list01[1] = 30\n",
    "\n",
    "print(list01)"
   ]
  },
  {
   "cell_type": "markdown",
   "id": "6a9a5e90-dcdd-4461-bf27-585661092396",
   "metadata": {},
   "source": [
    "Delete List Values:\n",
    "-------------------"
   ]
  },
  {
   "cell_type": "code",
   "execution_count": 15,
   "id": "ab53df35-66c1-4b3a-9021-dc1d75a7b7ed",
   "metadata": {},
   "outputs": [
    {
     "name": "stdout",
     "output_type": "stream",
     "text": [
      "['Sara', 26, 'Male', 9500912258]\n",
      "-------------------------------------------------------------------\n",
      "['Sara', 26, 'Male']\n",
      "-------------------------------------------------------------------\n",
      "['Sara', 'Male']\n",
      "-------------------------------------------------------------------\n",
      "['Male']\n"
     ]
    }
   ],
   "source": [
    "list01 = ['Sara', 26, 'Male', 9500912258]\n",
    "\n",
    "print(list01)\n",
    "\n",
    "print('-------------------------------------------------------------------')\n",
    "\n",
    "# Delete Last index value using pop method\n",
    "\n",
    "list01.pop()\n",
    "\n",
    "print(list01)\n",
    "\n",
    "print('-------------------------------------------------------------------')\n",
    "\n",
    "# Delete Particular Values Using Index Postion\n",
    "\n",
    "list01.pop(1)\n",
    "\n",
    "print(list01)\n",
    "\n",
    "print('-------------------------------------------------------------------')\n",
    "\n",
    "# Delete Particular Values Using values\n",
    "\n",
    "list01.remove('Sara')\n",
    "\n",
    "print(list01)"
   ]
  },
  {
   "cell_type": "markdown",
   "id": "a2496aba-ad65-45dd-be42-be5555f48a5e",
   "metadata": {},
   "source": [
    "Add Two List Variable using Extend Method\n",
    "-----------------------------------------"
   ]
  },
  {
   "cell_type": "code",
   "execution_count": 17,
   "id": "8d482c89-ab79-4d25-84f6-7e350759ad96",
   "metadata": {},
   "outputs": [
    {
     "name": "stdout",
     "output_type": "stream",
     "text": [
      "['Sara', 26, 'male']\n",
      "[9500912258, True]\n",
      "-------------------------------------------------------------------\n",
      "['Sara', 26, 'male', 9500912258, True]\n"
     ]
    }
   ],
   "source": [
    "list01 = ['Sara', 26, 'male']\n",
    "\n",
    "list02 = [9500912258, True]\n",
    "\n",
    "print(list01)\n",
    "\n",
    "print(list02)\n",
    "\n",
    "print('-------------------------------------------------------------------')\n",
    "\n",
    "list01.extend(list02)\n",
    "\n",
    "print(list01)\n"
   ]
  },
  {
   "cell_type": "markdown",
   "id": "11cfc31c-be3e-4e70-aee2-06460bb0acfb",
   "metadata": {},
   "source": [
    "Insert values into Particualar Index Position after List Variable Declaration\n",
    "-----------------------------------------------------------------------------"
   ]
  },
  {
   "cell_type": "code",
   "execution_count": 19,
   "id": "86fc049b-4138-4c1a-8b0c-7cd0f71a1f3d",
   "metadata": {},
   "outputs": [
    {
     "name": "stdout",
     "output_type": "stream",
     "text": [
      "['Sara', 26, 'Male']\n",
      "-------------------------------------------------------------------\n",
      "['Sara', 'sara@gmail.com', 26, 'Male']\n"
     ]
    }
   ],
   "source": [
    "list01 = ['Sara', 26, 'Male']\n",
    "\n",
    "print(list01)\n",
    "\n",
    "print('-------------------------------------------------------------------')\n",
    "\n",
    "list01.insert(1, 'sara@gmail.com')\n",
    "\n",
    "print(list01)"
   ]
  },
  {
   "cell_type": "markdown",
   "id": "9e45d3e9-4d6c-4ea3-b003-e5c31923fb5d",
   "metadata": {},
   "source": [
    "Sort \n",
    "----"
   ]
  },
  {
   "cell_type": "code",
   "execution_count": 24,
   "id": "0004437a-93f7-40c5-a1bc-51bce331f4d4",
   "metadata": {},
   "outputs": [
    {
     "name": "stdout",
     "output_type": "stream",
     "text": [
      "[30, 28, 25, 29, 32, 26, 23, 25, 22, 18, 20, 17]\n",
      "-------------------------------------------------------------------\n",
      "[17, 18, 20, 22, 23, 25, 25, 26, 28, 29, 30, 32]\n",
      "-------------------------------------------------------------------\n",
      "[32, 30, 29, 28, 26, 25, 25, 23, 22, 20, 18, 17]\n"
     ]
    }
   ],
   "source": [
    "ageValues = [30, 28, 25, 29, 32, 26, 23, 25, 22, 18, 20, 17]\n",
    "\n",
    "print(ageValues)\n",
    "\n",
    "print('-------------------------------------------------------------------')\n",
    "\n",
    "ageValues.sort()\n",
    "\n",
    "print(ageValues)\n",
    "\n",
    "print('-------------------------------------------------------------------')\n",
    "\n",
    "ageValues.sort(reverse = True)\n",
    "\n",
    "print(ageValues)"
   ]
  },
  {
   "cell_type": "code",
   "execution_count": null,
   "id": "f58a09ca-bce9-4aea-920c-920ebe864292",
   "metadata": {},
   "outputs": [],
   "source": []
  }
 ],
 "metadata": {
  "kernelspec": {
   "display_name": "Python 3 (ipykernel)",
   "language": "python",
   "name": "python3"
  },
  "language_info": {
   "codemirror_mode": {
    "name": "ipython",
    "version": 3
   },
   "file_extension": ".py",
   "mimetype": "text/x-python",
   "name": "python",
   "nbconvert_exporter": "python",
   "pygments_lexer": "ipython3",
   "version": "3.13.2"
  }
 },
 "nbformat": 4,
 "nbformat_minor": 5
}
