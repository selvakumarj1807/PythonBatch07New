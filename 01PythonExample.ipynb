{
 "cells": [
  {
   "cell_type": "markdown",
   "id": "4ce5af6e-b2ad-4a18-9974-f4389837c9ee",
   "metadata": {},
   "source": [
    "Python Basics:\n",
    "--------------"
   ]
  },
  {
   "cell_type": "code",
   "execution_count": 4,
   "id": "333e1ecd-d1d9-49bd-89dd-afd169342bc2",
   "metadata": {},
   "outputs": [
    {
     "name": "stdout",
     "output_type": "stream",
     "text": [
      "Welcome Python in Jupyter notebook\n"
     ]
    }
   ],
   "source": [
    "print('Welcome Python in Jupyter notebook')"
   ]
  },
  {
   "cell_type": "markdown",
   "id": "d2df725c-f5f9-4632-a274-5819cdb11563",
   "metadata": {},
   "source": [
    "Python Variable & DataTypes:\n",
    "----------------------------"
   ]
  },
  {
   "cell_type": "code",
   "execution_count": 8,
   "id": "3ddbc5be-f44d-48ee-a811-500736a09b1b",
   "metadata": {},
   "outputs": [
    {
     "name": "stdout",
     "output_type": "stream",
     "text": [
      "Selva  age is  25\n",
      "---------------------------------------------------\n",
      "Selva <class 'str'>\n",
      "25 <class 'int'>\n"
     ]
    }
   ],
   "source": [
    "# Variable\n",
    "\n",
    "name = 'Selva'\n",
    "\n",
    "age = 25\n",
    "\n",
    "print(name, ' age is ', age)\n",
    "\n",
    "print('---------------------------------------------------')\n",
    "\n",
    "# Data Type\n",
    "\n",
    "print(name, type(name))\n",
    "\n",
    "print(age, type(age))\n"
   ]
  },
  {
   "cell_type": "markdown",
   "id": "7a3f57ec-da4c-4593-a8d9-83765700b271",
   "metadata": {},
   "source": [
    "Python Inputs:\n",
    "--------------"
   ]
  },
  {
   "cell_type": "code",
   "execution_count": 11,
   "id": "340619de-825a-4835-a2c8-b1bd2149b645",
   "metadata": {},
   "outputs": [
    {
     "name": "stdin",
     "output_type": "stream",
     "text": [
      "Enter your name :  Admin\n",
      "Enter your age :  23\n"
     ]
    },
    {
     "name": "stdout",
     "output_type": "stream",
     "text": [
      "\n",
      "Admin  age is  23\n",
      "---------------------------------------------------\n",
      "Admin <class 'str'>\n",
      "23 <class 'int'>\n"
     ]
    }
   ],
   "source": [
    "# Variable\n",
    "\n",
    "name = input('Enter your name : ')\n",
    "\n",
    "age = int(input('Enter your age : '))\n",
    "\n",
    "print('')\n",
    "\n",
    "print(name, ' age is ', age)\n",
    "\n",
    "print('---------------------------------------------------')\n",
    "\n",
    "# Data Type\n",
    "\n",
    "print(name, type(name))\n",
    "\n",
    "print(age, type(age))\n"
   ]
  },
  {
   "cell_type": "code",
   "execution_count": null,
   "id": "2168b3b0-ae1d-451f-acf1-767d6813ca1f",
   "metadata": {},
   "outputs": [],
   "source": []
  }
 ],
 "metadata": {
  "kernelspec": {
   "display_name": "Python 3 (ipykernel)",
   "language": "python",
   "name": "python3"
  },
  "language_info": {
   "codemirror_mode": {
    "name": "ipython",
    "version": 3
   },
   "file_extension": ".py",
   "mimetype": "text/x-python",
   "name": "python",
   "nbconvert_exporter": "python",
   "pygments_lexer": "ipython3",
   "version": "3.13.2"
  }
 },
 "nbformat": 4,
 "nbformat_minor": 5
}
