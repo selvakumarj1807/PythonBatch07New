{
 "cells": [
  {
   "cell_type": "markdown",
   "id": "1f496646-6da4-4fae-95f4-cc13ccff6288",
   "metadata": {},
   "source": [
    "Nested If:\n",
    "----------"
   ]
  },
  {
   "cell_type": "code",
   "execution_count": 19,
   "id": "869ca160-ac70-416c-867b-5b2b92374bd3",
   "metadata": {},
   "outputs": [
    {
     "name": "stdout",
     "output_type": "stream",
     "text": [
      "False\n",
      "--------------------------------------------------\n",
      "You are Fail\n",
      "25 So You are Fail\n"
     ]
    }
   ],
   "source": [
    "mark1 = 25\n",
    "mark2 = 70\n",
    "mark3 = 80\n",
    "\n",
    "print(mark1 >= 35 and mark2 >= 35 and mark3 >= 35)\n",
    "\n",
    "print('--------------------------------------------------')\n",
    "\n",
    "if (mark1 >= 35 and mark2 >= 35 and mark3 >= 35):\n",
    "    print('You are pass')\n",
    "\n",
    "    total = mark1 + mark2 + mark3\n",
    "    avg = total // 3\n",
    "\n",
    "    print('Total : ', total)\n",
    "    print('Average : ', avg)\n",
    "\n",
    "    if (avg >= 90 and avg <= 100): # 90 - 100\n",
    "        print('You have A+ Grade')\n",
    "\n",
    "    elif (avg >= 80 and avg <= 90): # 80 - 90\n",
    "        print('You are B+ Grade')\n",
    "\n",
    "    elif (avg >= 70 and avg <= 80): # 70 - 80\n",
    "        print('You are C+ Grade')\n",
    "\n",
    "    else:\n",
    "        print('You have a D Grade')\n",
    "\n",
    "\n",
    "else:\n",
    "    print('You are Fail')\n",
    "\n",
    "    if (mark1 <= 35):\n",
    "        print(mark1, 'So You are Fail')\n",
    "\n",
    "    if (mark2 <= 35):\n",
    "        print(mark2, 'So You are Fail')\n",
    "\n",
    "    if (mark3 <= 35):\n",
    "        print(mark3, 'So You are Fail')"
   ]
  },
  {
   "cell_type": "markdown",
   "id": "d97e1014-7708-48f6-b846-43e62c08daf5",
   "metadata": {},
   "source": [
    "While Loop:\n",
    "-----------"
   ]
  },
  {
   "cell_type": "code",
   "execution_count": 2,
   "id": "17555de0-a8b2-400b-9ce9-9f86f7e1d3f0",
   "metadata": {
    "scrolled": true
   },
   "outputs": [
    {
     "name": "stdout",
     "output_type": "stream",
     "text": [
      "Loop Started\n",
      "---------------------------------------------------------------------\n",
      "0\n",
      "1\n",
      "2\n",
      "3\n",
      "4\n",
      "5\n",
      "6\n",
      "7\n",
      "8\n",
      "9\n",
      "10\n",
      "---------------------------------------------------------------------\n",
      "Loop Completed\n"
     ]
    }
   ],
   "source": [
    "i = 0 # Value Intialization\n",
    "\n",
    "n = 10 # Limit Value\n",
    "\n",
    "print('Loop Started')\n",
    "print('---------------------------------------------------------------------')\n",
    "\n",
    "while i <= n: # Value Condition Checking - 11 < 10 False\n",
    "    print(i)\n",
    "\n",
    "    i = i + 1 # Value Increment - 10 + 1\n",
    "\n",
    "print('---------------------------------------------------------------------')\n",
    "print('Loop Completed')"
   ]
  },
  {
   "cell_type": "code",
   "execution_count": 7,
   "id": "4aff0be2-f5fc-4d6f-87e3-e73f33bca62d",
   "metadata": {},
   "outputs": [
    {
     "name": "stdout",
     "output_type": "stream",
     "text": [
      "Loop Started\n",
      "---------------------------------------------------------------------\n",
      "0\n",
      "2\n",
      "4\n",
      "6\n",
      "8\n",
      "10\n",
      "---------------------------------------------------------------------\n",
      "Loop Completed\n"
     ]
    }
   ],
   "source": [
    "# To Print Even Number\n",
    "\n",
    "i = 0 # Value Intialization\n",
    "\n",
    "n = 10 # Limit Value\n",
    "\n",
    "print('Loop Started')\n",
    "print('---------------------------------------------------------------------')\n",
    "\n",
    "while i <= n: # Value Condition Checking - 12 < 10 False\n",
    "    print(i)\n",
    "\n",
    "    i = i + 2 # Value Increment - 10 + 2\n",
    "\n",
    "print('---------------------------------------------------------------------')\n",
    "print('Loop Completed')"
   ]
  },
  {
   "cell_type": "code",
   "execution_count": 8,
   "id": "4c80421d-77c2-4d9a-b470-491462dbb5c8",
   "metadata": {},
   "outputs": [
    {
     "name": "stdout",
     "output_type": "stream",
     "text": [
      "Loop Started\n",
      "---------------------------------------------------------------------\n",
      "1\n",
      "3\n",
      "5\n",
      "7\n",
      "9\n",
      "11\n",
      "13\n",
      "15\n",
      "17\n",
      "19\n",
      "---------------------------------------------------------------------\n",
      "Loop Completed\n"
     ]
    }
   ],
   "source": [
    "# To Print Odd Number\n",
    "\n",
    "i = 1 # Value Intialization\n",
    "\n",
    "n = 20 # Limit Value\n",
    "\n",
    "print('Loop Started')\n",
    "print('---------------------------------------------------------------------')\n",
    "\n",
    "while i <= n: # Value Condition Checking - 21 < 20 False\n",
    "    print(i)\n",
    "\n",
    "    i = i + 2 # Value Increment - 19 + 2\n",
    "\n",
    "print('---------------------------------------------------------------------')\n",
    "print('Loop Completed')"
   ]
  },
  {
   "cell_type": "code",
   "execution_count": 12,
   "id": "eb2fa3a6-91e0-4474-9d51-4208709cb5c6",
   "metadata": {},
   "outputs": [
    {
     "name": "stdout",
     "output_type": "stream",
     "text": [
      "Loop Started\n",
      "---------------------------------------------------------------------\n",
      "1, 3, 5, 7, 9, 11, 13, 15, 17, 19, \n",
      "---------------------------------------------------------------------\n",
      "Loop Completed\n"
     ]
    }
   ],
   "source": [
    "# To Print Odd Number\n",
    "\n",
    "i = 1 # Value Intialization\n",
    "\n",
    "n = 20 # Limit Value\n",
    "\n",
    "print('Loop Started')\n",
    "print('---------------------------------------------------------------------')\n",
    "\n",
    "while i <= n: # Value Condition Checking - 21 < 20 False\n",
    "    print(i, end=', ')\n",
    "\n",
    "    i = i + 2 # Value Increment - 19 + 2\n",
    "\n",
    "print('')\n",
    "print('---------------------------------------------------------------------')\n",
    "print('Loop Completed')"
   ]
  },
  {
   "cell_type": "markdown",
   "id": "d05940b6-568d-470b-b9c1-bdbb12953771",
   "metadata": {},
   "source": [
    "Break Statement in While Loop:\n",
    "------------------------------"
   ]
  },
  {
   "cell_type": "code",
   "execution_count": 11,
   "id": "8dec94ec-957c-4083-be46-a103ffa30ab1",
   "metadata": {},
   "outputs": [
    {
     "name": "stdout",
     "output_type": "stream",
     "text": [
      "0\n",
      "1\n",
      "2\n",
      "3\n",
      "4\n",
      "5\n",
      "6\n",
      "7\n",
      "8\n",
      "9\n",
      "Befor Break Statement Run Successfully\n"
     ]
    }
   ],
   "source": [
    "i = 0\n",
    "\n",
    "n = 15\n",
    "\n",
    "while i <= n:\n",
    "    print(i)\n",
    "\n",
    "    i = i + 1 \n",
    "\n",
    "    if i == 10: \n",
    "        print('Befor Break Statement Run Successfully')\n",
    "        break\n",
    "        print('After Break Statement Run Successfully')"
   ]
  },
  {
   "cell_type": "markdown",
   "id": "d673bbc4-5cdf-4555-b827-1054accf61aa",
   "metadata": {},
   "source": [
    "Continue Statement in While Loop:\n",
    "---------------------------------"
   ]
  },
  {
   "cell_type": "code",
   "execution_count": 12,
   "id": "7fb027b6-6ebb-4a45-b359-4b28081d959d",
   "metadata": {},
   "outputs": [
    {
     "name": "stdout",
     "output_type": "stream",
     "text": [
      "0\n",
      "1\n",
      "2\n",
      "3\n",
      "4\n",
      "5\n",
      "6\n",
      "7\n",
      "8\n",
      "9\n",
      "Before Continue Statement Run Successfully\n",
      "10\n",
      "11\n",
      "12\n",
      "13\n",
      "14\n",
      "15\n"
     ]
    }
   ],
   "source": [
    "i = 0\n",
    "\n",
    "n = 15\n",
    "\n",
    "while i <= n: \n",
    "    print(i)\n",
    "\n",
    "    i = i + 1\n",
    "\n",
    "    if i == 10: \n",
    "        print('Before Continue Statement Run Successfully')\n",
    "        continue\n",
    "        print('After Continue Statement Run Successfully')"
   ]
  },
  {
   "cell_type": "markdown",
   "id": "64bebe57-64da-4654-8e98-86727a84d29d",
   "metadata": {},
   "source": [
    "Pass Statement in While Loop:\n",
    "-----------------------------"
   ]
  },
  {
   "cell_type": "code",
   "execution_count": 13,
   "id": "03cd1736-909d-4999-be2a-a5e42d097bcb",
   "metadata": {},
   "outputs": [
    {
     "name": "stdout",
     "output_type": "stream",
     "text": [
      "0\n",
      "1\n",
      "2\n",
      "3\n",
      "4\n",
      "5\n",
      "6\n",
      "7\n",
      "8\n",
      "9\n",
      "Before Pass Statement Run Successfully\n",
      "After Pass Statement Run Successfully\n",
      "10\n",
      "11\n",
      "12\n",
      "13\n",
      "14\n",
      "15\n"
     ]
    }
   ],
   "source": [
    "i = 0\n",
    "\n",
    "n = 15\n",
    "\n",
    "while i <= n: \n",
    "    print(i)\n",
    "\n",
    "    i = i + 1\n",
    "\n",
    "    if i == 10: \n",
    "        print('Before Pass Statement Run Successfully')\n",
    "        pass\n",
    "        print('After Pass Statement Run Successfully')"
   ]
  },
  {
   "cell_type": "code",
   "execution_count": null,
   "id": "932fe4fc-9cfa-4ac7-bb0a-7ace505325a0",
   "metadata": {},
   "outputs": [],
   "source": []
  }
 ],
 "metadata": {
  "kernelspec": {
   "display_name": "Python 3 (ipykernel)",
   "language": "python",
   "name": "python3"
  },
  "language_info": {
   "codemirror_mode": {
    "name": "ipython",
    "version": 3
   },
   "file_extension": ".py",
   "mimetype": "text/x-python",
   "name": "python",
   "nbconvert_exporter": "python",
   "pygments_lexer": "ipython3",
   "version": "3.13.2"
  }
 },
 "nbformat": 4,
 "nbformat_minor": 5
}
