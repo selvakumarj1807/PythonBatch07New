{
 "cells": [
  {
   "cell_type": "markdown",
   "id": "d7d18ec5-c251-45c0-a745-cd458062a6ab",
   "metadata": {},
   "source": [
    "For Loop:\n",
    "---------"
   ]
  },
  {
   "cell_type": "code",
   "execution_count": 2,
   "id": "a47c704c-b49a-4d2a-8abb-55cf9fff83a8",
   "metadata": {},
   "outputs": [
    {
     "name": "stdout",
     "output_type": "stream",
     "text": [
      "0\n",
      "1\n",
      "2\n",
      "3\n",
      "4\n",
      "5\n",
      "6\n",
      "7\n",
      "8\n",
      "9\n",
      "10\n"
     ]
    }
   ],
   "source": [
    "#While Loop\n",
    "\n",
    "i = 0 # Value Intialization\n",
    "\n",
    "n = 10\n",
    "\n",
    "while i <= n: # Value Conditional Checking\n",
    "    print(i)\n",
    "\n",
    "    i = i + 1 # Value Increment"
   ]
  },
  {
   "cell_type": "code",
   "execution_count": 4,
   "id": "2a32f554-edf9-4e97-bdae-0039533d442e",
   "metadata": {},
   "outputs": [
    {
     "name": "stdout",
     "output_type": "stream",
     "text": [
      "0\n",
      "1\n",
      "2\n",
      "3\n",
      "4\n",
      "5\n",
      "6\n",
      "7\n",
      "8\n",
      "9\n"
     ]
    }
   ],
   "source": [
    "# For Loop - Example 01\n",
    "# Default Value Intialization = 0\n",
    "# Default Value Increment = 1\n",
    "\n",
    "for i in range(10):\n",
    "    print(i)"
   ]
  },
  {
   "cell_type": "markdown",
   "id": "6ca7aa7a-9f96-4cdb-87ca-8f20b0ece0c0",
   "metadata": {},
   "source": [
    "Difference Between While Loop & For Loop:\n",
    "-----------------------------------------"
   ]
  },
  {
   "cell_type": "markdown",
   "id": "b620eb09-a1b6-4b1b-97ee-7e1c7a299560",
   "metadata": {},
   "source": [
    "While Loop:\n",
    "-----------"
   ]
  },
  {
   "cell_type": "code",
   "execution_count": 7,
   "id": "f24705a9-6540-417a-b8aa-1a325f0b377b",
   "metadata": {},
   "outputs": [
    {
     "name": "stdout",
     "output_type": "stream",
     "text": [
      "0\n",
      "1\n",
      "2\n",
      "3\n",
      "4\n",
      "5\n",
      "6\n",
      "7\n",
      "8\n",
      "9\n"
     ]
    }
   ],
   "source": [
    "#While Loop\n",
    "\n",
    "i = 0 # Value Intialization\n",
    "\n",
    "n = 10\n",
    "\n",
    "conditionOutput = True\n",
    "\n",
    "while conditionOutput: # Value Conditional Checking\n",
    "    print(i)\n",
    "\n",
    "    i = i + 1 # Value Increment\n",
    "\n",
    "    if i == n: # 10 == 10\n",
    "        conditionOutput = False"
   ]
  },
  {
   "cell_type": "markdown",
   "id": "fa8712eb-d649-4509-819c-fc4ece15500e",
   "metadata": {},
   "source": [
    "Use of Loop(For):\n",
    "-----------------"
   ]
  },
  {
   "cell_type": "code",
   "execution_count": 8,
   "id": "93cd17dd-0a91-4e1d-8975-eb5ecf240e0b",
   "metadata": {},
   "outputs": [
    {
     "name": "stdin",
     "output_type": "stream",
     "text": [
      "Enter Your Name :  Admin\n",
      "Enter Your Age :  22\n"
     ]
    },
    {
     "name": "stdout",
     "output_type": "stream",
     "text": [
      "Admin  your age is  22\n"
     ]
    }
   ],
   "source": [
    "name = input('Enter Your Name : ')\n",
    "age = int(input('Enter Your Age : '))\n",
    "\n",
    "print(name, ' your age is ', age)"
   ]
  },
  {
   "cell_type": "code",
   "execution_count": 10,
   "id": "d14f5cb7-5510-494e-8881-54c5ef10f14c",
   "metadata": {},
   "outputs": [
    {
     "name": "stdin",
     "output_type": "stream",
     "text": [
      "Enter Your Name :  Admin\n",
      "Enter Your Age :  25\n"
     ]
    },
    {
     "name": "stdout",
     "output_type": "stream",
     "text": [
      "Admin  your age is  25\n",
      "\n"
     ]
    },
    {
     "name": "stdin",
     "output_type": "stream",
     "text": [
      "Enter Your Name :  Selva\n",
      "Enter Your Age :  25\n"
     ]
    },
    {
     "name": "stdout",
     "output_type": "stream",
     "text": [
      "Selva  your age is  25\n",
      "\n"
     ]
    }
   ],
   "source": [
    "for i in range(2):\n",
    "    name = input('Enter Your Name : ')\n",
    "    age = int(input('Enter Your Age : '))\n",
    "\n",
    "    print(name, ' your age is ', age)\n",
    "    print('')"
   ]
  },
  {
   "cell_type": "code",
   "execution_count": null,
   "id": "3a25b027-acba-4575-b3f6-40356df8a4e6",
   "metadata": {},
   "outputs": [],
   "source": [
    "'''\n",
    "ToDay Work:\n",
    "-----------\n",
    "\n",
    "To Write the Python Code for Below Output. Using For Loop:\n",
    "\n",
    "1 x 2 = 2\n",
    "2 x 2 = 4\n",
    "3 x 2 = 6\n",
    "4 x 2 = 8\n",
    "5 x 2 = 10\n",
    "'''"
   ]
  }
 ],
 "metadata": {
  "kernelspec": {
   "display_name": "Python 3 (ipykernel)",
   "language": "python",
   "name": "python3"
  },
  "language_info": {
   "codemirror_mode": {
    "name": "ipython",
    "version": 3
   },
   "file_extension": ".py",
   "mimetype": "text/x-python",
   "name": "python",
   "nbconvert_exporter": "python",
   "pygments_lexer": "ipython3",
   "version": "3.13.2"
  }
 },
 "nbformat": 4,
 "nbformat_minor": 5
}
