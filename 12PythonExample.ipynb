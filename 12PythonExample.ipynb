{
 "cells": [
  {
   "cell_type": "markdown",
   "id": "2e12a092-c411-4423-ab47-b4ad025ca163",
   "metadata": {},
   "source": [
    "Date Time Module:\n",
    "-----------------"
   ]
  },
  {
   "cell_type": "code",
   "execution_count": 1,
   "id": "e7dd5ae1-ae01-4817-8731-c9ecc43dd834",
   "metadata": {},
   "outputs": [],
   "source": [
    "import datetime"
   ]
  },
  {
   "cell_type": "markdown",
   "id": "9dba6352-d71c-4a12-806c-95ff54ad3f0f",
   "metadata": {},
   "source": [
    "To Find the System Date:\n",
    "------------------------"
   ]
  },
  {
   "cell_type": "code",
   "execution_count": 7,
   "id": "a3e84360-200f-491d-a150-2f8e2c17da3d",
   "metadata": {},
   "outputs": [
    {
     "name": "stdout",
     "output_type": "stream",
     "text": [
      "2025-08-01 <class 'datetime.date'>\n"
     ]
    }
   ],
   "source": [
    "currentDate = datetime.date.today()\n",
    "\n",
    "print(currentDate, type(currentDate))"
   ]
  },
  {
   "cell_type": "markdown",
   "id": "eb0648d7-88b5-4593-9ecd-2c01fc977d30",
   "metadata": {},
   "source": [
    "To Find the System Date and Time:\n",
    "---------------------------------"
   ]
  },
  {
   "cell_type": "code",
   "execution_count": 5,
   "id": "033d1239-3a30-4374-8699-765a870ab392",
   "metadata": {},
   "outputs": [
    {
     "name": "stdout",
     "output_type": "stream",
     "text": [
      "2025-08-01 10:26:16.402091 <class 'datetime.datetime'>\n"
     ]
    }
   ],
   "source": [
    "currentDateTime = datetime.datetime.now()\n",
    "\n",
    "print(currentDateTime, type(currentDateTime))"
   ]
  },
  {
   "cell_type": "markdown",
   "id": "62010b7c-5fa6-4691-b31d-43cd00be7317",
   "metadata": {},
   "source": [
    "To Split the Given Date and Time:\n",
    "---------------------------------"
   ]
  },
  {
   "cell_type": "code",
   "execution_count": 10,
   "id": "8cb0758d-ec40-4338-a9ea-759cd2cfe98e",
   "metadata": {},
   "outputs": [
    {
     "name": "stdout",
     "output_type": "stream",
     "text": [
      "2025-08-01 10:29:24.996456 <class 'datetime.datetime'>\n",
      "--------------------------------------------------------\n",
      "Date :  2025-08-01\n",
      "Time :  10:29:24.996456\n"
     ]
    }
   ],
   "source": [
    "currentDateTime = datetime.datetime.now()\n",
    "\n",
    "print(currentDateTime, type(currentDateTime))\n",
    "\n",
    "print('--------------------------------------------------------')\n",
    "\n",
    "print('Date : ', currentDateTime.date())\n",
    "\n",
    "print('Time : ', currentDateTime.time())"
   ]
  },
  {
   "cell_type": "markdown",
   "id": "86ef2027-6be7-4a70-84cf-c59a4d4e5cb3",
   "metadata": {},
   "source": [
    "Declare Custome Date & Time:\n",
    "----------------------------"
   ]
  },
  {
   "cell_type": "code",
   "execution_count": 17,
   "id": "73e3173b-f646-42f7-b1f6-a2b64dac6b8d",
   "metadata": {},
   "outputs": [
    {
     "name": "stdout",
     "output_type": "stream",
     "text": [
      "1999-07-18\n",
      "-------------------------------------------------\n",
      "12:30:45.000001\n"
     ]
    }
   ],
   "source": [
    "# Date\n",
    "\n",
    "customeDate = datetime.date(1999,7,18)\n",
    "\n",
    "print(customeDate)\n",
    "\n",
    "print('-------------------------------------------------')\n",
    "# Time\n",
    "\n",
    "customeTime = datetime.time(12,30,45,1)\n",
    "\n",
    "print(customeTime)\n",
    "\n",
    "print('-------------------------------------------------')\n",
    "# Date & Time"
   ]
  },
  {
   "cell_type": "code",
   "execution_count": 23,
   "id": "129138f9-6faa-449a-a1b8-b2db3633cab9",
   "metadata": {},
   "outputs": [
    {
     "name": "stdout",
     "output_type": "stream",
     "text": [
      "1999-07-18 12:30:45\n"
     ]
    }
   ],
   "source": [
    "customeDateTime = datetime.datetime(1999,7,18,12,30,45)\n",
    "\n",
    "print(customeDateTime)"
   ]
  },
  {
   "cell_type": "code",
   "execution_count": null,
   "id": "916f3399-5cfe-48a8-b8b9-64f66b0ca0ef",
   "metadata": {},
   "outputs": [],
   "source": [
    "'''\n",
    "ToDay Work:\n",
    "-----------\n",
    "\n",
    "To Split the Given Date and Time:\n",
    "\n",
    "dateTime = 1999-07-18 12:30:45\n",
    "'''"
   ]
  },
  {
   "cell_type": "markdown",
   "id": "492ceb32-67cb-4e63-850a-68e910b3a47e",
   "metadata": {},
   "source": [
    "To Change the Date Time Format:\n",
    "-------------------------------"
   ]
  },
  {
   "cell_type": "code",
   "execution_count": 33,
   "id": "26fb183c-4b09-4c7a-b9cb-ddb100fbfec7",
   "metadata": {},
   "outputs": [
    {
     "name": "stdout",
     "output_type": "stream",
     "text": [
      "2025-08-01 10:45:04.817459\n",
      "--------------------------------------------------------\n",
      "Format 01:  Friday August 01 2025\n",
      "Format 02:  August / 01 / 2025 - Friday\n",
      "Format 03:  Friday\n"
     ]
    }
   ],
   "source": [
    "currentDateTime = datetime.datetime.now()\n",
    "\n",
    "print(currentDateTime)\n",
    "\n",
    "print('--------------------------------------------------------')\n",
    "\n",
    "# Format 01:\n",
    "\n",
    "format01 = currentDateTime.strftime(\"%A %B %d %Y\")\n",
    "\n",
    "print('Format 01: ', format01)\n",
    "\n",
    "# Format 02:\n",
    "\n",
    "format02 = currentDateTime.strftime(\"%B / %d / %Y - %A\")\n",
    "\n",
    "print('Format 02: ', format02)\n",
    "\n",
    "# Format 03:\n",
    "\n",
    "format03 = currentDateTime.strftime(\"%A\")\n",
    "\n",
    "print('Format 03: ', format03)"
   ]
  },
  {
   "cell_type": "markdown",
   "id": "8d650129-abe1-4893-9087-b0d4a970d121",
   "metadata": {},
   "source": [
    "Example 01:\n",
    "-----------"
   ]
  },
  {
   "cell_type": "code",
   "execution_count": 41,
   "id": "204f7f37-af38-4d04-aad0-a38e1aea325e",
   "metadata": {},
   "outputs": [
    {
     "name": "stdout",
     "output_type": "stream",
     "text": [
      "2025-08-01\n",
      "1999-07-18\n",
      "-------------------------------------------------\n",
      "9511 days, 0:00:00\n"
     ]
    }
   ],
   "source": [
    "currentDate = datetime.date.today()\n",
    "\n",
    "print(currentDate)\n",
    "\n",
    "customeDate = datetime.date(1999,7,18)\n",
    "\n",
    "print(customeDate)\n",
    "\n",
    "print('-------------------------------------------------')\n",
    "\n",
    "numberOfDays = currentDate - customeDate\n",
    "\n",
    "print(numberOfDays)"
   ]
  },
  {
   "cell_type": "code",
   "execution_count": null,
   "id": "c43eca4a-d750-4ccd-915d-9795cff5f6cd",
   "metadata": {},
   "outputs": [],
   "source": [
    "'''\n",
    "ToDay Work:\n",
    "-----------\n",
    "\n",
    "1. To Find the next day, before day for given Date\n",
    "2. To find the number of days, number of months, number of years for given two dates\n",
    "\n",
    "'''"
   ]
  }
 ],
 "metadata": {
  "kernelspec": {
   "display_name": "Python 3 (ipykernel)",
   "language": "python",
   "name": "python3"
  },
  "language_info": {
   "codemirror_mode": {
    "name": "ipython",
    "version": 3
   },
   "file_extension": ".py",
   "mimetype": "text/x-python",
   "name": "python",
   "nbconvert_exporter": "python",
   "pygments_lexer": "ipython3",
   "version": "3.13.2"
  }
 },
 "nbformat": 4,
 "nbformat_minor": 5
}
