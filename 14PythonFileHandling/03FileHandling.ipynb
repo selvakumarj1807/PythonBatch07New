{
 "cells": [
  {
   "cell_type": "code",
   "execution_count": 5,
   "id": "c2a5da03-180c-48a4-b096-c1998aa9efc6",
   "metadata": {},
   "outputs": [
    {
     "name": "stdout",
     "output_type": "stream",
     "text": [
      "Yes File is there\n",
      "sampleRemoveFile.txt  - File have Successfully removed!... \n"
     ]
    }
   ],
   "source": [
    "import os\n",
    "\n",
    "fileName = 'sampleRemoveFile.txt'\n",
    "\n",
    "if os.path.exists(fileName):\n",
    "    print('Yes File is there')\n",
    "    os.remove(fileName)\n",
    "\n",
    "    print(fileName, ' - File have Successfully removed!... ')\n",
    "\n",
    "else:\n",
    "    print('File is not in your folder')"
   ]
  },
  {
   "cell_type": "code",
   "execution_count": null,
   "id": "d04c82bf-899f-43cd-8c56-df5be3f20f8e",
   "metadata": {},
   "outputs": [],
   "source": []
  }
 ],
 "metadata": {
  "kernelspec": {
   "display_name": "Python 3 (ipykernel)",
   "language": "python",
   "name": "python3"
  },
  "language_info": {
   "codemirror_mode": {
    "name": "ipython",
    "version": 3
   },
   "file_extension": ".py",
   "mimetype": "text/x-python",
   "name": "python",
   "nbconvert_exporter": "python",
   "pygments_lexer": "ipython3",
   "version": "3.13.2"
  }
 },
 "nbformat": 4,
 "nbformat_minor": 5
}
