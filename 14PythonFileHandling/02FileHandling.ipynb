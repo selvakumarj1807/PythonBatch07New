{
 "cells": [
  {
   "cell_type": "markdown",
   "id": "a9db848f-6089-40b0-926d-2ad9a5f9d8bc",
   "metadata": {},
   "source": [
    "01 Read:\n",
    "--------"
   ]
  },
  {
   "cell_type": "code",
   "execution_count": 3,
   "id": "c11a9fcc-a56c-4e48-9783-198dc37805a6",
   "metadata": {},
   "outputs": [
    {
     "name": "stdout",
     "output_type": "stream",
     "text": [
      "Python File Handling Read Line Method - Line 01\n",
      "Python File Handling Read Line Method - Line 02\n",
      "Python File Handling Read Line Method - Line 03\n",
      "Python File Handling Read Line Method - Line 04\n",
      "Python File Handling Read Line Method - Line 05\n"
     ]
    }
   ],
   "source": [
    "try:\n",
    "    readFile = open('demoPara.txt', 'r')\n",
    "\n",
    "    print(readFile.read())\n",
    "\n",
    "except Exception as e:\n",
    "    print(e)\n",
    "\n",
    "else:\n",
    "    readFile.close()\n"
   ]
  },
  {
   "cell_type": "markdown",
   "id": "a67cc43d-3b53-40f7-a0fa-04bce50abd9f",
   "metadata": {},
   "source": [
    "02 Read Line:\n",
    "-------------"
   ]
  },
  {
   "cell_type": "code",
   "execution_count": 6,
   "id": "e9e44460-bf80-47d0-8e73-5c4a1dc12088",
   "metadata": {},
   "outputs": [
    {
     "name": "stdout",
     "output_type": "stream",
     "text": [
      "Python File Handling Read Line Method - Line 01\n",
      "\n"
     ]
    }
   ],
   "source": [
    "try:\n",
    "    readFile = open('demoPara.txt', 'r')\n",
    "\n",
    "    print(readFile.readline())\n",
    "\n",
    "except Exception as e:\n",
    "    print(e)\n",
    "\n",
    "else:\n",
    "    readFile.close()\n"
   ]
  },
  {
   "cell_type": "markdown",
   "id": "92ce5045-1d28-4d59-aad6-f38f7aa2616d",
   "metadata": {},
   "source": [
    "03 ReadLine(value):\n",
    "-------------------"
   ]
  },
  {
   "cell_type": "code",
   "execution_count": 14,
   "id": "a34bad95-f6e9-4818-a3da-054b38334f3d",
   "metadata": {},
   "outputs": [
    {
     "name": "stdout",
     "output_type": "stream",
     "text": [
      "Python\n"
     ]
    }
   ],
   "source": [
    "try:\n",
    "    readFile = open('demoPara.txt', 'r')\n",
    "\n",
    "    print(readFile.readline(6))\n",
    "\n",
    "except Exception as e:\n",
    "    print(e)\n",
    "\n",
    "else:\n",
    "    readFile.close()\n"
   ]
  },
  {
   "cell_type": "markdown",
   "id": "5910e3c9-ffe8-412f-8ebc-1cd4c83928ff",
   "metadata": {},
   "source": [
    "04 Read Lines:\n",
    "--------------"
   ]
  },
  {
   "cell_type": "code",
   "execution_count": 9,
   "id": "38b7c83d-a8c0-4604-ba21-db4b8ad95e47",
   "metadata": {},
   "outputs": [
    {
     "name": "stdout",
     "output_type": "stream",
     "text": [
      "['Python File Handling Read Line Method - Line 01\\n', 'Python File Handling Read Line Method - Line 02\\n', 'Python File Handling Read Line Method - Line 03\\n', 'Python File Handling Read Line Method - Line 04\\n', 'Python File Handling Read Line Method - Line 05'] <class 'list'>\n",
      "-------------------------------------------------------\n",
      "Line 03 :  Python File Handling Read Line Method - Line 03\n",
      "\n"
     ]
    }
   ],
   "source": [
    "try:\n",
    "    readFile = open('demoPara.txt', 'r')\n",
    "\n",
    "    listPara = readFile.readlines()\n",
    "\n",
    "    print(listPara, type(listPara))\n",
    "\n",
    "    print('-------------------------------------------------------')\n",
    "\n",
    "    print('Line 03 : ', listPara[2])\n",
    "\n",
    "except Exception as e:\n",
    "    print(e)\n",
    "\n",
    "else:\n",
    "    readFile.close()\n"
   ]
  },
  {
   "cell_type": "code",
   "execution_count": null,
   "id": "3f380a6d-27d5-4c35-8c2f-da9fb85c359d",
   "metadata": {},
   "outputs": [],
   "source": []
  }
 ],
 "metadata": {
  "kernelspec": {
   "display_name": "Python 3 (ipykernel)",
   "language": "python",
   "name": "python3"
  },
  "language_info": {
   "codemirror_mode": {
    "name": "ipython",
    "version": 3
   },
   "file_extension": ".py",
   "mimetype": "text/x-python",
   "name": "python",
   "nbconvert_exporter": "python",
   "pygments_lexer": "ipython3",
   "version": "3.13.2"
  }
 },
 "nbformat": 4,
 "nbformat_minor": 5
}
