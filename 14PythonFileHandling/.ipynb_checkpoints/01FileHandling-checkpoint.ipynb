{
 "cells": [
  {
   "cell_type": "markdown",
   "id": "4ed4e613-35d0-4c01-b97f-0bb4910c2e9d",
   "metadata": {},
   "source": [
    "Python File Handling:\n",
    "---------------------"
   ]
  },
  {
   "cell_type": "code",
   "execution_count": 1,
   "id": "7a4d6b69-97e9-495c-b470-0dd788cdcd7d",
   "metadata": {},
   "outputs": [
    {
     "name": "stdout",
     "output_type": "stream",
     "text": [
      "Hi Welcome To Python File Handling\n"
     ]
    }
   ],
   "source": [
    "readFile = open('demo.txt', 'r')\n",
    "\n",
    "print(readFile.read())\n",
    "\n",
    "readFile.close()"
   ]
  },
  {
   "cell_type": "code",
   "execution_count": null,
   "id": "82b7191f-d9df-4840-91ef-8b5acddbb690",
   "metadata": {},
   "outputs": [],
   "source": []
  }
 ],
 "metadata": {
  "kernelspec": {
   "display_name": "Python 3 (ipykernel)",
   "language": "python",
   "name": "python3"
  },
  "language_info": {
   "codemirror_mode": {
    "name": "ipython",
    "version": 3
   },
   "file_extension": ".py",
   "mimetype": "text/x-python",
   "name": "python",
   "nbconvert_exporter": "python",
   "pygments_lexer": "ipython3",
   "version": "3.13.2"
  }
 },
 "nbformat": 4,
 "nbformat_minor": 5
}
