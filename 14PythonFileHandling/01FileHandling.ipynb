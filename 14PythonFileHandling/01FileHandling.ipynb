{
 "cells": [
  {
   "cell_type": "markdown",
   "id": "4ed4e613-35d0-4c01-b97f-0bb4910c2e9d",
   "metadata": {},
   "source": [
    "Python File Handling:\n",
    "---------------------"
   ]
  },
  {
   "cell_type": "markdown",
   "id": "611a9175-732b-466f-b42d-08b695d3d88e",
   "metadata": {},
   "source": [
    "01 File Read:\n",
    "-------------"
   ]
  },
  {
   "cell_type": "code",
   "execution_count": 4,
   "id": "7a4d6b69-97e9-495c-b470-0dd788cdcd7d",
   "metadata": {},
   "outputs": [
    {
     "name": "stdout",
     "output_type": "stream",
     "text": [
      "Hi Welcome To Python File Handling\n"
     ]
    }
   ],
   "source": [
    "try:\n",
    "    readFile = open('demo.txt', 'r')\n",
    "\n",
    "    print(readFile.read())\n",
    "\n",
    "except Exception as e:\n",
    "    print(e)\n",
    "\n",
    "else:\n",
    "    readFile.close()\n"
   ]
  },
  {
   "cell_type": "markdown",
   "id": "2b57eee2-9b13-4016-9c4e-e2d8edc78875",
   "metadata": {},
   "source": [
    "02 File Write:\n",
    "--------------"
   ]
  },
  {
   "cell_type": "code",
   "execution_count": 6,
   "id": "604d607d-4c45-4b15-8af0-46bf551447ba",
   "metadata": {},
   "outputs": [
    {
     "name": "stdout",
     "output_type": "stream",
     "text": [
      "Befor Write!..\n",
      "Hi Welcome To Python File Handling\n",
      "-------------------------------------------\n",
      "After Write!..\n",
      "Python File Handling Write Method\n"
     ]
    }
   ],
   "source": [
    "try:\n",
    "    readFile = open('demo.txt', 'r')\n",
    "\n",
    "    print('Befor Write!..')\n",
    "    print(readFile.read())\n",
    "\n",
    "    readFile.close()\n",
    "\n",
    "    print('-------------------------------------------')\n",
    "\n",
    "    readWrite = open('demo.txt', 'w')\n",
    "\n",
    "    readWrite.write('Python File Handling Write Method')\n",
    "\n",
    "    readWrite.close()\n",
    "\n",
    "\n",
    "except Exception as e:\n",
    "    print(e)\n",
    "\n",
    "else:\n",
    "    readFile = open('demo.txt', 'r')\n",
    "\n",
    "    print('After Write!..')\n",
    "    print(readFile.read())\n",
    "\n",
    "    readFile.close()\n",
    "\n"
   ]
  },
  {
   "cell_type": "markdown",
   "id": "535c1c86-8473-4877-aa13-9a98e12ca107",
   "metadata": {},
   "source": [
    "03 File Append:\n",
    "---------------"
   ]
  },
  {
   "cell_type": "code",
   "execution_count": 7,
   "id": "b41697f1-0517-4c6d-9f42-2a14da43bec1",
   "metadata": {},
   "outputs": [
    {
     "name": "stdout",
     "output_type": "stream",
     "text": [
      "Befor Append!..\n",
      "Python File Handling Write Method\n",
      "-------------------------------------------\n",
      "After Append!..\n",
      "Python File Handling Write Method Python File Handling Append Method\n"
     ]
    }
   ],
   "source": [
    "try:\n",
    "    readFile = open('demo.txt', 'r')\n",
    "\n",
    "    print('Befor Append!..')\n",
    "    print(readFile.read())\n",
    "\n",
    "    readFile.close()\n",
    "\n",
    "    print('-------------------------------------------')\n",
    "\n",
    "    readAppend = open('demo.txt', 'a')\n",
    "\n",
    "    readAppend.write(' Python File Handling Append Method')\n",
    "\n",
    "    readAppend.close()\n",
    "\n",
    "\n",
    "except Exception as e:\n",
    "    print(e)\n",
    "\n",
    "else:\n",
    "    readFile = open('demo.txt', 'r')\n",
    "\n",
    "    print('After Append!..')\n",
    "    print(readFile.read())\n",
    "\n",
    "    readFile.close()\n",
    "\n"
   ]
  },
  {
   "cell_type": "code",
   "execution_count": null,
   "id": "7a3aff43-023c-4d9f-8f2a-9ea2c42a8557",
   "metadata": {},
   "outputs": [],
   "source": []
  }
 ],
 "metadata": {
  "kernelspec": {
   "display_name": "Python 3 (ipykernel)",
   "language": "python",
   "name": "python3"
  },
  "language_info": {
   "codemirror_mode": {
    "name": "ipython",
    "version": 3
   },
   "file_extension": ".py",
   "mimetype": "text/x-python",
   "name": "python",
   "nbconvert_exporter": "python",
   "pygments_lexer": "ipython3",
   "version": "3.13.2"
  }
 },
 "nbformat": 4,
 "nbformat_minor": 5
}
