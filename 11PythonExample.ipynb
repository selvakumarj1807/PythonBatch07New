{
 "cells": [
  {
   "cell_type": "markdown",
   "id": "20ac9e29-fa88-4b99-8c09-fc8180711d83",
   "metadata": {},
   "source": [
    "Functions:\n",
    "----------\n",
    "\n",
    "1. Function is a block of code. which only runs when it is called.\n",
    "2. Function Declration\n",
    "\n",
    "    def function_Name():\n",
    "       block of code....\n",
    "       .....\n",
    "\n",
    "3. Function Call\n",
    "\n",
    "    function_Name()"
   ]
  },
  {
   "cell_type": "code",
   "execution_count": 1,
   "id": "254fec86-bb42-4997-8ce0-40cd4cf3b408",
   "metadata": {},
   "outputs": [],
   "source": [
    "# Example 01:\n",
    "# Function Creation\n",
    "\n",
    "def welcome():\n",
    "    print('Welcome Python Functions')"
   ]
  },
  {
   "cell_type": "code",
   "execution_count": 6,
   "id": "712682ce-f75a-4568-800f-5f63583793a2",
   "metadata": {},
   "outputs": [
    {
     "name": "stdout",
     "output_type": "stream",
     "text": [
      "Welcome Python Functions\n",
      "Welcome Python Functions\n",
      "Welcome Python Functions\n"
     ]
    }
   ],
   "source": [
    "# Call the function\n",
    "\n",
    "welcome()\n",
    "\n",
    "welcome()\n",
    "\n",
    "welcome()"
   ]
  },
  {
   "cell_type": "markdown",
   "id": "e080e5de-1306-49ce-9fb1-7e641a598506",
   "metadata": {},
   "source": [
    "Funtion Type 01 'No Return Type With Out Argument'\n",
    "--------------------------------------------------"
   ]
  },
  {
   "cell_type": "code",
   "execution_count": 14,
   "id": "c7d7f564-fde8-40ce-8251-6475f5ce615d",
   "metadata": {},
   "outputs": [],
   "source": [
    "def add():\n",
    "    a = int(input('Enter your value 01 : '))\n",
    "    b = int(input('Enter your value 02 : '))\n",
    "\n",
    "    print(a, ' + ', b, ' = ', a + b)\n",
    "    print(a, ' - ', b, ' = ', a - b)"
   ]
  },
  {
   "cell_type": "code",
   "execution_count": 15,
   "id": "87a3e713-864c-4692-a400-456f11608d93",
   "metadata": {},
   "outputs": [
    {
     "name": "stdin",
     "output_type": "stream",
     "text": [
      "Enter your value 01 :  11\n",
      "Enter your value 02 :  1\n"
     ]
    },
    {
     "name": "stdout",
     "output_type": "stream",
     "text": [
      "11  +  1  =  12\n",
      "11  -  1  =  10\n",
      "--------------------------------\n"
     ]
    },
    {
     "name": "stdin",
     "output_type": "stream",
     "text": [
      "Enter your value 01 :  22\n",
      "Enter your value 02 :  2\n"
     ]
    },
    {
     "name": "stdout",
     "output_type": "stream",
     "text": [
      "22  +  2  =  24\n",
      "22  -  2  =  20\n"
     ]
    }
   ],
   "source": [
    "add()\n",
    "\n",
    "print('--------------------------------')\n",
    "\n",
    "add()"
   ]
  },
  {
   "cell_type": "code",
   "execution_count": 11,
   "id": "0f38d627-ed95-4078-9af4-57a93174a66f",
   "metadata": {},
   "outputs": [
    {
     "name": "stdin",
     "output_type": "stream",
     "text": [
      "Enter your value 01 :  11\n",
      "Enter your value 02 :  1\n"
     ]
    },
    {
     "name": "stdout",
     "output_type": "stream",
     "text": [
      "11  +  1  =  12\n",
      "-----------------\n"
     ]
    },
    {
     "name": "stdin",
     "output_type": "stream",
     "text": [
      "Enter your value 01 :  22\n",
      "Enter your value 02 :  2\n"
     ]
    },
    {
     "name": "stdout",
     "output_type": "stream",
     "text": [
      "22  +  2  =  24\n",
      "-----------------\n"
     ]
    },
    {
     "name": "stdin",
     "output_type": "stream",
     "text": [
      "Enter your value 01 :  33\n",
      "Enter your value 02 :  3\n"
     ]
    },
    {
     "name": "stdout",
     "output_type": "stream",
     "text": [
      "33  +  3  =  36\n",
      "-----------------\n"
     ]
    }
   ],
   "source": [
    "for i in range (3):\n",
    "    add()\n",
    "    print('-----------------')"
   ]
  },
  {
   "cell_type": "markdown",
   "id": "c847041a-cae5-4336-861d-60eb59c54dcc",
   "metadata": {},
   "source": [
    "Funtion Type 02 'No Return Type With Argument'\n",
    "----------------------------------------------"
   ]
  },
  {
   "cell_type": "code",
   "execution_count": 20,
   "id": "9c3170b4-882c-43d8-958f-dc6c0ae1dd81",
   "metadata": {},
   "outputs": [],
   "source": [
    "def add(a, b):\n",
    "    print(a, ' + ', b, ' = ', a + b)\n",
    "    print(a, ' - ', b, ' = ', a - b)"
   ]
  },
  {
   "cell_type": "code",
   "execution_count": 21,
   "id": "5feb3cbc-2a07-4a3f-8eb7-8fe2c8710464",
   "metadata": {},
   "outputs": [
    {
     "name": "stdout",
     "output_type": "stream",
     "text": [
      "10  +  2  =  12\n",
      "10  -  2  =  8\n",
      "------------------------------------------\n",
      "20  +  2  =  22\n",
      "20  -  2  =  18\n",
      "------------------------------------------\n",
      "30  +  2  =  32\n",
      "30  -  2  =  28\n"
     ]
    }
   ],
   "source": [
    "add(10, 2)\n",
    "\n",
    "print('------------------------------------------')\n",
    "\n",
    "add(20, 2)\n",
    "\n",
    "print('------------------------------------------')\n",
    "\n",
    "add(30, 2)\n",
    "\n"
   ]
  },
  {
   "cell_type": "markdown",
   "id": "e5ec082b-7bf7-4c25-a7cd-27b8511fae63",
   "metadata": {},
   "source": [
    "Funtion Type 03 'Return Type With Out Argument'\n",
    "-----------------------------------------------"
   ]
  },
  {
   "cell_type": "code",
   "execution_count": 22,
   "id": "980b0688-24d4-4d39-8735-869dcb2663c4",
   "metadata": {},
   "outputs": [],
   "source": [
    "def add():\n",
    "    a = int(input('Enter your value 01 : '))\n",
    "    b = int(input('Enter your value 02 : '))\n",
    "\n",
    "    c = a + b\n",
    "    return c"
   ]
  },
  {
   "cell_type": "code",
   "execution_count": 24,
   "id": "755d06ec-0d6d-49ca-b1a2-132813024f18",
   "metadata": {},
   "outputs": [
    {
     "name": "stdin",
     "output_type": "stream",
     "text": [
      "Enter your value 01 :  12\n",
      "Enter your value 02 :  2\n"
     ]
    },
    {
     "name": "stdout",
     "output_type": "stream",
     "text": [
      "14\n",
      "---------------------------------------------\n"
     ]
    },
    {
     "name": "stdin",
     "output_type": "stream",
     "text": [
      "Enter your value 01 :  12\n",
      "Enter your value 02 :  3\n"
     ]
    },
    {
     "name": "stdout",
     "output_type": "stream",
     "text": [
      "15\n"
     ]
    }
   ],
   "source": [
    "print(add())\n",
    "\n",
    "print('---------------------------------------------')\n",
    "\n",
    "ans = add()\n",
    "\n",
    "print(ans)"
   ]
  },
  {
   "cell_type": "markdown",
   "id": "aaccd1f3-3400-4ab8-97fd-42f2e31e42df",
   "metadata": {},
   "source": [
    "Funtion Type 04 'Return Type With Argument'\n",
    "-------------------------------------------"
   ]
  },
  {
   "cell_type": "code",
   "execution_count": 1,
   "id": "3acaf946-1349-4488-964b-ae4d6f770490",
   "metadata": {},
   "outputs": [],
   "source": [
    "def add(a, b):\n",
    "    c = a + b\n",
    "    return c"
   ]
  },
  {
   "cell_type": "code",
   "execution_count": 26,
   "id": "3caf0b29-ffd1-4f7c-9c8c-a3057c873d6c",
   "metadata": {},
   "outputs": [
    {
     "name": "stdout",
     "output_type": "stream",
     "text": [
      "15\n",
      "-----------------------------------------------\n",
      "25\n"
     ]
    }
   ],
   "source": [
    "print(add(10, 5))\n",
    "\n",
    "print('-----------------------------------------------')\n",
    "\n",
    "ans = add(20, 5)\n",
    "\n",
    "print(ans)"
   ]
  },
  {
   "cell_type": "code",
   "execution_count": null,
   "id": "45796625-7bf5-4659-b9c2-c8795000ee2b",
   "metadata": {},
   "outputs": [],
   "source": [
    "'''\n",
    "ToDay Work:\n",
    "-----------\n",
    "\n",
    "To Write the Python Code for velow output Using Functions\n",
    "\n",
    "function Call:\n",
    "--------------\n",
    "\n",
    "table01()\n",
    "\n",
    "print('----------------------------------')\n",
    "\n",
    "table01()\n",
    "\n",
    "output:\n",
    "-------\n",
    "\n",
    "Enter the Limit value: 3\n",
    "\n",
    "Enter the Table value: 2\n",
    "\n",
    "1 x 2 = 2\n",
    "2 x 2 = 4\n",
    "3 x 2 = 6\n",
    "\n",
    "print('----------------------------------')\n",
    "\n",
    "Enter the Limit value: 3\n",
    "\n",
    "Enter the Table value: 3\n",
    "\n",
    "1 x 3 = 3\n",
    "2 x 3 = 6\n",
    "3 x 3 = 9\n",
    "\n",
    "'''"
   ]
  },
  {
   "cell_type": "code",
   "execution_count": 6,
   "id": "ab0249b2-1f65-4b55-b346-ea5ede71857c",
   "metadata": {},
   "outputs": [
    {
     "name": "stdout",
     "output_type": "stream",
     "text": [
      "1  *  2  =  2\n",
      "2  *  2  =  4\n",
      "3  *  2  =  6\n",
      "4  *  2  =  8\n",
      "5  *  2  =  10\n"
     ]
    }
   ],
   "source": [
    "table = 2\n",
    "\n",
    "for i in range (1, 6):\n",
    "    print(i, ' * ', table, ' = ', i * 2)"
   ]
  },
  {
   "cell_type": "code",
   "execution_count": 12,
   "id": "a3be0dd8-dbf1-4d63-b906-2eb250fdd0f5",
   "metadata": {},
   "outputs": [],
   "source": [
    "def table(table):\n",
    "    for i in range (1, 6):\n",
    "        print(i, ' * ', table, ' = ', i * table)"
   ]
  },
  {
   "cell_type": "code",
   "execution_count": 13,
   "id": "569b995e-8593-4f3a-83c3-12010ef85281",
   "metadata": {},
   "outputs": [
    {
     "name": "stdout",
     "output_type": "stream",
     "text": [
      "1  *  3  =  3\n",
      "2  *  3  =  6\n",
      "3  *  3  =  9\n",
      "4  *  3  =  12\n",
      "5  *  3  =  15\n",
      "----------------------------------------------------\n",
      "1  *  4  =  4\n",
      "2  *  4  =  8\n",
      "3  *  4  =  12\n",
      "4  *  4  =  16\n",
      "5  *  4  =  20\n",
      "----------------------------------------------------\n",
      "1  *  5  =  5\n",
      "2  *  5  =  10\n",
      "3  *  5  =  15\n",
      "4  *  5  =  20\n",
      "5  *  5  =  25\n"
     ]
    }
   ],
   "source": [
    "table(3)\n",
    "\n",
    "print('----------------------------------------------------')\n",
    "\n",
    "table(4)\n",
    "\n",
    "print('----------------------------------------------------')\n",
    "\n",
    "table(5)"
   ]
  },
  {
   "cell_type": "markdown",
   "id": "2ee05fbd-2f53-4db4-9081-30bcd39e826b",
   "metadata": {},
   "source": [
    "Arbitrary Argument Function:\n",
    "----------------------------"
   ]
  },
  {
   "cell_type": "code",
   "execution_count": 17,
   "id": "e8ae063a-ee78-4ad2-a918-5cea01a419c9",
   "metadata": {},
   "outputs": [],
   "source": [
    "def studentNames(*names):\n",
    "    print(names, type(names))"
   ]
  },
  {
   "cell_type": "code",
   "execution_count": 18,
   "id": "5602af11-7f69-498c-a906-5f5f88f53a0f",
   "metadata": {},
   "outputs": [
    {
     "name": "stdout",
     "output_type": "stream",
     "text": [
      "('Sara', 'Lara', 'thara', 'dhara') <class 'tuple'>\n"
     ]
    }
   ],
   "source": [
    "studentNames('Sara', 'Lara', 'thara', 'dhara')"
   ]
  },
  {
   "cell_type": "code",
   "execution_count": 19,
   "id": "4346c569-57e9-48a8-92e9-471dc10da92b",
   "metadata": {},
   "outputs": [],
   "source": [
    "def studentNames(names):\n",
    "    print(names, type(names))"
   ]
  },
  {
   "cell_type": "code",
   "execution_count": 20,
   "id": "2a7cd089-c6d3-4b25-8407-2961e6eb245c",
   "metadata": {},
   "outputs": [
    {
     "name": "stdout",
     "output_type": "stream",
     "text": [
      "['Sara', 'Lara', 'thara', 'dhara'] <class 'list'>\n"
     ]
    }
   ],
   "source": [
    "studentNames(['Sara', 'Lara', 'thara', 'dhara'])"
   ]
  },
  {
   "cell_type": "markdown",
   "id": "e100623a-fd7c-46aa-8ae5-af02998a2ed2",
   "metadata": {},
   "source": [
    "keyword Argument Function:\n",
    "--------------------------"
   ]
  },
  {
   "cell_type": "code",
   "execution_count": 23,
   "id": "1fc2820d-0dba-42aa-9232-ec96bed12080",
   "metadata": {},
   "outputs": [],
   "source": [
    "def studentDetails(studId, age, name, gender):\n",
    "    print(studId, name, age, gender)"
   ]
  },
  {
   "cell_type": "code",
   "execution_count": 25,
   "id": "1b4ac862-2448-43a4-8f6f-f5b704bac57f",
   "metadata": {},
   "outputs": [
    {
     "name": "stdout",
     "output_type": "stream",
     "text": [
      "101 Sara 27 Male\n"
     ]
    }
   ],
   "source": [
    "studentDetails(studId = '101', age = 27, gender = 'Male', name = 'Sara')"
   ]
  },
  {
   "cell_type": "markdown",
   "id": "a5704699-d816-47a8-a953-b6da338c39e0",
   "metadata": {},
   "source": [
    "Keyword Arbitrary Argument Function:\n",
    "------------------------------------"
   ]
  },
  {
   "cell_type": "code",
   "execution_count": 26,
   "id": "b1f5c21c-f0c5-4710-84d3-7524e670354a",
   "metadata": {},
   "outputs": [],
   "source": [
    "def studentDetails(**details):\n",
    "    print(details, type(details))"
   ]
  },
  {
   "cell_type": "code",
   "execution_count": 27,
   "id": "9bc4f8ea-2f5a-45ac-a66d-8f969e3078a5",
   "metadata": {},
   "outputs": [
    {
     "name": "stdout",
     "output_type": "stream",
     "text": [
      "{'studId': '101', 'age': 27, 'gender': 'Male', 'name': 'Sara'} <class 'dict'>\n"
     ]
    }
   ],
   "source": [
    "studentDetails(studId = '101', age = 27, gender = 'Male', name = 'Sara')"
   ]
  },
  {
   "cell_type": "markdown",
   "id": "cef3b72b-5438-448e-8163-494b38df1fb9",
   "metadata": {},
   "source": [
    "Default Parameter Function:\n",
    "---------------------------"
   ]
  },
  {
   "cell_type": "code",
   "execution_count": 32,
   "id": "e332cc1b-e36c-4420-a2d9-da78328948a6",
   "metadata": {},
   "outputs": [],
   "source": [
    "def studentDetails(studId, age, name, gender, city = 'Chennai'):\n",
    "    print(studId, name, age, gender, city)"
   ]
  },
  {
   "cell_type": "code",
   "execution_count": 35,
   "id": "d5425564-5c28-4adc-9aa1-da4ac7cc3e48",
   "metadata": {},
   "outputs": [
    {
     "name": "stdout",
     "output_type": "stream",
     "text": [
      "101 27 Sara Male Dindigul\n",
      "----------------------------------------------------------\n",
      "101 27 Sara Male Chennai\n"
     ]
    }
   ],
   "source": [
    "studentDetails(101, 'Sara', 27, 'Male','Dindigul')\n",
    "\n",
    "print('----------------------------------------------------------')\n",
    "\n",
    "studentDetails(101, 'Sara', 27, 'Male')"
   ]
  },
  {
   "cell_type": "markdown",
   "id": "1ebb44ea-cc5e-4407-a290-b53e30b6c67c",
   "metadata": {},
   "source": [
    "Lambda Function:\n",
    "----------------"
   ]
  },
  {
   "cell_type": "code",
   "execution_count": 37,
   "id": "86bdaa8e-abd1-4614-9dcf-7831a5db7f9c",
   "metadata": {},
   "outputs": [
    {
     "name": "stdout",
     "output_type": "stream",
     "text": [
      "-------------------------------------\n",
      "12\n",
      "22\n",
      "32\n"
     ]
    }
   ],
   "source": [
    "addTwoValue = lambda a,b:a+b\n",
    "\n",
    "print('-------------------------------------')\n",
    "\n",
    "print(addTwoValue(10,2))\n",
    "\n",
    "print(addTwoValue(20,2))\n",
    "\n",
    "print(addTwoValue(30,2))"
   ]
  },
  {
   "cell_type": "code",
   "execution_count": null,
   "id": "7507471f-f8b8-4c53-a8dd-a02c40c97fb2",
   "metadata": {},
   "outputs": [],
   "source": []
  }
 ],
 "metadata": {
  "kernelspec": {
   "display_name": "Python 3 (ipykernel)",
   "language": "python",
   "name": "python3"
  },
  "language_info": {
   "codemirror_mode": {
    "name": "ipython",
    "version": 3
   },
   "file_extension": ".py",
   "mimetype": "text/x-python",
   "name": "python",
   "nbconvert_exporter": "python",
   "pygments_lexer": "ipython3",
   "version": "3.13.2"
  }
 },
 "nbformat": 4,
 "nbformat_minor": 5
}
