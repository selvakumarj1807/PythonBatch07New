{
 "cells": [
  {
   "cell_type": "markdown",
   "id": "8e9651bf-7057-497c-a393-8875e67587c0",
   "metadata": {},
   "source": [
    "Loop Pattern Program Using Nested Loop:\n",
    "---------------------------------------"
   ]
  },
  {
   "cell_type": "code",
   "execution_count": 1,
   "id": "e50ad91c-ffa4-4829-a736-5cbc86a01ee5",
   "metadata": {},
   "outputs": [
    {
     "name": "stdout",
     "output_type": "stream",
     "text": [
      "0\n",
      "1\n",
      "2\n",
      "3\n",
      "4\n"
     ]
    }
   ],
   "source": [
    "# Example 01\n",
    "\n",
    "for i in range(5):\n",
    "    print(i)"
   ]
  },
  {
   "cell_type": "code",
   "execution_count": 2,
   "id": "825e73ab-45f8-44dd-9709-ea45b0e6817a",
   "metadata": {},
   "outputs": [
    {
     "name": "stdout",
     "output_type": "stream",
     "text": [
      "0 1 2 3 4 "
     ]
    }
   ],
   "source": [
    "# Example 02\n",
    "\n",
    "for i in range(5):\n",
    "    print(i, end=' ')"
   ]
  },
  {
   "cell_type": "code",
   "execution_count": 14,
   "id": "b2f61ee8-e29d-4866-bd40-d252f172fe6e",
   "metadata": {},
   "outputs": [
    {
     "name": "stdout",
     "output_type": "stream",
     "text": [
      "\n",
      "1 \n",
      "2 2 \n",
      "3 3 3 \n",
      "4 4 4 4 \n",
      "5 5 5 5 5 \n"
     ]
    }
   ],
   "source": [
    "# Loop Pattern\n",
    "\n",
    "# Example 01\n",
    "\n",
    "'''\n",
    "step 01:\n",
    "\n",
    "Outer Loop\n",
    "i = 0 True\n",
    "\n",
    "Inner Loop\n",
    "j = 0\n",
    "i = 0\n",
    "\n",
    "0 < 0 False\n",
    "\n",
    "Outer Loop\n",
    "i = 1 True\n",
    "\n",
    "Inner Loop\n",
    "j = 0\n",
    "i = 1\n",
    "\n",
    "0 < 1 True\n",
    "1\n",
    "\n",
    "j = 1\n",
    "i = 1\n",
    "\n",
    "1 < 1 False\n",
    "\n",
    "Outer Loop\n",
    "i = 2\n",
    "\n",
    "Inner Loop\n",
    "j = 0\n",
    "i = 2\n",
    "\n",
    "0 < 2 True\n",
    "2\n",
    "\n",
    "j = 1\n",
    "i = 2\n",
    "\n",
    "1 < 2 True\n",
    "2\n",
    "\n",
    "j = 2\n",
    "i = 2\n",
    "\n",
    "2 < 2 False\n",
    "'''\n",
    "\n",
    "for i in range(6): # 6 < 6 False\n",
    "    for j in range(i):\n",
    "        print(i, end=' ')\n",
    "\n",
    "    print('')"
   ]
  },
  {
   "cell_type": "code",
   "execution_count": 18,
   "id": "0013fd77-f28c-4ac2-a8f5-fdcc69e0ab89",
   "metadata": {},
   "outputs": [
    {
     "name": "stdout",
     "output_type": "stream",
     "text": [
      "\n",
      "# \n",
      "# # \n",
      "# # # \n",
      "# # # # \n",
      "# # # # # \n"
     ]
    }
   ],
   "source": [
    "# Loop Pattern\n",
    "\n",
    "# Example 02\n",
    "\n",
    "for i in range(6): # 6 < 6 False\n",
    "    for j in range(i):\n",
    "        print('#', end=' ')\n",
    "\n",
    "    print('')"
   ]
  },
  {
   "cell_type": "code",
   "execution_count": 23,
   "id": "42313a1e-1a00-4f60-994a-232c5ae6404f",
   "metadata": {},
   "outputs": [
    {
     "name": "stdout",
     "output_type": "stream",
     "text": [
      "\n",
      "1 \n",
      "1 2 \n",
      "1 2 3 \n",
      "1 2 3 4 \n",
      "1 2 3 4 5 \n"
     ]
    }
   ],
   "source": [
    "# Loop Pattern\n",
    "\n",
    "# Example 03\n",
    "\n",
    "for i in range(6): # 6 < 6 False\n",
    "    for j in range(1, i+1):\n",
    "        print(j, end=' ')\n",
    "\n",
    "    print('')"
   ]
  },
  {
   "cell_type": "code",
   "execution_count": 24,
   "id": "6905874e-198f-4b06-9a39-8f617ebe5167",
   "metadata": {},
   "outputs": [
    {
     "name": "stdout",
     "output_type": "stream",
     "text": [
      "5\n",
      "4\n",
      "3\n",
      "2\n",
      "1\n"
     ]
    }
   ],
   "source": [
    "for i in range(5, 0, -1):\n",
    "    print(i)"
   ]
  },
  {
   "cell_type": "code",
   "execution_count": 26,
   "id": "08f63306-eb65-4c32-9707-ad121b203c60",
   "metadata": {},
   "outputs": [
    {
     "name": "stdout",
     "output_type": "stream",
     "text": [
      "A\n"
     ]
    }
   ],
   "source": [
    "'''\n",
    "Capital Letter = A - Z : Asci Value = 65 - 90\n",
    "Small Letter = a -z    : Asci Value = 97 - 122\n",
    "'''\n",
    "\n",
    "print(chr(65))"
   ]
  },
  {
   "cell_type": "code",
   "execution_count": 29,
   "id": "50b921ea-77c8-4362-b84c-c7b1172cd0e5",
   "metadata": {},
   "outputs": [
    {
     "name": "stdout",
     "output_type": "stream",
     "text": [
      "A\n",
      "B\n",
      "C\n",
      "D\n",
      "E\n",
      "F\n",
      "G\n",
      "H\n",
      "I\n",
      "J\n",
      "K\n",
      "L\n",
      "M\n",
      "N\n",
      "O\n",
      "P\n",
      "Q\n",
      "R\n",
      "S\n",
      "T\n",
      "U\n",
      "V\n",
      "W\n",
      "X\n",
      "Y\n",
      "Z\n"
     ]
    }
   ],
   "source": [
    "for i in range(65, 90+1):\n",
    "    print(chr(i))"
   ]
  },
  {
   "cell_type": "code",
   "execution_count": 32,
   "id": "4210e5d2-66c5-4c6e-9b60-ec7f36365ec2",
   "metadata": {},
   "outputs": [
    {
     "name": "stdout",
     "output_type": "stream",
     "text": [
      "a\n",
      "b\n",
      "c\n",
      "d\n",
      "e\n",
      "f\n",
      "g\n",
      "h\n",
      "i\n",
      "j\n",
      "k\n",
      "l\n",
      "m\n",
      "n\n",
      "o\n",
      "p\n",
      "q\n",
      "r\n",
      "s\n",
      "t\n",
      "u\n",
      "v\n",
      "w\n",
      "x\n",
      "y\n",
      "z\n"
     ]
    }
   ],
   "source": [
    "for i in range(97, 122+1):\n",
    "    print(chr(i))"
   ]
  },
  {
   "cell_type": "code",
   "execution_count": 35,
   "id": "d2845673-5a2d-4eaf-bd36-c8cd70909e2c",
   "metadata": {},
   "outputs": [
    {
     "name": "stdout",
     "output_type": "stream",
     "text": [
      "1 1 1 1 1 \n",
      "2 2 2 2 2 \n",
      "3 3 3 3 3 \n",
      "4 4 4 4 4 \n",
      "5 5 5 5 5 \n"
     ]
    }
   ],
   "source": [
    "for i in range(1, 6):\n",
    "    for j in range(1, 6):\n",
    "        print(i, end= ' ')\n",
    "    print('')"
   ]
  },
  {
   "cell_type": "code",
   "execution_count": null,
   "id": "1cc8ca84-de37-4c4f-bc8d-d43d9df73138",
   "metadata": {},
   "outputs": [],
   "source": [
    "'''\n",
    "ToDay Work:\n",
    "-----------\n",
    "\n",
    "To Write the Python Code for Below OutPut: Using Nested Loop\n",
    "\n",
    "OutPut 01:\n",
    "\n",
    "5 4 3 2 1\n",
    "5 4 3 2\n",
    "5 4 3\n",
    "5 4\n",
    "5\n",
    "\n",
    "OutPut 02:\n",
    "\n",
    "1 2 3 4 5\n",
    "1 2 3 4\n",
    "1 2 3\n",
    "1 2\n",
    "1\n",
    "\n",
    "OutPut 03:\n",
    "\n",
    "A B C D E\n",
    "A B C D E\n",
    "A B C D E\n",
    "A B C D E\n",
    "A B C D E\n",
    "\n",
    "\n",
    "OutPut 04:\n",
    "\n",
    "A\n",
    "A B\n",
    "A B C\n",
    "A B C D\n",
    "A B C D E\n",
    "'''"
   ]
  }
 ],
 "metadata": {
  "kernelspec": {
   "display_name": "Python 3 (ipykernel)",
   "language": "python",
   "name": "python3"
  },
  "language_info": {
   "codemirror_mode": {
    "name": "ipython",
    "version": 3
   },
   "file_extension": ".py",
   "mimetype": "text/x-python",
   "name": "python",
   "nbconvert_exporter": "python",
   "pygments_lexer": "ipython3",
   "version": "3.13.2"
  }
 },
 "nbformat": 4,
 "nbformat_minor": 5
}
