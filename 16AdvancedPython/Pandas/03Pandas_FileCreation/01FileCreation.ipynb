{
 "cells": [
  {
   "cell_type": "markdown",
   "id": "42da458b-170f-4a20-81da-9b148b61602c",
   "metadata": {},
   "source": [
    "Create CSV Files:\n",
    "-----------------"
   ]
  },
  {
   "cell_type": "code",
   "execution_count": 3,
   "id": "dc928391-fc22-4aff-a445-097027b0423c",
   "metadata": {},
   "outputs": [],
   "source": [
    "import pandas as pd"
   ]
  },
  {
   "cell_type": "code",
   "execution_count": 9,
   "id": "2fc45e15-fdbd-4ceb-b496-be6e3f1f5bab",
   "metadata": {},
   "outputs": [
    {
     "data": {
      "text/html": [
       "<div>\n",
       "<style scoped>\n",
       "    .dataframe tbody tr th:only-of-type {\n",
       "        vertical-align: middle;\n",
       "    }\n",
       "\n",
       "    .dataframe tbody tr th {\n",
       "        vertical-align: top;\n",
       "    }\n",
       "\n",
       "    .dataframe thead th {\n",
       "        text-align: right;\n",
       "    }\n",
       "</style>\n",
       "<table border=\"1\" class=\"dataframe\">\n",
       "  <thead>\n",
       "    <tr style=\"text-align: right;\">\n",
       "      <th></th>\n",
       "      <th>day</th>\n",
       "      <th>temperature</th>\n",
       "      <th>windspeed</th>\n",
       "      <th>event</th>\n",
       "    </tr>\n",
       "  </thead>\n",
       "  <tbody>\n",
       "    <tr>\n",
       "      <th>0</th>\n",
       "      <td>1/1/2017</td>\n",
       "      <td>32</td>\n",
       "      <td>6</td>\n",
       "      <td>Rain</td>\n",
       "    </tr>\n",
       "    <tr>\n",
       "      <th>1</th>\n",
       "      <td>1/2/2017</td>\n",
       "      <td>35</td>\n",
       "      <td>7</td>\n",
       "      <td>Sunny</td>\n",
       "    </tr>\n",
       "    <tr>\n",
       "      <th>2</th>\n",
       "      <td>1/3/2017</td>\n",
       "      <td>28</td>\n",
       "      <td>2</td>\n",
       "      <td>Snow</td>\n",
       "    </tr>\n",
       "    <tr>\n",
       "      <th>3</th>\n",
       "      <td>1/4/2017</td>\n",
       "      <td>24</td>\n",
       "      <td>7</td>\n",
       "      <td>Snow</td>\n",
       "    </tr>\n",
       "    <tr>\n",
       "      <th>4</th>\n",
       "      <td>1/5/2017</td>\n",
       "      <td>32</td>\n",
       "      <td>4</td>\n",
       "      <td>Rain</td>\n",
       "    </tr>\n",
       "    <tr>\n",
       "      <th>5</th>\n",
       "      <td>1/6/2017</td>\n",
       "      <td>31</td>\n",
       "      <td>2</td>\n",
       "      <td>Sunny</td>\n",
       "    </tr>\n",
       "  </tbody>\n",
       "</table>\n",
       "</div>"
      ],
      "text/plain": [
       "        day  temperature  windspeed  event\n",
       "0  1/1/2017           32          6   Rain\n",
       "1  1/2/2017           35          7  Sunny\n",
       "2  1/3/2017           28          2   Snow\n",
       "3  1/4/2017           24          7   Snow\n",
       "4  1/5/2017           32          4   Rain\n",
       "5  1/6/2017           31          2  Sunny"
      ]
     },
     "execution_count": 9,
     "metadata": {},
     "output_type": "execute_result"
    }
   ],
   "source": [
    "# Define the data\n",
    "\n",
    "weather_data = {\n",
    "    'day': ['1/1/2017','1/2/2017','1/3/2017','1/4/2017','1/5/2017','1/6/2017'],\n",
    "    'temperature': [32,35,28,24,32,31],\n",
    "    'windspeed': [6,7,2,7,4,2],\n",
    "    'event': ['Rain', 'Sunny', 'Snow', 'Snow', 'Rain', 'Sunny']\n",
    "}\n",
    "\n",
    "df = pd.DataFrame(weather_data)\n",
    "\n",
    "df"
   ]
  },
  {
   "cell_type": "code",
   "execution_count": 10,
   "id": "8aee8050-d6a6-4ad5-b2aa-8a6c893e8bf3",
   "metadata": {},
   "outputs": [
    {
     "name": "stdout",
     "output_type": "stream",
     "text": [
      "CSV file created successfully.\n"
     ]
    }
   ],
   "source": [
    "# DataFrame values to CSV file(Comma seperated file)\n",
    "\n",
    "df.to_csv('weather_data.csv', index=False)\n",
    "\n",
    "print(\"CSV file created successfully.\")"
   ]
  },
  {
   "cell_type": "markdown",
   "id": "85c11c5e-3ebf-4bd6-8755-33c9f8407ee2",
   "metadata": {},
   "source": [
    "Create XLSX File:\n",
    "-----------------"
   ]
  },
  {
   "cell_type": "code",
   "execution_count": 6,
   "id": "b2b47cc9-1f9c-4b45-a63d-6b1b5e22f739",
   "metadata": {},
   "outputs": [],
   "source": [
    "# Define the data\n",
    "\n",
    "# Create df_stocks, df_weather DataFrame\n",
    "\n",
    "df_stocks = pd.DataFrame({\n",
    "    'tickers': ['GOOGL', 'WMT', 'MSFT'],\n",
    "    'price': [845, 65, 64 ],\n",
    "    'pe': [30.37, 14.26, 30.97],\n",
    "    'eps': [27.82, 4.61, 2.12]\n",
    "})\n",
    "\n",
    "df_weather =  pd.DataFrame({\n",
    "    'day': ['1/1/2017','1/2/2017','1/3/2017'],\n",
    "    'temperature': [32,35,28],\n",
    "    'event': ['Rain', 'Sunny', 'Snow']\n",
    "})"
   ]
  },
  {
   "cell_type": "code",
   "execution_count": 7,
   "id": "6104b5d6-a75e-4353-9800-700d1f045732",
   "metadata": {},
   "outputs": [
    {
     "name": "stdout",
     "output_type": "stream",
     "text": [
      "  tickers  price     pe    eps\n",
      "0   GOOGL    845  30.37  27.82\n",
      "1     WMT     65  14.26   4.61\n",
      "2    MSFT     64  30.97   2.12\n",
      "--------------------------------------------------\n",
      "        day  temperature  event\n",
      "0  1/1/2017           32   Rain\n",
      "1  1/2/2017           35  Sunny\n",
      "2  1/3/2017           28   Snow\n"
     ]
    }
   ],
   "source": [
    "print(df_stocks)\n",
    "\n",
    "print('--------------------------------------------------')\n",
    "\n",
    "print(df_weather)"
   ]
  },
  {
   "cell_type": "markdown",
   "id": "46e07fe6-9868-46d2-a7a5-ea797c6d27fd",
   "metadata": {},
   "source": [
    "Create Excel File\n",
    "-----------------\n",
    "'''\n",
    "If have a No module error (openpyxl) then run command in Command Prompt(CMD)\n",
    "\n",
    "pip install openpyxl\n",
    "\n",
    "'''"
   ]
  },
  {
   "cell_type": "code",
   "execution_count": 8,
   "id": "b9097836-2ed4-42f2-a882-f2a78a4ebf91",
   "metadata": {},
   "outputs": [
    {
     "name": "stdout",
     "output_type": "stream",
     "text": [
      "XLSX file created successfully.\n"
     ]
    }
   ],
   "source": [
    "# Create Excel File\n",
    "\n",
    "with pd.ExcelWriter('stocks_weather.xlsx') as writer:\n",
    "    df_stocks.to_excel(writer, sheet_name=\"stocks\")\n",
    "    df_weather.to_excel(writer, sheet_name=\"weather\")\n",
    "\n",
    "\n",
    "print(\"XLSX file created successfully.\")"
   ]
  },
  {
   "cell_type": "markdown",
   "id": "5b0f8770-35c8-42c5-b4ea-3ba34b9dbc5c",
   "metadata": {},
   "source": [
    "Write to Excel In One Sheet:\n",
    "----------------------------"
   ]
  },
  {
   "cell_type": "code",
   "execution_count": 11,
   "id": "737c94f8-a258-4bed-9510-4b39ef85a8ed",
   "metadata": {},
   "outputs": [
    {
     "name": "stdout",
     "output_type": "stream",
     "text": [
      "File Created SuccessFully!..\n"
     ]
    }
   ],
   "source": [
    "df_stocks.to_excel(\"new.xlsx\", sheet_name=\"stocks\", index=False, startrow=2, startcol=1)\n",
    "\n",
    "print('File Created SuccessFully!..')"
   ]
  },
  {
   "cell_type": "code",
   "execution_count": null,
   "id": "4f0a3631-b3bd-41d9-8d25-f1c1ccc2be96",
   "metadata": {},
   "outputs": [],
   "source": []
  }
 ],
 "metadata": {
  "kernelspec": {
   "display_name": "Python 3 (ipykernel)",
   "language": "python",
   "name": "python3"
  },
  "language_info": {
   "codemirror_mode": {
    "name": "ipython",
    "version": 3
   },
   "file_extension": ".py",
   "mimetype": "text/x-python",
   "name": "python",
   "nbconvert_exporter": "python",
   "pygments_lexer": "ipython3",
   "version": "3.13.2"
  }
 },
 "nbformat": 4,
 "nbformat_minor": 5
}
