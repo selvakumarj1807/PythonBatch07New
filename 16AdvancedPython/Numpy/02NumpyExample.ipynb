{
 "cells": [
  {
   "cell_type": "code",
   "execution_count": 1,
   "id": "df6edf6d-8e3c-48b5-ab5f-a609ae77586a",
   "metadata": {},
   "outputs": [],
   "source": [
    "import numpy as np"
   ]
  },
  {
   "cell_type": "markdown",
   "id": "7996d5cd-920c-4c0c-8136-c22c029cecf3",
   "metadata": {},
   "source": [
    "Broadcasting :\n",
    "--------------\n",
    "\n",
    "The term broadcasting describes how NumPy treats arrays with different shapes during arithmetic operations."
   ]
  },
  {
   "cell_type": "code",
   "execution_count": 8,
   "id": "b24f4ec6-9db2-46c1-a9c1-b2fe0df59c42",
   "metadata": {},
   "outputs": [
    {
     "name": "stdout",
     "output_type": "stream",
     "text": [
      "[10, 20, 30] <class 'list'>\n",
      "------------------------------------------\n",
      "[10 20 30]\n",
      "------------------------------------------\n",
      "[20 40 60]\n"
     ]
    }
   ],
   "source": [
    "v1 = [10, 20, 30]\n",
    "\n",
    "print(v1, type(v1))\n",
    "\n",
    "print('------------------------------------------')\n",
    "\n",
    "nv1 = np.array(v1)\n",
    "\n",
    "print(nv1)\n",
    "\n",
    "print('------------------------------------------')\n",
    "\n",
    "print(nv1 * 2)"
   ]
  },
  {
   "cell_type": "code",
   "execution_count": 11,
   "id": "1fa0a525-a9c0-4c40-a0cc-e721df4fefd4",
   "metadata": {},
   "outputs": [
    {
     "name": "stdout",
     "output_type": "stream",
     "text": [
      "[1 2 3 4]  +  [1 2 3 4]  =  [2 4 6 8]\n"
     ]
    }
   ],
   "source": [
    "nv1 = np.array([1, 2, 3, 4])\n",
    "\n",
    "nv2 = np.array([1, 2, 3, 4])\n",
    "\n",
    "print(nv1, ' + ' ,nv2, ' = ', nv1 + nv2)"
   ]
  },
  {
   "cell_type": "code",
   "execution_count": 29,
   "id": "d684efeb-df30-40ba-bb4d-b7c3ff15cba2",
   "metadata": {},
   "outputs": [
    {
     "name": "stdout",
     "output_type": "stream",
     "text": [
      "[1 2 3 4]\n",
      "[1 2 3 4]\n",
      "------------------------------------------\n",
      "[[1]\n",
      " [2]\n",
      " [3]\n",
      " [4]]\n",
      "[[ 1  2  3  4]\n",
      " [ 2  4  6  8]\n",
      " [ 3  6  9 12]\n",
      " [ 4  8 12 16]]\n",
      "------------------------------------------\n",
      "[[1 2]\n",
      " [3 4]]\n",
      "------------------------------------------\n",
      "[[2 4]\n",
      " [6 8]]\n"
     ]
    }
   ],
   "source": [
    "nv1 = np.array([1, 2, 3, 4])\n",
    "\n",
    "nv2 = np.array([1, 2, 3, 4])\n",
    "\n",
    "print(nv1)\n",
    "\n",
    "print(nv2)\n",
    "\n",
    "print('------------------------------------------')\n",
    "\n",
    "rnv21 = nv2.reshape(4, 1)\n",
    "\n",
    "print(rnv21)\n",
    "\n",
    "print(nv1 * rnv21)\n",
    "\n",
    "print('------------------------------------------')\n",
    "\n",
    "rnv21 = nv2.reshape(2, 2)\n",
    "\n",
    "print(rnv21)\n",
    "\n",
    "print('------------------------------------------')\n",
    "\n",
    "print(2 * rnv21)"
   ]
  },
  {
   "cell_type": "code",
   "execution_count": 32,
   "id": "8aa5bb2d-83ad-42f4-97c9-543a2aae2d26",
   "metadata": {},
   "outputs": [
    {
     "name": "stdout",
     "output_type": "stream",
     "text": [
      "-----------------------------------------------\n",
      "[[1 2]\n",
      " [3 4]\n",
      " [5 6]]\n",
      "-----------------------------------------------\n",
      "Sum along columns :  [ 9 12]\n",
      "Sum along rows :  [ 3  7 11]\n"
     ]
    }
   ],
   "source": [
    "arr = np.array([[1, 2], [3, 4], [5, 6]])\n",
    "\n",
    "print('-----------------------------------------------')\n",
    "\n",
    "print(arr)\n",
    "\n",
    "print('-----------------------------------------------')\n",
    "\n",
    "print('Sum along columns : ', np.sum(arr, axis=0))  \n",
    "print('Sum along rows : ', np.sum(arr, axis=1)) "
   ]
  },
  {
   "cell_type": "markdown",
   "id": "ae123251-bb17-447d-9926-99a8c6a648e9",
   "metadata": {},
   "source": [
    "Selection:\n",
    "----------\n",
    "Let's briefly go over how to use brackets for selection based off of comparison operators."
   ]
  },
  {
   "cell_type": "code",
   "execution_count": 38,
   "id": "c020ef86-4ffe-420b-8f66-f3f85f83f41f",
   "metadata": {},
   "outputs": [
    {
     "name": "stdout",
     "output_type": "stream",
     "text": [
      "[ 10  20  30  40  50  60  70  80  90 100]\n"
     ]
    }
   ],
   "source": [
    "arr = np.array([10,20,30,40,50,60,70,80,90,100])\n",
    "\n",
    "print(arr)"
   ]
  },
  {
   "cell_type": "code",
   "execution_count": 42,
   "id": "679d0b50-08a8-4c6c-82e2-bc4f5bc4f54a",
   "metadata": {},
   "outputs": [
    {
     "name": "stdout",
     "output_type": "stream",
     "text": [
      "[False False False False  True  True  True  True  True  True]\n"
     ]
    }
   ],
   "source": [
    "print(arr > 40)"
   ]
  },
  {
   "cell_type": "code",
   "execution_count": 43,
   "id": "b8932465-3683-484b-8a05-9e139e652ec8",
   "metadata": {},
   "outputs": [
    {
     "name": "stdout",
     "output_type": "stream",
     "text": [
      "[ 50  60  70  80  90 100]\n"
     ]
    }
   ],
   "source": [
    "bool_arr = arr > 40\n",
    "\n",
    "print(arr[bool_arr])"
   ]
  },
  {
   "cell_type": "code",
   "execution_count": null,
   "id": "42108097-c05d-4dc6-b1c5-354ba4cb1bc6",
   "metadata": {},
   "outputs": [],
   "source": []
  }
 ],
 "metadata": {
  "kernelspec": {
   "display_name": "Python 3 (ipykernel)",
   "language": "python",
   "name": "python3"
  },
  "language_info": {
   "codemirror_mode": {
    "name": "ipython",
    "version": 3
   },
   "file_extension": ".py",
   "mimetype": "text/x-python",
   "name": "python",
   "nbconvert_exporter": "python",
   "pygments_lexer": "ipython3",
   "version": "3.13.2"
  }
 },
 "nbformat": 4,
 "nbformat_minor": 5
}
