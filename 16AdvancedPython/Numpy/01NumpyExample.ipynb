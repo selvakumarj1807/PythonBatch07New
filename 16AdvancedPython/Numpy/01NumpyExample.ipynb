{
 "cells": [
  {
   "cell_type": "markdown",
   "id": "9419e6ab-b37b-4145-802c-92233054be5f",
   "metadata": {},
   "source": [
    "What is NumPy?\n",
    "--------------\n",
    "1. NumPy stands for Numerical Python.\n",
    "2. NumPy is a Python library used for working with arrays.\n",
    "3. It also has functions for working in domain of linear algebra, fourier transform, and matrices."
   ]
  },
  {
   "cell_type": "markdown",
   "id": "b17a885b-23f2-4594-9d01-1065340d91f7",
   "metadata": {},
   "source": [
    "Why Use NumPy?\n",
    "--------------\n",
    "1. In Python we have lists that serve the purpose of arrays, but they are slow to process.\n",
    "2. NumPy aims to provide an array object that is up to 50x faster than traditional Python lists.\n",
    "3. The array object in NumPy is called ndarray"
   ]
  },
  {
   "cell_type": "markdown",
   "id": "b4995dbf-e6aa-4a54-ab89-68743fcdb760",
   "metadata": {},
   "source": [
    "Why is NumPy Faster Than Lists?\n",
    "-------------------------------\n",
    "1. NumPy arrays are stored at one continuous place in memory unlike lists, so processes can access and manipulate them very efficiently."
   ]
  },
  {
   "cell_type": "code",
   "execution_count": 5,
   "id": "5c9cabb2-974f-47f8-8f35-162506970ddc",
   "metadata": {},
   "outputs": [],
   "source": [
    "import numpy as np"
   ]
  },
  {
   "cell_type": "code",
   "execution_count": 6,
   "id": "4fe871eb-cec2-47d9-8f2f-306ab5053070",
   "metadata": {},
   "outputs": [
    {
     "name": "stdout",
     "output_type": "stream",
     "text": [
      "[10, 20, 30, 40] <class 'list'>\n",
      "----------------------------------------------------------------------\n",
      "[10 20 30 40] <class 'numpy.ndarray'>\n"
     ]
    }
   ],
   "source": [
    "# Convert List to Single Dimention Array\n",
    "\n",
    "list01 = [10, 20, 30, 40]\n",
    "\n",
    "print(list01, type(list01))\n",
    "\n",
    "print('----------------------------------------------------------------------')\n",
    "\n",
    "numpyList01 = np.array(list01)\n",
    "\n",
    "print(numpyList01, type(numpyList01))"
   ]
  },
  {
   "cell_type": "code",
   "execution_count": 7,
   "id": "4663fef7-5431-4020-9b13-ece75609c9dc",
   "metadata": {},
   "outputs": [
    {
     "name": "stdout",
     "output_type": "stream",
     "text": [
      "[[10, 20], [30, 40]] <class 'list'>\n",
      "----------------------------------------------------------------------\n",
      "[[10 20]\n",
      " [30 40]] <class 'numpy.ndarray'>\n"
     ]
    }
   ],
   "source": [
    "# Convert List to Two Dimention Array\n",
    "\n",
    "list01 = [[10, 20], [30, 40]]\n",
    "\n",
    "print(list01, type(list01))\n",
    "\n",
    "print('----------------------------------------------------------------------')\n",
    "\n",
    "numpyList01 = numpy.array(list01)\n",
    "\n",
    "print(numpyList01, type(numpyList01))"
   ]
  },
  {
   "cell_type": "code",
   "execution_count": 13,
   "id": "3dfaf283-fc2d-4d2a-bdbc-669c110c59b8",
   "metadata": {},
   "outputs": [
    {
     "name": "stdout",
     "output_type": "stream",
     "text": [
      "[[10, 20], [30, 40], [50, 60], [70, 80]] <class 'list'>\n",
      "----------------------------------------------------------------------\n",
      "[[10 20]\n",
      " [30 40]\n",
      " [50 60]\n",
      " [70 80]] <class 'numpy.ndarray'>\n"
     ]
    }
   ],
   "source": [
    "# Convert List to Multi Dimention Array\n",
    "\n",
    "list01 = [[10, 20], [30, 40], [50, 60], [70, 80]]\n",
    "\n",
    "print(list01, type(list01))\n",
    "\n",
    "print('----------------------------------------------------------------------')\n",
    "\n",
    "numpyList01 = numpy.array(list01)\n",
    "\n",
    "print(numpyList01, type(numpyList01))"
   ]
  },
  {
   "cell_type": "markdown",
   "id": "d2f90f24-abd4-45a2-8e17-ab552e9f31de",
   "metadata": {},
   "source": [
    "Arange :\n",
    "--------\n",
    "1. Return evenly spaced values within a given interval."
   ]
  },
  {
   "cell_type": "code",
   "execution_count": 15,
   "id": "d31f8f39-58cf-4c57-8802-0e81561caf63",
   "metadata": {},
   "outputs": [],
   "source": [
    "import numpy as np"
   ]
  },
  {
   "cell_type": "code",
   "execution_count": 16,
   "id": "7ce6216d-b7a1-4f4d-8b2f-052556f5121c",
   "metadata": {},
   "outputs": [
    {
     "name": "stdout",
     "output_type": "stream",
     "text": [
      "[0 1 2 3 4 5 6 7 8 9] <class 'numpy.ndarray'>\n"
     ]
    }
   ],
   "source": [
    "a = np.arange(0,10)\n",
    "\n",
    "print(a, type(a))"
   ]
  },
  {
   "cell_type": "code",
   "execution_count": 17,
   "id": "867fd691-c6f2-4c7c-8e86-a52ca8bb1886",
   "metadata": {},
   "outputs": [
    {
     "name": "stdout",
     "output_type": "stream",
     "text": [
      "[0 2 4 6 8] <class 'numpy.ndarray'>\n"
     ]
    }
   ],
   "source": [
    "a = np.arange(0, 10, 2)\n",
    "\n",
    "print(a, type(a))"
   ]
  },
  {
   "cell_type": "code",
   "execution_count": 18,
   "id": "c9bb6674-524a-4c68-a0bb-ea815fc442ca",
   "metadata": {},
   "outputs": [
    {
     "name": "stdout",
     "output_type": "stream",
     "text": [
      "[1 3 5 7 9] <class 'numpy.ndarray'>\n"
     ]
    }
   ],
   "source": [
    "a = np.arange(1, 10, 2)\n",
    "\n",
    "print(a, type(a))"
   ]
  },
  {
   "cell_type": "markdown",
   "id": "4bbf723c-357b-42c0-bade-4306c8fb2f13",
   "metadata": {},
   "source": [
    "Linspace :\n",
    "----------\n",
    "1. Return evenly spaced numbers over a specified interval."
   ]
  },
  {
   "cell_type": "code",
   "execution_count": 21,
   "id": "c72bee15-a92d-483d-88ef-9164b1c458ac",
   "metadata": {},
   "outputs": [
    {
     "name": "stdout",
     "output_type": "stream",
     "text": [
      "[0 3 6 9]\n",
      "----------------------------------------\n",
      "[ 0.  5. 10.]\n"
     ]
    }
   ],
   "source": [
    "print(np.arange(0,10,3))\n",
    "\n",
    "print('----------------------------------------')\n",
    "\n",
    "print(np.linspace(0,10,3))"
   ]
  },
  {
   "cell_type": "code",
   "execution_count": 23,
   "id": "73183f0d-e46a-445e-9331-4dc689258c80",
   "metadata": {},
   "outputs": [
    {
     "name": "stdout",
     "output_type": "stream",
     "text": [
      "[ 0  3  6  9 12 15 18]\n",
      "----------------------------------------\n",
      "[ 0. 10. 20.]\n",
      "[ 0.  5. 10. 15. 20.]\n"
     ]
    }
   ],
   "source": [
    "print(np.arange(0,20,3))\n",
    "\n",
    "print('----------------------------------------')\n",
    "\n",
    "print(np.linspace(0,20,3))\n",
    "\n",
    "print(np.linspace(0,20,5))"
   ]
  },
  {
   "cell_type": "code",
   "execution_count": 26,
   "id": "51642395-a9bd-499d-871c-ddfc083c83d6",
   "metadata": {},
   "outputs": [
    {
     "name": "stdout",
     "output_type": "stream",
     "text": [
      "[ 0.  12.5 25.  37.5 50. ]\n",
      "----------------------------------------\n",
      "[ 0 12 25 37 50]\n"
     ]
    }
   ],
   "source": [
    "\n",
    "a = np.linspace(0, 50, 5)\n",
    "\n",
    "print(a)\n",
    "\n",
    "print('----------------------------------------')\n",
    "\n",
    "a = np.linspace(0, 50, 5, dtype=int,)\n",
    "\n",
    "print(a)"
   ]
  },
  {
   "cell_type": "code",
   "execution_count": null,
   "id": "fa363574-9cbc-40d9-aa8c-fb3626d81bcc",
   "metadata": {},
   "outputs": [],
   "source": []
  }
 ],
 "metadata": {
  "kernelspec": {
   "display_name": "Python 3 (ipykernel)",
   "language": "python",
   "name": "python3"
  },
  "language_info": {
   "codemirror_mode": {
    "name": "ipython",
    "version": 3
   },
   "file_extension": ".py",
   "mimetype": "text/x-python",
   "name": "python",
   "nbconvert_exporter": "python",
   "pygments_lexer": "ipython3",
   "version": "3.13.2"
  }
 },
 "nbformat": 4,
 "nbformat_minor": 5
}
