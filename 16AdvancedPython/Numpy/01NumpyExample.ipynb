{
 "cells": [
  {
   "cell_type": "markdown",
   "id": "9419e6ab-b37b-4145-802c-92233054be5f",
   "metadata": {},
   "source": [
    "What is NumPy?\n",
    "--------------\n",
    "1. NumPy stands for Numerical Python.\n",
    "2. NumPy is a Python library used for working with arrays.\n",
    "3. It also has functions for working in domain of linear algebra, fourier transform, and matrices."
   ]
  },
  {
   "cell_type": "markdown",
   "id": "b17a885b-23f2-4594-9d01-1065340d91f7",
   "metadata": {},
   "source": [
    "Why Use NumPy?\n",
    "--------------\n",
    "1. In Python we have lists that serve the purpose of arrays, but they are slow to process.\n",
    "2. NumPy aims to provide an array object that is up to 50x faster than traditional Python lists.\n",
    "3. The array object in NumPy is called ndarray"
   ]
  },
  {
   "cell_type": "markdown",
   "id": "b4995dbf-e6aa-4a54-ab89-68743fcdb760",
   "metadata": {},
   "source": [
    "Why is NumPy Faster Than Lists?\n",
    "-------------------------------\n",
    "1. NumPy arrays are stored at one continuous place in memory unlike lists, so processes can access and manipulate them very efficiently."
   ]
  },
  {
   "cell_type": "code",
   "execution_count": 2,
   "id": "5c9cabb2-974f-47f8-8f35-162506970ddc",
   "metadata": {},
   "outputs": [],
   "source": [
    "import numpy as np"
   ]
  },
  {
   "cell_type": "code",
   "execution_count": 6,
   "id": "4fe871eb-cec2-47d9-8f2f-306ab5053070",
   "metadata": {},
   "outputs": [
    {
     "name": "stdout",
     "output_type": "stream",
     "text": [
      "[10, 20, 30, 40] <class 'list'>\n",
      "----------------------------------------------------------------------\n",
      "[10 20 30 40] <class 'numpy.ndarray'>\n"
     ]
    }
   ],
   "source": [
    "# Convert List to Single Dimention Array\n",
    "\n",
    "list01 = [10, 20, 30, 40]\n",
    "\n",
    "print(list01, type(list01))\n",
    "\n",
    "print('----------------------------------------------------------------------')\n",
    "\n",
    "numpyList01 = np.array(list01)\n",
    "\n",
    "print(numpyList01, type(numpyList01))"
   ]
  },
  {
   "cell_type": "code",
   "execution_count": 7,
   "id": "4663fef7-5431-4020-9b13-ece75609c9dc",
   "metadata": {},
   "outputs": [
    {
     "name": "stdout",
     "output_type": "stream",
     "text": [
      "[[10, 20], [30, 40]] <class 'list'>\n",
      "----------------------------------------------------------------------\n",
      "[[10 20]\n",
      " [30 40]] <class 'numpy.ndarray'>\n"
     ]
    }
   ],
   "source": [
    "# Convert List to Two Dimention Array\n",
    "\n",
    "list01 = [[10, 20], [30, 40]]\n",
    "\n",
    "print(list01, type(list01))\n",
    "\n",
    "print('----------------------------------------------------------------------')\n",
    "\n",
    "numpyList01 = numpy.array(list01)\n",
    "\n",
    "print(numpyList01, type(numpyList01))"
   ]
  },
  {
   "cell_type": "code",
   "execution_count": 13,
   "id": "3dfaf283-fc2d-4d2a-bdbc-669c110c59b8",
   "metadata": {},
   "outputs": [
    {
     "name": "stdout",
     "output_type": "stream",
     "text": [
      "[[10, 20], [30, 40], [50, 60], [70, 80]] <class 'list'>\n",
      "----------------------------------------------------------------------\n",
      "[[10 20]\n",
      " [30 40]\n",
      " [50 60]\n",
      " [70 80]] <class 'numpy.ndarray'>\n"
     ]
    }
   ],
   "source": [
    "# Convert List to Multi Dimention Array\n",
    "\n",
    "list01 = [[10, 20], [30, 40], [50, 60], [70, 80]]\n",
    "\n",
    "print(list01, type(list01))\n",
    "\n",
    "print('----------------------------------------------------------------------')\n",
    "\n",
    "numpyList01 = numpy.array(list01)\n",
    "\n",
    "print(numpyList01, type(numpyList01))"
   ]
  },
  {
   "cell_type": "markdown",
   "id": "d2f90f24-abd4-45a2-8e17-ab552e9f31de",
   "metadata": {},
   "source": [
    "Arange :\n",
    "--------\n",
    "1. Return evenly spaced values within a given interval."
   ]
  },
  {
   "cell_type": "code",
   "execution_count": 15,
   "id": "d31f8f39-58cf-4c57-8802-0e81561caf63",
   "metadata": {},
   "outputs": [],
   "source": [
    "import numpy as np"
   ]
  },
  {
   "cell_type": "code",
   "execution_count": 16,
   "id": "7ce6216d-b7a1-4f4d-8b2f-052556f5121c",
   "metadata": {},
   "outputs": [
    {
     "name": "stdout",
     "output_type": "stream",
     "text": [
      "[0 1 2 3 4 5 6 7 8 9] <class 'numpy.ndarray'>\n"
     ]
    }
   ],
   "source": [
    "a = np.arange(0,10)\n",
    "\n",
    "print(a, type(a))"
   ]
  },
  {
   "cell_type": "code",
   "execution_count": 17,
   "id": "867fd691-c6f2-4c7c-8e86-a52ca8bb1886",
   "metadata": {},
   "outputs": [
    {
     "name": "stdout",
     "output_type": "stream",
     "text": [
      "[0 2 4 6 8] <class 'numpy.ndarray'>\n"
     ]
    }
   ],
   "source": [
    "a = np.arange(0, 10, 2)\n",
    "\n",
    "print(a, type(a))"
   ]
  },
  {
   "cell_type": "code",
   "execution_count": 18,
   "id": "c9bb6674-524a-4c68-a0bb-ea815fc442ca",
   "metadata": {},
   "outputs": [
    {
     "name": "stdout",
     "output_type": "stream",
     "text": [
      "[1 3 5 7 9] <class 'numpy.ndarray'>\n"
     ]
    }
   ],
   "source": [
    "a = np.arange(1, 10, 2)\n",
    "\n",
    "print(a, type(a))"
   ]
  },
  {
   "cell_type": "markdown",
   "id": "4bbf723c-357b-42c0-bade-4306c8fb2f13",
   "metadata": {},
   "source": [
    "Linspace :\n",
    "----------\n",
    "1. Return evenly spaced numbers over a specified interval."
   ]
  },
  {
   "cell_type": "code",
   "execution_count": 21,
   "id": "c72bee15-a92d-483d-88ef-9164b1c458ac",
   "metadata": {},
   "outputs": [
    {
     "name": "stdout",
     "output_type": "stream",
     "text": [
      "[0 3 6 9]\n",
      "----------------------------------------\n",
      "[ 0.  5. 10.]\n"
     ]
    }
   ],
   "source": [
    "print(np.arange(0,10,3))\n",
    "\n",
    "print('----------------------------------------')\n",
    "\n",
    "print(np.linspace(0,10,3))"
   ]
  },
  {
   "cell_type": "code",
   "execution_count": 23,
   "id": "73183f0d-e46a-445e-9331-4dc689258c80",
   "metadata": {},
   "outputs": [
    {
     "name": "stdout",
     "output_type": "stream",
     "text": [
      "[ 0  3  6  9 12 15 18]\n",
      "----------------------------------------\n",
      "[ 0. 10. 20.]\n",
      "[ 0.  5. 10. 15. 20.]\n"
     ]
    }
   ],
   "source": [
    "print(np.arange(0,20,3))\n",
    "\n",
    "print('----------------------------------------')\n",
    "\n",
    "print(np.linspace(0,20,3))\n",
    "\n",
    "print(np.linspace(0,20,5))"
   ]
  },
  {
   "cell_type": "code",
   "execution_count": 26,
   "id": "51642395-a9bd-499d-871c-ddfc083c83d6",
   "metadata": {},
   "outputs": [
    {
     "name": "stdout",
     "output_type": "stream",
     "text": [
      "[ 0.  12.5 25.  37.5 50. ]\n",
      "----------------------------------------\n",
      "[ 0 12 25 37 50]\n"
     ]
    }
   ],
   "source": [
    "\n",
    "a = np.linspace(0, 50, 5)\n",
    "\n",
    "print(a)\n",
    "\n",
    "print('----------------------------------------')\n",
    "\n",
    "a = np.linspace(0, 50, 5, dtype=int,)\n",
    "\n",
    "print(a)"
   ]
  },
  {
   "cell_type": "markdown",
   "id": "4350037b-73dd-45a5-8af2-b352db5482b7",
   "metadata": {},
   "source": [
    "Random :\n",
    "--------\n",
    "Numpy also has lots of ways to create random number arrays:\n",
    "\n",
    "Randint :\n",
    "---------    \n",
    "Return random integers from low (inclusive) to high (exclusive)."
   ]
  },
  {
   "cell_type": "code",
   "execution_count": 4,
   "id": "1b3611a3-89d5-42dc-a9d0-42120144518b",
   "metadata": {},
   "outputs": [
    {
     "data": {
      "text/plain": [
       "71"
      ]
     },
     "execution_count": 4,
     "metadata": {},
     "output_type": "execute_result"
    }
   ],
   "source": [
    "import numpy as np\n",
    "\n",
    "np.random.randint(1,100)"
   ]
  },
  {
   "cell_type": "code",
   "execution_count": 5,
   "id": "592d66b2-abfd-41ff-bae7-307439251249",
   "metadata": {},
   "outputs": [
    {
     "name": "stdout",
     "output_type": "stream",
     "text": [
      "[25 38 94 81 43 40 20 49 19 11]\n"
     ]
    }
   ],
   "source": [
    "a = np.random.randint(1,100,10)\n",
    "\n",
    "print(a)"
   ]
  },
  {
   "cell_type": "markdown",
   "id": "37f3bc57-bcf2-4ee9-b49b-42e26004ec3a",
   "metadata": {},
   "source": [
    "Array Attributes and Methods:\n",
    "-----------------------------"
   ]
  },
  {
   "cell_type": "code",
   "execution_count": 11,
   "id": "e4c681ca-d51b-4de9-aa6d-516c29ca6388",
   "metadata": {},
   "outputs": [
    {
     "name": "stdout",
     "output_type": "stream",
     "text": [
      "[ 0  1  2  3  4  5  6  7  8  9 10 11 12 13 14 15 16 17 18 19 20 21 22 23\n",
      " 24]\n",
      "-----------------------------------------------\n",
      "[13 15 48 32 28 49]\n"
     ]
    }
   ],
   "source": [
    "arr = np.arange(25)\n",
    "\n",
    "randarr = np.random.randint(0,50,6)\n",
    "\n",
    "print(arr)\n",
    "\n",
    "print('-----------------------------------------------')\n",
    "\n",
    "print(randarr)"
   ]
  },
  {
   "cell_type": "markdown",
   "id": "180d06cd-9c77-4cc7-9624-7edd9f244d35",
   "metadata": {},
   "source": [
    "01 Reshape :\n",
    "------------    \n",
    "Returns an array containing the same data with a new shape."
   ]
  },
  {
   "cell_type": "code",
   "execution_count": 12,
   "id": "fa12daec-489e-4b15-980d-d37e7d35294b",
   "metadata": {},
   "outputs": [
    {
     "data": {
      "text/plain": [
       "array([[ 0,  1,  2,  3,  4],\n",
       "       [ 5,  6,  7,  8,  9],\n",
       "       [10, 11, 12, 13, 14],\n",
       "       [15, 16, 17, 18, 19],\n",
       "       [20, 21, 22, 23, 24]])"
      ]
     },
     "execution_count": 12,
     "metadata": {},
     "output_type": "execute_result"
    }
   ],
   "source": [
    "arr.reshape(5,5)"
   ]
  },
  {
   "cell_type": "code",
   "execution_count": 13,
   "id": "c2eb4262-715a-4c1a-9283-589adf144463",
   "metadata": {},
   "outputs": [
    {
     "data": {
      "text/plain": [
       "array([[13, 15],\n",
       "       [48, 32],\n",
       "       [28, 49]], dtype=int32)"
      ]
     },
     "execution_count": 13,
     "metadata": {},
     "output_type": "execute_result"
    }
   ],
   "source": [
    "randarr.reshape(3, 2)"
   ]
  },
  {
   "cell_type": "code",
   "execution_count": 14,
   "id": "55e9d07e-89b4-4ad5-a89f-642814ac03d0",
   "metadata": {},
   "outputs": [
    {
     "data": {
      "text/plain": [
       "array([[13, 15, 48],\n",
       "       [32, 28, 49]], dtype=int32)"
      ]
     },
     "execution_count": 14,
     "metadata": {},
     "output_type": "execute_result"
    }
   ],
   "source": [
    "randarr.reshape(2, 3)"
   ]
  },
  {
   "cell_type": "markdown",
   "id": "a921257f-50b7-48e9-a5bd-51874e2f0832",
   "metadata": {},
   "source": [
    "Shape:\n",
    "------\n",
    "Shape is an attribute that arrays have (not a method):"
   ]
  },
  {
   "cell_type": "code",
   "execution_count": 16,
   "id": "e4b43fe2-c907-41a4-98b3-44f2ca68e105",
   "metadata": {},
   "outputs": [
    {
     "name": "stdout",
     "output_type": "stream",
     "text": [
      "[[10, 20], [30, 40], [50, 60]] <class 'list'>\n",
      "----------------------------------------------------------------------\n",
      "[[10 20]\n",
      " [30 40]\n",
      " [50 60]] <class 'numpy.ndarray'>\n"
     ]
    }
   ],
   "source": [
    "list01 = [[10, 20], [30, 40], [50, 60]]\n",
    "\n",
    "print(list01, type(list01))\n",
    "\n",
    "print('----------------------------------------------------------------------')\n",
    "\n",
    "numpyList01 = np.array(list01)\n",
    "\n",
    "print(numpyList01, type(numpyList01))"
   ]
  },
  {
   "cell_type": "code",
   "execution_count": 17,
   "id": "5cd85f11-e602-4c1f-9201-93ddef882459",
   "metadata": {},
   "outputs": [
    {
     "data": {
      "text/plain": [
       "(3, 2)"
      ]
     },
     "execution_count": 17,
     "metadata": {},
     "output_type": "execute_result"
    }
   ],
   "source": [
    "'''\n",
    "(3, 2) = (number of rows, number of columns)\n",
    "'''\n",
    "\n",
    "numpyList01.shape"
   ]
  },
  {
   "cell_type": "code",
   "execution_count": 18,
   "id": "cb748c5d-f950-4f29-8374-05bb350ffc79",
   "metadata": {},
   "outputs": [
    {
     "name": "stdout",
     "output_type": "stream",
     "text": [
      "[[10 20]\n",
      " [30 40]\n",
      " [50 60]]\n",
      "----------------------------------------------------------------------\n",
      "[[10 20 30]\n",
      " [40 50 60]]\n"
     ]
    }
   ],
   "source": [
    "print(numpyList01)\n",
    "\n",
    "print('----------------------------------------------------------------------')\n",
    "\n",
    "ex01 = numpyList01.reshape(2, 3)\n",
    "\n",
    "print(ex01)"
   ]
  },
  {
   "cell_type": "markdown",
   "id": "454e6b9c-c042-4cbb-ad1d-f8539e3d5196",
   "metadata": {},
   "source": [
    "max,min,argmax,argmin\n",
    "---------------------\n",
    "These are useful methods for finding max or min values. Or to find their index locations using argmin or argmax"
   ]
  },
  {
   "cell_type": "code",
   "execution_count": 20,
   "id": "e99d5737-415f-4bf9-9b9e-9f46d490befe",
   "metadata": {},
   "outputs": [
    {
     "name": "stdout",
     "output_type": "stream",
     "text": [
      "[10 29 35 12 35 29 37 48 34 46]\n"
     ]
    }
   ],
   "source": [
    "ranarr = np.random.randint(0,50,10)\n",
    "\n",
    "print(ranarr)"
   ]
  },
  {
   "cell_type": "code",
   "execution_count": 21,
   "id": "f052dd2e-cd8c-4e8f-9f5f-f792145ba7e7",
   "metadata": {},
   "outputs": [
    {
     "name": "stdout",
     "output_type": "stream",
     "text": [
      "48\n"
     ]
    }
   ],
   "source": [
    "# To find the Maximum value \n",
    "\n",
    "print(ranarr.max())"
   ]
  },
  {
   "cell_type": "code",
   "execution_count": 22,
   "id": "3e2df1e4-f7d3-4894-8c23-410e01e51ef3",
   "metadata": {},
   "outputs": [
    {
     "name": "stdout",
     "output_type": "stream",
     "text": [
      "10\n"
     ]
    }
   ],
   "source": [
    "# To find the Minimum value \n",
    "\n",
    "minValue = ranarr.min()\n",
    "\n",
    "print(minValue)"
   ]
  },
  {
   "cell_type": "code",
   "execution_count": 23,
   "id": "59a0f9a1-3b8f-49d1-b6a6-4acafd4f1a16",
   "metadata": {},
   "outputs": [
    {
     "name": "stdout",
     "output_type": "stream",
     "text": [
      "7\n"
     ]
    }
   ],
   "source": [
    "# To find the Maximum value position\n",
    "\n",
    "print(ranarr.argmax())"
   ]
  },
  {
   "cell_type": "code",
   "execution_count": 24,
   "id": "c44b9b07-b33b-43e7-8c82-8a5eac29b310",
   "metadata": {},
   "outputs": [
    {
     "name": "stdout",
     "output_type": "stream",
     "text": [
      "0\n"
     ]
    }
   ],
   "source": [
    "# To find the Minimum value position\n",
    "\n",
    "print(ranarr.argmin())"
   ]
  },
  {
   "cell_type": "markdown",
   "id": "947c8813-20ba-4f3c-9da9-b324d5a61ad6",
   "metadata": {},
   "source": [
    "NumPy Indexing and Selection :\n",
    "------------------------------"
   ]
  },
  {
   "cell_type": "code",
   "execution_count": 26,
   "id": "3b3abe6f-31c6-4557-ab08-833bde5c6d46",
   "metadata": {},
   "outputs": [
    {
     "name": "stdout",
     "output_type": "stream",
     "text": [
      "[ 10  20  30  40  50  60  70  80  90 100]\n"
     ]
    }
   ],
   "source": [
    "#Creating sample array\n",
    "\n",
    "arr = np.array([10,20,30,40,50,60,70,80,90,100])\n",
    "\n",
    "print(arr)"
   ]
  },
  {
   "cell_type": "code",
   "execution_count": 27,
   "id": "c0edef82-39f3-4ff0-bfd3-6c399070ed48",
   "metadata": {},
   "outputs": [
    {
     "name": "stdout",
     "output_type": "stream",
     "text": [
      "90\n"
     ]
    }
   ],
   "source": [
    "#Get a value at an index\n",
    "\n",
    "print(arr[8])"
   ]
  },
  {
   "cell_type": "code",
   "execution_count": 28,
   "id": "290736c9-7cb5-493c-8fe1-56e799850ed3",
   "metadata": {},
   "outputs": [
    {
     "data": {
      "text/plain": [
       "array([20, 30, 40, 50])"
      ]
     },
     "execution_count": 28,
     "metadata": {},
     "output_type": "execute_result"
    }
   ],
   "source": [
    "#Get values in a range\n",
    "\n",
    "arr[1:5]"
   ]
  },
  {
   "cell_type": "code",
   "execution_count": 29,
   "id": "a7f32626-a166-4636-bac2-3087dd4ecc6b",
   "metadata": {},
   "outputs": [
    {
     "data": {
      "text/plain": [
       "array([200, 200, 200, 200, 200,  60,  70,  80,  90, 100])"
      ]
     },
     "execution_count": 29,
     "metadata": {},
     "output_type": "execute_result"
    }
   ],
   "source": [
    "#Setting a value with index range (Broadcasting)\n",
    "\n",
    "arr[0:5] = 200\n",
    "\n",
    "#Show\n",
    "arr"
   ]
  },
  {
   "cell_type": "markdown",
   "id": "6d08c011-8706-429f-bedc-b8bdbce1a4b4",
   "metadata": {},
   "source": [
    "Now note the changes also occur in our original array! :"
   ]
  },
  {
   "cell_type": "code",
   "execution_count": 30,
   "id": "6e4b9374-46a1-40a7-a561-a133c3f02c10",
   "metadata": {},
   "outputs": [
    {
     "name": "stdout",
     "output_type": "stream",
     "text": [
      "[200 200 200 200 200  60  70  80  90 100]\n"
     ]
    }
   ],
   "source": [
    "print(arr)"
   ]
  },
  {
   "cell_type": "markdown",
   "id": "5dce6654-68a9-46d5-9e72-b9a7f274f7be",
   "metadata": {},
   "source": [
    "Data is not copied, it's a view of the original array! This avoids memory problems! :\n",
    "-------------------------------------------------------------------------------------\n",
    "In NumPy, when you slice or subset an array, it doesn’t create a new array but instead creates a \"view\" of the original data. \n",
    "This means that if you modify the view, it will also affect the original array, avoiding extra memory usage."
   ]
  },
  {
   "cell_type": "code",
   "execution_count": 31,
   "id": "d1aabfda-a572-489d-b2cf-d65a9ce5f840",
   "metadata": {},
   "outputs": [
    {
     "name": "stdout",
     "output_type": "stream",
     "text": [
      "[200 200 200 200 200  60  70  80  90 100]\n"
     ]
    }
   ],
   "source": [
    "#To get a copy, need to be explicit\n",
    "\n",
    "arr_copy = arr.copy()\n",
    "\n",
    "print(arr_copy)"
   ]
  },
  {
   "cell_type": "code",
   "execution_count": 32,
   "id": "523edeb9-abce-46ac-99d5-0aed1ff6b26c",
   "metadata": {},
   "outputs": [
    {
     "data": {
      "text/plain": [
       "array([200, 200, 250, 250, 250,  60,  70,  80,  90, 100])"
      ]
     },
     "execution_count": 32,
     "metadata": {},
     "output_type": "execute_result"
    }
   ],
   "source": [
    "arr_copy[2:5] = 250\n",
    "\n",
    "#Show\n",
    "arr_copy"
   ]
  },
  {
   "cell_type": "code",
   "execution_count": 33,
   "id": "5fb26a82-11aa-4154-8786-5652b01b713a",
   "metadata": {},
   "outputs": [
    {
     "name": "stdout",
     "output_type": "stream",
     "text": [
      "[200 200 200 200 200  60  70  80  90 100]\n"
     ]
    }
   ],
   "source": [
    "print(arr)"
   ]
  },
  {
   "cell_type": "markdown",
   "id": "2fb22062-e7ee-45a6-823f-ec093cb5159e",
   "metadata": {},
   "source": [
    "Indexing and slicing a multi Dimention array (matrices) :\n",
    "---------------------------------------------------------\n",
    "The general format is arr_2d[row][col] or arr_2d[row,col]. I recommend usually using the comma notation for clarity."
   ]
  },
  {
   "cell_type": "code",
   "execution_count": 39,
   "id": "1bbbe360-3585-4eb5-82f4-8d49966a012e",
   "metadata": {},
   "outputs": [
    {
     "data": {
      "text/plain": [
       "array([[ 5, 10, 15],\n",
       "       [20, 25, 30],\n",
       "       [35, 40, 45]])"
      ]
     },
     "execution_count": 39,
     "metadata": {},
     "output_type": "execute_result"
    }
   ],
   "source": [
    "arr_2d = np.array(([5,10,15],[20,25,30],[35,40,45]))\n",
    "\n",
    "#Show\n",
    "arr_2d\n",
    "\n"
   ]
  },
  {
   "cell_type": "code",
   "execution_count": 36,
   "id": "47f32440-d7c9-48f4-adb2-051dded127e7",
   "metadata": {},
   "outputs": [
    {
     "data": {
      "text/plain": [
       "array([20, 25, 30])"
      ]
     },
     "execution_count": 36,
     "metadata": {},
     "output_type": "execute_result"
    }
   ],
   "source": [
    "#Indexing row\n",
    "\n",
    "arr_2d[1]"
   ]
  },
  {
   "cell_type": "code",
   "execution_count": 37,
   "id": "871dc73b-5261-4646-b548-3a9bce77bbd3",
   "metadata": {},
   "outputs": [
    {
     "name": "stdout",
     "output_type": "stream",
     "text": [
      "[ 5 20 35]\n"
     ]
    }
   ],
   "source": [
    "#Indexing Column\n",
    "\n",
    "print(arr_2d[0:3,0])"
   ]
  },
  {
   "cell_type": "code",
   "execution_count": 40,
   "id": "96297e27-161c-4289-a1ea-bbdc45dc357c",
   "metadata": {},
   "outputs": [
    {
     "name": "stdout",
     "output_type": "stream",
     "text": [
      "10\n"
     ]
    }
   ],
   "source": [
    "# Get a Single value\n",
    "\n",
    "print(arr_2d[0][1])"
   ]
  },
  {
   "cell_type": "code",
   "execution_count": null,
   "id": "a29d2198-8e46-448c-aea0-ac1f48742353",
   "metadata": {},
   "outputs": [],
   "source": []
  }
 ],
 "metadata": {
  "kernelspec": {
   "display_name": "Python 3 (ipykernel)",
   "language": "python",
   "name": "python3"
  },
  "language_info": {
   "codemirror_mode": {
    "name": "ipython",
    "version": 3
   },
   "file_extension": ".py",
   "mimetype": "text/x-python",
   "name": "python",
   "nbconvert_exporter": "python",
   "pygments_lexer": "ipython3",
   "version": "3.13.2"
  }
 },
 "nbformat": 4,
 "nbformat_minor": 5
}
