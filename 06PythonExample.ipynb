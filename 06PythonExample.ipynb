{
 "cells": [
  {
   "cell_type": "markdown",
   "id": "b9504ed1-b3c6-4981-86b3-d0ab58b1744b",
   "metadata": {},
   "source": [
    "String Manipulation:\n",
    "--------------------"
   ]
  },
  {
   "cell_type": "code",
   "execution_count": 2,
   "id": "ff68c8e4-6cea-43d4-a026-bd523707d383",
   "metadata": {},
   "outputs": [
    {
     "name": "stdout",
     "output_type": "stream",
     "text": [
      "Admin <class 'str'>\n"
     ]
    }
   ],
   "source": [
    "name = 'Admin'\n",
    "\n",
    "print(name, type(name))"
   ]
  },
  {
   "cell_type": "code",
   "execution_count": 3,
   "id": "1602f6f2-1cc8-482a-b1c1-5ad37ccd8b7e",
   "metadata": {},
   "outputs": [
    {
     "name": "stdout",
     "output_type": "stream",
     "text": [
      "St Joseph's college <class 'str'>\n"
     ]
    }
   ],
   "source": [
    "college = \"St Joseph's college\"\n",
    "\n",
    "print(college, type(college))"
   ]
  },
  {
   "cell_type": "code",
   "execution_count": 18,
   "id": "c009b945-50a8-4401-be23-2b40ea2fa870",
   "metadata": {},
   "outputs": [
    {
     "name": "stdout",
     "output_type": "stream",
     "text": [
      "Welcome To Python <class 'str'>\n",
      "--------------------------------------------\n",
      "W\n",
      "--------------------------------------------\n",
      "Welcome\n",
      "--------------------------------------------\n",
      "To\n",
      "--------------------------------------------\n",
      "Python\n",
      "--------------------------------------------\n",
      "Welcome\n",
      "--------------------------------------------\n",
      "Python\n",
      "Python\n"
     ]
    }
   ],
   "source": [
    "# String Manipulation\n",
    "# Values Store in Index Based\n",
    "# Index Value Start at 0\n",
    "\n",
    "message = 'Welcome To Python'\n",
    "\n",
    "print(message, type(message))\n",
    "\n",
    "print('--------------------------------------------')\n",
    "\n",
    "print(message[0])\n",
    "\n",
    "print('--------------------------------------------')\n",
    "# variableName[Starting Index Value:Ending Index Value + 1])\n",
    "\n",
    "print(message[0:6+1])\n",
    "\n",
    "print('--------------------------------------------')\n",
    "\n",
    "print(message[8:10])\n",
    "\n",
    "print('--------------------------------------------')\n",
    "\n",
    "print(message[11:])\n",
    "\n",
    "print('--------------------------------------------')\n",
    "\n",
    "print(message[:7])\n",
    "\n",
    "print('--------------------------------------------')\n",
    "\n",
    "print(message[11:17])\n",
    "\n",
    "print(message[-6:])\n"
   ]
  },
  {
   "cell_type": "code",
   "execution_count": null,
   "id": "b0d990fb-19a3-48cc-bf03-d00d4126e499",
   "metadata": {},
   "outputs": [],
   "source": [
    "'''\n",
    "To Write the Python Code for Below Output:\n",
    "\n",
    "Gmail : admin18@gmail.com\n",
    "\n",
    "UserName : admin18\n",
    "'''"
   ]
  },
  {
   "cell_type": "markdown",
   "id": "2c8530a7-d994-428b-9456-95652c92b69d",
   "metadata": {},
   "source": [
    "String Function:\n",
    "----------------"
   ]
  },
  {
   "cell_type": "code",
   "execution_count": 5,
   "id": "bb67aa19-a261-412e-8709-42f1a20582fa",
   "metadata": {},
   "outputs": [
    {
     "name": "stdout",
     "output_type": "stream",
     "text": [
      "hI wELComE tO PYthOn <class 'str'>\n",
      "--------------------------------------------------\n",
      "hi welcome to python\n",
      "HI WELCOME TO PYTHON\n",
      "Hi welcome to python\n",
      "Hi Welcome To Python\n"
     ]
    }
   ],
   "source": [
    "msg = 'hI wELComE tO PYthOn'\n",
    "\n",
    "print(msg, type(msg))\n",
    "\n",
    "print('--------------------------------------------------')\n",
    "\n",
    "print(msg.lower())\n",
    "\n",
    "print(msg.upper())\n",
    "\n",
    "print(msg.capitalize())\n",
    "\n",
    "print(msg.title())"
   ]
  },
  {
   "cell_type": "code",
   "execution_count": 8,
   "id": "85ea6b88-1177-4e27-8410-b3da14af4fb3",
   "metadata": {},
   "outputs": [
    {
     "name": "stdout",
     "output_type": "stream",
     "text": [
      "Hi Welcome To Python <class 'str'>\n",
      "--------------------------------------------------\n",
      "3\n",
      "7\n"
     ]
    }
   ],
   "source": [
    "msg = 'Hi Welcome To Python'\n",
    "\n",
    "print(msg, type(msg))\n",
    "\n",
    "print('--------------------------------------------------')\n",
    "\n",
    "print(msg.count('o')) # To Find Count Of Value\n",
    "\n",
    "print(msg.find('o')) # To Find Value Of Index Position"
   ]
  },
  {
   "cell_type": "code",
   "execution_count": 15,
   "id": "ab94be0d-8a2f-4aaf-b336-c83d50e3b7a6",
   "metadata": {},
   "outputs": [
    {
     "name": "stdin",
     "output_type": "stream",
     "text": [
      "Enter Your Email :  admin18@gmail.com\n"
     ]
    },
    {
     "name": "stdout",
     "output_type": "stream",
     "text": [
      "admin18@gmail.com\n",
      "-------------------------------------------\n",
      "7\n",
      "admin18\n"
     ]
    }
   ],
   "source": [
    "email = input('Enter Your Email : ')\n",
    "\n",
    "print(email)\n",
    "\n",
    "print('-------------------------------------------')\n",
    "find = email.find('@')\n",
    "\n",
    "print(find)\n",
    "\n",
    "print('-------------------------------------------')\n",
    "\n",
    "print(email[0:find])"
   ]
  },
  {
   "cell_type": "code",
   "execution_count": 18,
   "id": "07dabab7-1fe3-47ab-8d40-8a6361ef05ef",
   "metadata": {},
   "outputs": [
    {
     "name": "stdout",
     "output_type": "stream",
     "text": [
      "Hi Welcome To Python\n",
      "--------------------------------------------------\n",
      "Hi Welcome To Java\n"
     ]
    }
   ],
   "source": [
    "# Replace\n",
    "\n",
    "msg = 'Hi Welcome To Python'\n",
    "\n",
    "print(msg)\n",
    "\n",
    "print('--------------------------------------------------')\n",
    "\n",
    "print(msg.replace('Python', 'Java'))\n"
   ]
  },
  {
   "cell_type": "code",
   "execution_count": 29,
   "id": "de198025-fb5e-4f9b-b383-5d5731c189c5",
   "metadata": {},
   "outputs": [
    {
     "name": "stdout",
     "output_type": "stream",
     "text": [
      "Hi Welcome To Python\n",
      "--------------------------------------------------\n",
      "St Joseph's College\n",
      "--------------------------------------------------\n",
      "A paragraph is a distinct unit of writing, typically consisting of multiple sentences, that focuses on a single idea or topic. It serves to organize and structure written work, making it easier for readers to follow the author's train of thought.\n",
      "--------------------------------------------------\n",
      " A paragraph is a distinct unit of writing, typically consisting of multiple sentences,\n",
      " that focuses on a single idea or topic. \n",
      " It serves to organize and structure written work,\n",
      " making it easier for readers to follow the author's train of thought.\n",
      "--------------------------------------------------\n",
      "--------------------------------------------------\n",
      "\n",
      "A paragraph is a distinct unit of writing, typically consisting of multiple sentences,\n",
      "that focuses on a single idea or topic.\n",
      "It serves to organize and structure written work,\n",
      "making it easier for readers to follow the author's train of thought.\n",
      "\n"
     ]
    }
   ],
   "source": [
    "sentence = 'Hi Welcome To Python'\n",
    "\n",
    "print(sentence)\n",
    "\n",
    "print('--------------------------------------------------')\n",
    "\n",
    "sentence02 = \"St Joseph's College\"\n",
    "\n",
    "print(sentence02)\n",
    "\n",
    "print('--------------------------------------------------')\n",
    "\n",
    "para01 = \"A paragraph is a distinct unit of writing, typically consisting of multiple sentences, that focuses on a single idea or topic. It serves to organize and structure written work, making it easier for readers to follow the author's train of thought.\"\n",
    "\n",
    "print(para01)\n",
    "\n",
    "print('--------------------------------------------------')\n",
    "\n",
    "para02 = \" A paragraph is a distinct unit of writing, typically consisting of multiple sentences,\\n that focuses on a single idea or topic. \\n It serves to organize and structure written work,\\n making it easier for readers to follow the author's train of thought.\"\n",
    "\n",
    "print(para02)\n",
    "\n",
    "print('--------------------------------------------------')\n",
    "\n",
    "# Single Line Comment\n",
    "\n",
    "'''\n",
    "Multi\n",
    "Line\n",
    "Comment\n",
    "'''\n",
    "\n",
    "print('--------------------------------------------------')\n",
    "\n",
    "para03 = '''\n",
    "A paragraph is a distinct unit of writing, typically consisting of multiple sentences,\n",
    "that focuses on a single idea or topic.\n",
    "It serves to organize and structure written work,\n",
    "making it easier for readers to follow the author's train of thought.\n",
    "'''\n",
    "\n",
    "print(para03)"
   ]
  },
  {
   "cell_type": "code",
   "execution_count": null,
   "id": "982a1d27-0e02-4d14-8b50-bbf517896510",
   "metadata": {},
   "outputs": [],
   "source": []
  }
 ],
 "metadata": {
  "kernelspec": {
   "display_name": "Python 3 (ipykernel)",
   "language": "python",
   "name": "python3"
  },
  "language_info": {
   "codemirror_mode": {
    "name": "ipython",
    "version": 3
   },
   "file_extension": ".py",
   "mimetype": "text/x-python",
   "name": "python",
   "nbconvert_exporter": "python",
   "pygments_lexer": "ipython3",
   "version": "3.13.2"
  }
 },
 "nbformat": 4,
 "nbformat_minor": 5
}
