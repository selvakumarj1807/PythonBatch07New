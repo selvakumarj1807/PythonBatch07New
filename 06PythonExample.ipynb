{
 "cells": [
  {
   "cell_type": "markdown",
   "id": "b9504ed1-b3c6-4981-86b3-d0ab58b1744b",
   "metadata": {},
   "source": [
    "String Manipulation:\n",
    "--------------------"
   ]
  },
  {
   "cell_type": "code",
   "execution_count": 2,
   "id": "ff68c8e4-6cea-43d4-a026-bd523707d383",
   "metadata": {},
   "outputs": [
    {
     "name": "stdout",
     "output_type": "stream",
     "text": [
      "Admin <class 'str'>\n"
     ]
    }
   ],
   "source": [
    "name = 'Admin'\n",
    "\n",
    "print(name, type(name))"
   ]
  },
  {
   "cell_type": "code",
   "execution_count": 3,
   "id": "1602f6f2-1cc8-482a-b1c1-5ad37ccd8b7e",
   "metadata": {},
   "outputs": [
    {
     "name": "stdout",
     "output_type": "stream",
     "text": [
      "St Joseph's college <class 'str'>\n"
     ]
    }
   ],
   "source": [
    "college = \"St Joseph's college\"\n",
    "\n",
    "print(college, type(college))"
   ]
  },
  {
   "cell_type": "code",
   "execution_count": 18,
   "id": "c009b945-50a8-4401-be23-2b40ea2fa870",
   "metadata": {},
   "outputs": [
    {
     "name": "stdout",
     "output_type": "stream",
     "text": [
      "Welcome To Python <class 'str'>\n",
      "--------------------------------------------\n",
      "W\n",
      "--------------------------------------------\n",
      "Welcome\n",
      "--------------------------------------------\n",
      "To\n",
      "--------------------------------------------\n",
      "Python\n",
      "--------------------------------------------\n",
      "Welcome\n",
      "--------------------------------------------\n",
      "Python\n",
      "Python\n"
     ]
    }
   ],
   "source": [
    "# String Manipulation\n",
    "# Values Store in Index Based\n",
    "# Index Value Start at 0\n",
    "\n",
    "message = 'Welcome To Python'\n",
    "\n",
    "print(message, type(message))\n",
    "\n",
    "print('--------------------------------------------')\n",
    "\n",
    "print(message[0])\n",
    "\n",
    "print('--------------------------------------------')\n",
    "# variableName[Starting Index Value:Ending Index Value + 1])\n",
    "\n",
    "print(message[0:6+1])\n",
    "\n",
    "print('--------------------------------------------')\n",
    "\n",
    "print(message[8:10])\n",
    "\n",
    "print('--------------------------------------------')\n",
    "\n",
    "print(message[11:])\n",
    "\n",
    "print('--------------------------------------------')\n",
    "\n",
    "print(message[:7])\n",
    "\n",
    "print('--------------------------------------------')\n",
    "\n",
    "print(message[11:17])\n",
    "\n",
    "print(message[-6:])\n"
   ]
  },
  {
   "cell_type": "code",
   "execution_count": null,
   "id": "b0d990fb-19a3-48cc-bf03-d00d4126e499",
   "metadata": {},
   "outputs": [],
   "source": [
    "'''\n",
    "To Write the Python Code for Below Output:\n",
    "\n",
    "Gmail : admin18@gmail.com\n",
    "\n",
    "UserName : admin18\n",
    "'''"
   ]
  },
  {
   "cell_type": "code",
   "execution_count": null,
   "id": "ff19cbae-9ccb-4901-afff-3c825d7e910a",
   "metadata": {},
   "outputs": [],
   "source": []
  }
 ],
 "metadata": {
  "kernelspec": {
   "display_name": "Python 3 (ipykernel)",
   "language": "python",
   "name": "python3"
  },
  "language_info": {
   "codemirror_mode": {
    "name": "ipython",
    "version": 3
   },
   "file_extension": ".py",
   "mimetype": "text/x-python",
   "name": "python",
   "nbconvert_exporter": "python",
   "pygments_lexer": "ipython3",
   "version": "3.13.2"
  }
 },
 "nbformat": 4,
 "nbformat_minor": 5
}
