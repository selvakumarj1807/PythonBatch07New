{
 "cells": [
  {
   "cell_type": "markdown",
   "id": "25f2d0fd-12ed-4d3d-989d-96c059dfb4e5",
   "metadata": {},
   "source": [
    "Python Operators:\n",
    "-----------------\n",
    "\n",
    "1. Arithmatic Operators\n",
    "2. Arithmatic Assignment Operators\n",
    "3. Relational or Comparision Operators\n",
    "4. Logical Operators\n",
    "5. In & Not In\n",
    "6. Is & Is Not\n",
    "7. Bitwise Operators"
   ]
  },
  {
   "cell_type": "markdown",
   "id": "f9676854-2ae3-45a6-a564-11dab32b8377",
   "metadata": {},
   "source": [
    "# 1. Arithmatic Operators :\n",
    "---------------------------\n",
    "\n",
    "1. Addition(+)\n",
    "2. Subtration(-)\n",
    "3. Multiplication(*)\n",
    "4. Division(/)\n",
    "5. Floor Division(//)\n",
    "6. Exponentiation(**)\n",
    "7. modulas(%)"
   ]
  },
  {
   "cell_type": "code",
   "execution_count": 1,
   "id": "d7d4e20b-ffd7-48fc-9de1-0760fd2b9d07",
   "metadata": {
    "scrolled": true
   },
   "outputs": [
    {
     "name": "stdout",
     "output_type": "stream",
     "text": [
      "Addition(+) :  12\n",
      "Subtration(-) :  8\n",
      "Multiplication(*) :  20\n",
      "Division(/) :  5.0\n",
      "Floor Division(//) :  5\n",
      "Exponentiation(**) :  100\n",
      "Modulas(%) :  1\n",
      "Division(/) :  3.5\n"
     ]
    }
   ],
   "source": [
    "print('Addition(+) : ',10 + 2 )\n",
    "\n",
    "print('Subtration(-) : ',10 - 2 )\n",
    "\n",
    "print('Multiplication(*) : ',10 * 2 )\n",
    "\n",
    "print('Division(/) : ',10 / 2 )\n",
    "\n",
    "print('Floor Division(//) : ',10 // 2 )\n",
    "\n",
    "print('Exponentiation(**) : ',10 ** 2 ) # 10 * 10 = 100\n",
    "\n",
    "print('Modulas(%) : ', 7 % 2) # return remainder value\n",
    "\n",
    "print('Division(/) : ',7 / 2 ) # return qutiont value"
   ]
  },
  {
   "cell_type": "markdown",
   "id": "745e5e48-778a-46fa-9f38-8fbf943ea23e",
   "metadata": {},
   "source": [
    "# 2. Arithmatic Assignment Operators:\n",
    "-------------------------------------"
   ]
  },
  {
   "cell_type": "code",
   "execution_count": 4,
   "id": "21672dc8-4f81-4bd1-a2a7-91d3733f0931",
   "metadata": {},
   "outputs": [
    {
     "name": "stdout",
     "output_type": "stream",
     "text": [
      "Assignment Operators(=) :  10\n",
      "Arithmatic Assignment Operators (+=) :  11\n",
      "Arithmatic Assignment Operators (-=) :  9\n",
      "Arithmatic Assignment Operators (*=) :  20\n",
      "Arithmatic Assignment Operators (/=) :  5.0\n",
      "Arithmatic Assignment Operators (//=) :  10\n",
      "Arithmatic Assignment Operators (**=) :  100\n",
      "Arithmatic Assignment Operators (%=) :  0\n"
     ]
    }
   ],
   "source": [
    "# Assignment Operators :\n",
    "\n",
    "a = 10\n",
    "\n",
    "print('Assignment Operators(=) : ', a)\n",
    "\n",
    "# Arithmatic Assignment Operators\n",
    "\n",
    "a = 10\n",
    "a += 1 # a = a + 1 = a = 10 + 1\n",
    "print('Arithmatic Assignment Operators (+=) : ', a)\n",
    "\n",
    "a = 10\n",
    "a -= 1 # a = a - 1 = a = 10 - 1\n",
    "print('Arithmatic Assignment Operators (-=) : ', a)\n",
    "\n",
    "a = 10\n",
    "a *= 2 # a = a * 2 = a = 10 * 2\n",
    "print('Arithmatic Assignment Operators (*=) : ', a)\n",
    "\n",
    "a = 10\n",
    "a /= 2 # a = a / 2 = a = 10 / 2\n",
    "print('Arithmatic Assignment Operators (/=) : ', a)\n",
    "\n",
    "a = 10\n",
    "a //= 1 \n",
    "print('Arithmatic Assignment Operators (//=) : ', a)\n",
    "\n",
    "a = 10\n",
    "a **= 2\n",
    "print('Arithmatic Assignment Operators (**=) : ', a)\n",
    "\n",
    "a = 10\n",
    "a %= 2 # a = a % 2 = a = 10 * 2\n",
    "print('Arithmatic Assignment Operators (%=) : ', a)"
   ]
  },
  {
   "cell_type": "code",
   "execution_count": null,
   "id": "99d4bab7-e391-4841-8f32-963b4d2f2087",
   "metadata": {},
   "outputs": [],
   "source": [
    "'''\n",
    "ToDay Work:\n",
    "-----------\n",
    "\n",
    "To Write the Python Code for below output\n",
    "\n",
    "Enter the Value 01: 10\n",
    "Enter the value 02: 20\n",
    "\n",
    "10 + 20 = 30\n",
    "10 - 20 = -10\n",
    "10 * 20 = 200\n",
    "10 / 20 = 0.5\n",
    "10 // 20 =\n",
    "10 ** 20 = \n",
    "10 % 20 = \n",
    "'''"
   ]
  },
  {
   "cell_type": "markdown",
   "id": "32b92f57-ba2f-40ca-921e-85bdc259df3a",
   "metadata": {},
   "source": [
    "# 3. Relational or Comparision Operators:\n",
    "-----------------------------------------"
   ]
  },
  {
   "cell_type": "code",
   "execution_count": 11,
   "id": "fae57d1d-2bd5-4d67-b860-806d19de483e",
   "metadata": {},
   "outputs": [
    {
     "name": "stdout",
     "output_type": "stream",
     "text": [
      "Less than :  True\n",
      "Grater than :  False\n",
      "Less than or equal :  True\n",
      "Grater than or equal :  False\n",
      "Equal :  False\n",
      "Not Equal :  True\n"
     ]
    }
   ],
   "source": [
    "a = 10\n",
    "\n",
    "b = 20\n",
    "\n",
    "print('Less than : ', a < b) # 10 < 20\n",
    "\n",
    "print('Grater than : ', a > b) # 10 > 20\n",
    "\n",
    "print('Less than or equal : ', a <= b) # 10 <= 20\n",
    "\n",
    "print('Grater than or equal : ', a >= b) # 10 >= 20\n",
    "\n",
    "print('Equal : ', a == b) # 10 == 20\n",
    "\n",
    "print('Not Equal : ', a != b) # 10 != 20"
   ]
  },
  {
   "cell_type": "markdown",
   "id": "b3ace6ae-dc11-4969-9ce1-34eb32d79283",
   "metadata": {},
   "source": [
    "If Condition:\n",
    "-------------"
   ]
  },
  {
   "cell_type": "code",
   "execution_count": 17,
   "id": "4f414e82-b0e8-4856-8432-3fabdf77db13",
   "metadata": {},
   "outputs": [
    {
     "name": "stdout",
     "output_type": "stream",
     "text": [
      "True\n",
      "---------------------------------\n",
      "Eligible for vote\n"
     ]
    }
   ],
   "source": [
    "age = 20\n",
    "\n",
    "print(age >= 18)\n",
    "\n",
    "print('---------------------------------')\n",
    "\n",
    "if (age >= 18):\n",
    "    print('Eligible for vote')"
   ]
  },
  {
   "cell_type": "markdown",
   "id": "82efd2ed-6dfe-42ba-86e4-4c28e27ebf8b",
   "metadata": {},
   "source": [
    "If & Else Condition:\n",
    "--------------------"
   ]
  },
  {
   "cell_type": "code",
   "execution_count": 21,
   "id": "73246355-e2ae-41c9-a796-d20a9a8c98e0",
   "metadata": {},
   "outputs": [
    {
     "name": "stdout",
     "output_type": "stream",
     "text": [
      "False\n",
      "---------------------------------\n",
      "10 - Not Eligible for vote\n"
     ]
    }
   ],
   "source": [
    "age = 10\n",
    "\n",
    "print(age >= 18)\n",
    "\n",
    "print('---------------------------------')\n",
    "\n",
    "if (age >= 18):\n",
    "    print(age, '- Eligible for vote')\n",
    "else:\n",
    "    print(age, '- Not Eligible for vote')"
   ]
  },
  {
   "cell_type": "markdown",
   "id": "916805ad-a19d-49c5-a4dd-fc1a97bec944",
   "metadata": {},
   "source": [
    "If & Elif & else:\n",
    "-----------------"
   ]
  },
  {
   "cell_type": "code",
   "execution_count": 30,
   "id": "2985a472-a480-4703-bead-718d2bc2516a",
   "metadata": {},
   "outputs": [
    {
     "name": "stdout",
     "output_type": "stream",
     "text": [
      "20 >= 18 True\n",
      "20 == 17 False\n",
      "20 == 16 False\n",
      "---------------------------------\n",
      "20 - Eligible for vote\n"
     ]
    }
   ],
   "source": [
    "age = 20\n",
    "\n",
    "print(age, '>=', 18, age >= 18)\n",
    "\n",
    "print(age, '==', 17, age == 17)\n",
    "\n",
    "print(age, '==', 16, age == 16)\n",
    "\n",
    "print('---------------------------------')\n",
    "\n",
    "if (age >= 18):\n",
    "    print(age, '- Eligible for vote')\n",
    "elif (age == 17):\n",
    "    print(age, '- wait for 1 year to eligible for vote')\n",
    "elif (age == 16):\n",
    "    print(age, '- wait for 2 year to eligible for vote')\n",
    "else:\n",
    "    print(age, '- Not Eligible for vote')"
   ]
  },
  {
   "cell_type": "markdown",
   "id": "aed74957-784c-4ebf-abf7-71311ed17bd8",
   "metadata": {},
   "source": [
    "# 4. Logical Operators\n",
    "----------------------"
   ]
  },
  {
   "cell_type": "code",
   "execution_count": 39,
   "id": "04f96ebc-c960-4ca8-bf7b-6ffd01aa50fc",
   "metadata": {},
   "outputs": [
    {
     "name": "stdout",
     "output_type": "stream",
     "text": [
      "False\n",
      "True\n",
      "False\n",
      "---------------------------------------------------------\n",
      "No the name and  age is Incorrect\n"
     ]
    }
   ],
   "source": [
    "# Logical and Operators \n",
    "# 1. Any one condition have false then everything is false\n",
    "\n",
    "name = 'Sara Dev'\n",
    "\n",
    "age = 25\n",
    "\n",
    "print(name == 'Sara')\n",
    "\n",
    "print(age == 25)\n",
    "\n",
    "print((name == 'Sara') and (age == 25))\n",
    "\n",
    "print('---------------------------------------------------------')\n",
    "\n",
    "if ((name == 'Sara') and (age == 25)):\n",
    "    print('Yes the name and age is correct')\n",
    "\n",
    "else:\n",
    "    print('No the name and  age is Incorrect')"
   ]
  },
  {
   "cell_type": "code",
   "execution_count": 40,
   "id": "210f0d96-8484-4f46-a54a-d44a66d56f81",
   "metadata": {},
   "outputs": [
    {
     "name": "stdout",
     "output_type": "stream",
     "text": [
      "False\n",
      "True\n",
      "True\n",
      "---------------------------------------------------------\n",
      "Yes the name and age is correct\n"
     ]
    }
   ],
   "source": [
    "# Logical or Operators \n",
    "# 1. Any one condition have true then everything is true\n",
    "\n",
    "name = 'Sara Dev'\n",
    "\n",
    "age = 25\n",
    "\n",
    "print(name == 'Sara')\n",
    "\n",
    "print(age == 25)\n",
    "\n",
    "print((name == 'Sara') or (age == 25))\n",
    "\n",
    "print('---------------------------------------------------------')\n",
    "\n",
    "if ((name == 'Sara') or (age == 25)):\n",
    "    print('Yes the name and age is correct')\n",
    "\n",
    "else:\n",
    "    print('No the name and age is Incorrect')"
   ]
  },
  {
   "cell_type": "code",
   "execution_count": 41,
   "id": "99a9e152-ed71-47f2-b9da-c6924856f664",
   "metadata": {},
   "outputs": [
    {
     "name": "stdout",
     "output_type": "stream",
     "text": [
      "False\n",
      "True\n",
      "True\n",
      "False\n",
      "---------------------------------------------------------\n",
      "No the name and age is Incorrect\n"
     ]
    }
   ],
   "source": [
    "# Logical not Operators \n",
    "# 1. if condition have a False then Return True \n",
    "# 2. if condition have a True then Return False \n",
    "\n",
    "name = 'Sara Dev'\n",
    "\n",
    "age = 25\n",
    "\n",
    "print(name == 'Sara')\n",
    "\n",
    "print(age == 25)\n",
    "\n",
    "print ((name == 'Sara') or (age == 25)) # True\n",
    "\n",
    "print (not((name == 'Sara') or (age == 25))) # not(True) = False\n",
    "\n",
    "print('---------------------------------------------------------')\n",
    "\n",
    "if not((name == 'Sara') or (age == 25)):\n",
    "    print('Yes the name and age is correct')\n",
    "\n",
    "else:\n",
    "    print('No the name and age is Incorrect')"
   ]
  },
  {
   "cell_type": "markdown",
   "id": "e14699d4-d2f7-44bb-8130-5bdb524a01f8",
   "metadata": {},
   "source": [
    "# 05 In & Not In:\n",
    "-----------------\n",
    "\n",
    "Membership Operators"
   ]
  },
  {
   "cell_type": "code",
   "execution_count": 2,
   "id": "d778a031-bed3-4728-8bf7-21a495e6f973",
   "metadata": {},
   "outputs": [
    {
     "name": "stdout",
     "output_type": "stream",
     "text": [
      "['Sara', 25, 'Male', 'TN']\n",
      "---------------------------------------\n",
      "True\n",
      "---------------------------------------\n",
      "False\n"
     ]
    }
   ],
   "source": [
    "details = ['Sara', 25, 'Male', 'TN']\n",
    "\n",
    "print(details)\n",
    "\n",
    "print('---------------------------------------')\n",
    "\n",
    "print('Sara' in details)\n",
    "\n",
    "\n",
    "print('---------------------------------------')\n",
    "\n",
    "print('Sara' not in details)\n"
   ]
  },
  {
   "cell_type": "markdown",
   "id": "1d9318e8-b7fd-49c9-baac-a4b467b4e845",
   "metadata": {},
   "source": [
    "# 06. Is, Is Not Operators:\n",
    "---------------------------\n",
    "\n",
    "Identity Operators"
   ]
  },
  {
   "cell_type": "code",
   "execution_count": 9,
   "id": "9d1cc073-a152-4f0b-83e6-f25c039929d1",
   "metadata": {},
   "outputs": [
    {
     "name": "stdout",
     "output_type": "stream",
     "text": [
      "10 <class 'int'> 140724106110152\n",
      "10 <class 'int'> 140724106110152\n",
      "-------------------------------------\n",
      "True\n",
      "-------------------------------------\n",
      "False\n"
     ]
    }
   ],
   "source": [
    "a = 10\n",
    "\n",
    "b = 10\n",
    "\n",
    "print(a, type(a), id(a))\n",
    "\n",
    "print(b, type(b), id(b))\n",
    "\n",
    "print('-------------------------------------')\n",
    "\n",
    "print(a is b)\n",
    "\n",
    "print('-------------------------------------')\n",
    "\n",
    "print(a is not b)"
   ]
  },
  {
   "cell_type": "code",
   "execution_count": 12,
   "id": "9e19ab3e-04b2-44d1-a53c-f66eba3c2765",
   "metadata": {},
   "outputs": [
    {
     "name": "stdout",
     "output_type": "stream",
     "text": [
      "True\n"
     ]
    }
   ],
   "source": [
    "\n",
    "value = 10\n",
    "print((value % 2) == 0)"
   ]
  },
  {
   "cell_type": "code",
   "execution_count": null,
   "id": "883fbe83-b546-4496-8c55-23446b6efdc1",
   "metadata": {},
   "outputs": [],
   "source": []
  }
 ],
 "metadata": {
  "kernelspec": {
   "display_name": "Python 3 (ipykernel)",
   "language": "python",
   "name": "python3"
  },
  "language_info": {
   "codemirror_mode": {
    "name": "ipython",
    "version": 3
   },
   "file_extension": ".py",
   "mimetype": "text/x-python",
   "name": "python",
   "nbconvert_exporter": "python",
   "pygments_lexer": "ipython3",
   "version": "3.13.2"
  }
 },
 "nbformat": 4,
 "nbformat_minor": 5
}
