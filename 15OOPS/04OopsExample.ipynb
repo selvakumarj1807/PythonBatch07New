{
 "cells": [
  {
   "cell_type": "markdown",
   "id": "8ee75092-59f1-4d36-954b-96891f13608b",
   "metadata": {},
   "source": [
    "Inheritance:\n",
    "------------"
   ]
  },
  {
   "cell_type": "markdown",
   "id": "6cc57763-7e23-4111-aaec-73305fb73e80",
   "metadata": {},
   "source": [
    "# 1. Single Inheritance:\n",
    "------------------------"
   ]
  },
  {
   "cell_type": "code",
   "execution_count": 9,
   "id": "1e41789b-7eb6-4102-8b6a-619e4efd7921",
   "metadata": {},
   "outputs": [
    {
     "name": "stdout",
     "output_type": "stream",
     "text": [
      "--------------------------------------------------------\n",
      "--------------------------------------------------------\n",
      "100  -  English\n",
      "MAM College  -  www.mam.in\n"
     ]
    }
   ],
   "source": [
    "class College:\n",
    "    cName = 'MAM College'\n",
    "    link = 'www.mam.in'\n",
    "\n",
    "class Department(College):\n",
    "    def __init__(self, dname, departmentId):\n",
    "        self.dname = dname\n",
    "        self.departmentId = departmentId\n",
    "\n",
    "print('--------------------------------------------------------')\n",
    "\n",
    "dept01 = Department('English', 100)\n",
    "\n",
    "print('--------------------------------------------------------')\n",
    "\n",
    "print(dept01.departmentId, ' - ', dept01.dname)\n",
    "\n",
    "print(dept01.cName, ' - ', dept01.link)"
   ]
  },
  {
   "cell_type": "markdown",
   "id": "8472f8a3-7a4a-4765-9edd-2b8dd3c88bb2",
   "metadata": {},
   "source": [
    "# 2. Multiple Inheritance:\n",
    "--------------------------"
   ]
  },
  {
   "cell_type": "code",
   "execution_count": 24,
   "id": "53531daf-a013-4786-b986-741ad984b65b",
   "metadata": {},
   "outputs": [
    {
     "name": "stdout",
     "output_type": "stream",
     "text": [
      "-----------------------------------------------------------\n",
      "-----------------------------------------------------------\n",
      "Student Name :  Sara\n",
      "Student Age :  26\n",
      "Department Id :  100\n",
      "Department Name :  BA\n",
      "College Name :  MAM College\n",
      "Website :  www.mam.in\n"
     ]
    }
   ],
   "source": [
    "class College:\n",
    "    cName = 'MAM College'\n",
    "    link = 'www.mam.in'\n",
    "\n",
    "class Department:\n",
    "    dId = 100\n",
    "    dName = 'BA'\n",
    "\n",
    "class Student(Department, College):\n",
    "    def __init__(self, name, age):\n",
    "        self.name = name\n",
    "        self.age = age\n",
    "\n",
    "print('-----------------------------------------------------------')\n",
    "\n",
    "stud01 = Student('Sara', 26)\n",
    "\n",
    "print('-----------------------------------------------------------')\n",
    "\n",
    "print('Student Name : ', stud01.name)\n",
    "\n",
    "print('Student Age : ', stud01.age)\n",
    "\n",
    "print('Department Id : ', stud01.dId)\n",
    "\n",
    "print('Department Name : ', stud01.dName)\n",
    "\n",
    "print('College Name : ', stud01.cName)\n",
    "\n",
    "print('Website : ', stud01.link)\n"
   ]
  },
  {
   "cell_type": "markdown",
   "id": "186323a2-2bcb-4f60-85cd-940189ac1cfd",
   "metadata": {},
   "source": [
    "# 3. Multilevel Inheritance:\n",
    "----------------------------"
   ]
  },
  {
   "cell_type": "code",
   "execution_count": 1,
   "id": "2542bab8-da49-42d1-b89a-c404f9fb27d7",
   "metadata": {},
   "outputs": [
    {
     "name": "stdout",
     "output_type": "stream",
     "text": [
      "-----------------------------------------------------------\n",
      "-----------------------------------------------------------\n",
      "Student Name :  Sara\n",
      "Student Age :  26\n",
      "Department Id :  100\n",
      "Department Name :  BA\n",
      "College Name :  MAM College\n",
      "Website :  www.mam.in\n"
     ]
    }
   ],
   "source": [
    "class College:\n",
    "    cName = 'MAM College'\n",
    "    link = 'www.mam.in'\n",
    "\n",
    "class Department(College):\n",
    "    dId = 100\n",
    "    dName = 'BA'\n",
    "\n",
    "class Student(Department):\n",
    "    def __init__(self, name, age):\n",
    "        self.name = name\n",
    "        self.age = age\n",
    "\n",
    "print('-----------------------------------------------------------')\n",
    "\n",
    "stud01 = Student('Sara', 26)\n",
    "\n",
    "print('-----------------------------------------------------------')\n",
    "\n",
    "print('Student Name : ', stud01.name)\n",
    "\n",
    "print('Student Age : ', stud01.age)\n",
    "\n",
    "print('Department Id : ', stud01.dId)\n",
    "\n",
    "print('Department Name : ', stud01.dName)\n",
    "\n",
    "print('College Name : ', stud01.cName)\n",
    "\n",
    "print('Website : ', stud01.link)\n"
   ]
  },
  {
   "cell_type": "code",
   "execution_count": null,
   "id": "f9e49600-f5e6-49c1-ad34-805d02b730dd",
   "metadata": {},
   "outputs": [],
   "source": []
  }
 ],
 "metadata": {
  "kernelspec": {
   "display_name": "Python 3 (ipykernel)",
   "language": "python",
   "name": "python3"
  },
  "language_info": {
   "codemirror_mode": {
    "name": "ipython",
    "version": 3
   },
   "file_extension": ".py",
   "mimetype": "text/x-python",
   "name": "python",
   "nbconvert_exporter": "python",
   "pygments_lexer": "ipython3",
   "version": "3.13.2"
  }
 },
 "nbformat": 4,
 "nbformat_minor": 5
}
