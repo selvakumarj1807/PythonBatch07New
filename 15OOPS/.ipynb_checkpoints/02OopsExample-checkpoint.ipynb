{
 "cells": [
  {
   "cell_type": "markdown",
   "id": "d4dce181-23de-4a11-aa6f-e8bd2ade0492",
   "metadata": {},
   "source": [
    "Class Method:\n",
    "-------------"
   ]
  },
  {
   "cell_type": "code",
   "execution_count": 11,
   "id": "67a73ff7-1015-433d-8022-26b333da2ddc",
   "metadata": {},
   "outputs": [],
   "source": [
    "class Student:\n",
    "    name = 'Sara'\n",
    "    age = 27\n",
    "\n",
    "    def details():\n",
    "        print(Student.name, ' your age is ', Student.age)"
   ]
  },
  {
   "cell_type": "markdown",
   "id": "66ea816f-8928-4c1c-b74e-640ff90f4588",
   "metadata": {},
   "source": [
    "Call the class Function:\n",
    "------------------------"
   ]
  },
  {
   "cell_type": "code",
   "execution_count": 12,
   "id": "4ea4a557-cd60-42bd-9e92-0db5ab1ed166",
   "metadata": {},
   "outputs": [
    {
     "name": "stdout",
     "output_type": "stream",
     "text": [
      "Sara  your age is  27\n"
     ]
    }
   ],
   "source": [
    "Student.details()"
   ]
  },
  {
   "cell_type": "markdown",
   "id": "f73f0a7b-16b1-4638-bcfc-309f522ed51a",
   "metadata": {},
   "source": [
    "Object:\n",
    "-------"
   ]
  },
  {
   "cell_type": "code",
   "execution_count": 15,
   "id": "ccb3693c-1183-4412-8d40-c4129d9827f6",
   "metadata": {},
   "outputs": [],
   "source": [
    "class User:\n",
    "    name = 'Sara'\n",
    "    age = 27\n"
   ]
  },
  {
   "cell_type": "code",
   "execution_count": 17,
   "id": "17487438-174e-45be-ab0c-5105a222d51b",
   "metadata": {},
   "outputs": [
    {
     "name": "stdout",
     "output_type": "stream",
     "text": [
      "Class Variable Name :  Sara\n",
      "Class Variable Age :  27\n",
      "----------------------------------------------------------\n",
      "Object Variable Name :  Sara\n",
      "Object Variable Age :  27\n",
      "Object Variable Name :  Developer\n",
      "Object Variable Age :  22\n",
      "----------------------------------------------------------\n",
      "Object Variable Name :  Sara\n",
      "Object Variable Age :  27\n",
      "Object Variable Name :  SF\n",
      "Object Variable Age :  25\n",
      "----------------------------------------------------------\n",
      "Class Variable Name :  Sara\n",
      "Class Variable Age :  27\n"
     ]
    }
   ],
   "source": [
    "print('Class Variable Name : ', User.name)\n",
    "\n",
    "print('Class Variable Age : ', User.age)\n",
    "\n",
    "print('----------------------------------------------------------')\n",
    "\n",
    "user01 = User()\n",
    "\n",
    "print('Object Variable Name : ', user01.name)\n",
    "\n",
    "print('Object Variable Age : ', user01.age)\n",
    "\n",
    "user01.name = 'Developer'\n",
    "user01.age = 22\n",
    "\n",
    "print('Object Variable Name : ', user01.name)\n",
    "\n",
    "print('Object Variable Age : ', user01.age)\n",
    "\n",
    "print('----------------------------------------------------------')\n",
    "\n",
    "user02 = User()\n",
    "\n",
    "print('Object Variable Name : ', user02.name)\n",
    "\n",
    "print('Object Variable Age : ', user02.age)\n",
    "\n",
    "user02.name = 'SF'\n",
    "user02.age = 25\n",
    "\n",
    "print('Object Variable Name : ', user02.name)\n",
    "\n",
    "print('Object Variable Age : ', user02.age)\n",
    "\n",
    "print('----------------------------------------------------------')\n",
    "print('Class Variable Name : ', User.name)\n",
    "\n",
    "print('Class Variable Age : ', User.age)\n"
   ]
  },
  {
   "cell_type": "markdown",
   "id": "92ba96d6-8214-47fc-8621-70bdacf93ae6",
   "metadata": {},
   "source": [
    "Call the Class Function using Object:\n",
    "-------------------------------------"
   ]
  },
  {
   "cell_type": "code",
   "execution_count": 27,
   "id": "ef91a702-727e-4e25-8fae-cea5e2c2b0db",
   "metadata": {},
   "outputs": [],
   "source": [
    "class Student:\n",
    "    name = 'Sara'\n",
    "    age = 27\n",
    "\n",
    "    def details(self):\n",
    "        print(self.name, ' your age is ', self.age)"
   ]
  },
  {
   "cell_type": "code",
   "execution_count": 29,
   "id": "7e1e27b7-fe0b-4697-9973-f40c2212b66a",
   "metadata": {},
   "outputs": [
    {
     "name": "stdout",
     "output_type": "stream",
     "text": [
      "Sara  your age is  27\n",
      "----------------------------------------------------------\n",
      "Sara  your age is  27\n",
      "SF  your age is  25\n",
      "----------------------------------------------------------\n",
      "Sara  your age is  27\n",
      "Ram  your age is  21\n"
     ]
    }
   ],
   "source": [
    "stud01 = Student()\n",
    "\n",
    "stud01.details()\n",
    "\n",
    "print('----------------------------------------------------------')\n",
    "\n",
    "stud02 = Student()\n",
    "\n",
    "stud02.details()\n",
    "\n",
    "stud02.name = 'SF'\n",
    "stud02.age = 25\n",
    "\n",
    "stud02.details()\n",
    "print('----------------------------------------------------------')\n",
    "\n",
    "stud03 = Student()\n",
    "\n",
    "stud03.details()\n",
    "\n",
    "stud03.name = 'Ram'\n",
    "stud03.age = 21\n",
    "\n",
    "stud03.details()"
   ]
  },
  {
   "cell_type": "code",
   "execution_count": null,
   "id": "df62dcd0-b637-4f70-ac80-22259014cd32",
   "metadata": {},
   "outputs": [],
   "source": [
    "'''\n",
    "\n",
    "__int__ method:\n",
    "---------------\n",
    "\n",
    "'''"
   ]
  },
  {
   "cell_type": "code",
   "execution_count": 34,
   "id": "d751c067-576c-4092-b420-1c45609cca7c",
   "metadata": {},
   "outputs": [],
   "source": [
    "class Student:\n",
    "    def __init__(self, name, age):\n",
    "        print('Constructer method for values Initialization.')\n",
    "        self.name = name\n",
    "        self.age = age\n",
    "\n",
    "    def details(self):\n",
    "        print(self.name, ' your age is ', self.age)"
   ]
  },
  {
   "cell_type": "code",
   "execution_count": 36,
   "id": "9c53dfd5-4601-4764-a06e-9ed5340c40a5",
   "metadata": {},
   "outputs": [
    {
     "name": "stdout",
     "output_type": "stream",
     "text": [
      "Constructer method for values Initialization.\n",
      "Sara  your age is  25\n"
     ]
    }
   ],
   "source": [
    "stude01 = Student('Sara', 25)\n",
    "\n",
    "stude01.details()"
   ]
  },
  {
   "cell_type": "code",
   "execution_count": 37,
   "id": "a7a18eb2-a8af-4b6d-9b29-e1e712fd4821",
   "metadata": {},
   "outputs": [
    {
     "name": "stdout",
     "output_type": "stream",
     "text": [
      "Constructer method for values Initialization.\n",
      "Sam  your age is  22\n"
     ]
    }
   ],
   "source": [
    "stude02 = Student('Sam', 22)\n",
    "\n",
    "stude02.details()"
   ]
  },
  {
   "cell_type": "code",
   "execution_count": null,
   "id": "69cb4779-065c-40e4-a159-3ea95418a6ca",
   "metadata": {},
   "outputs": [],
   "source": []
  }
 ],
 "metadata": {
  "kernelspec": {
   "display_name": "Python 3 (ipykernel)",
   "language": "python",
   "name": "python3"
  },
  "language_info": {
   "codemirror_mode": {
    "name": "ipython",
    "version": 3
   },
   "file_extension": ".py",
   "mimetype": "text/x-python",
   "name": "python",
   "nbconvert_exporter": "python",
   "pygments_lexer": "ipython3",
   "version": "3.13.2"
  }
 },
 "nbformat": 4,
 "nbformat_minor": 5
}
