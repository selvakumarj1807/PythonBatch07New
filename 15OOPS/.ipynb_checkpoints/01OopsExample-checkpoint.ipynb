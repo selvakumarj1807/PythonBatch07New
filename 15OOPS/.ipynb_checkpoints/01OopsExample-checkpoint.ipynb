{
 "cells": [
  {
   "cell_type": "markdown",
   "id": "4852f47f-98e8-418f-b4a3-393ec5dbb56e",
   "metadata": {},
   "source": [
    "Class:\n",
    "------"
   ]
  },
  {
   "cell_type": "code",
   "execution_count": 8,
   "id": "01e2df79-3199-4727-b027-fe1177c6c01c",
   "metadata": {},
   "outputs": [
    {
     "name": "stdout",
     "output_type": "stream",
     "text": [
      "--------------------------------------------------\n",
      "10 <class 'int'>\n",
      "--------------------------------------------------\n",
      "<class 'type'>\n",
      "--------------------------------------------------\n",
      "<class '__main__.User'>\n",
      "--------------------------------------------------\n",
      "True\n",
      "True\n",
      "True\n"
     ]
    }
   ],
   "source": [
    "class User:\n",
    "    pass\n",
    "\n",
    "print('--------------------------------------------------')\n",
    "\n",
    "a = 10\n",
    "\n",
    "print(a, type(a))\n",
    "\n",
    "print('--------------------------------------------------')\n",
    "\n",
    "print(type(User))\n",
    "\n",
    "print('--------------------------------------------------')\n",
    "\n",
    "# Object\n",
    "\n",
    "objName = User()\n",
    "\n",
    "print(type(objName))\n",
    "\n",
    "print('--------------------------------------------------')\n",
    "\n",
    "print(isinstance(a, int))\n",
    "\n",
    "name = 'Sara'\n",
    "\n",
    "print(isinstance(name, str))\n",
    "\n",
    "print(isinstance(objName, User))"
   ]
  },
  {
   "cell_type": "markdown",
   "id": "37166f53-0098-4aff-8177-ca43b3e63716",
   "metadata": {},
   "source": [
    "Get Values from the class:\n",
    "--------------------------"
   ]
  },
  {
   "cell_type": "code",
   "execution_count": 9,
   "id": "997101ed-76dd-429e-b45a-5a22ba2505d4",
   "metadata": {},
   "outputs": [],
   "source": [
    "class User:\n",
    "    name = 'Sara'\n",
    "    age = 25\n",
    "    gender = 'Male'"
   ]
  },
  {
   "cell_type": "code",
   "execution_count": 12,
   "id": "7bcd2130-58b6-4ce2-a30a-4cf3be119db6",
   "metadata": {},
   "outputs": [
    {
     "name": "stdout",
     "output_type": "stream",
     "text": [
      "Sara\n",
      "25\n",
      "------------------------------------------\n",
      "Male\n"
     ]
    }
   ],
   "source": [
    "# Get Attribute method\n",
    "\n",
    "print(getattr(User, 'name'))\n",
    "\n",
    "print(getattr(User, 'age'))\n",
    "\n",
    "print('------------------------------------------')\n",
    "\n",
    "# Dot (.) Notation\n",
    "\n",
    "print(User.gender)"
   ]
  },
  {
   "cell_type": "markdown",
   "id": "7ec9d5e6-14c9-483c-9966-b91f820807dc",
   "metadata": {},
   "source": [
    "Difference between Get Attribute method & Dot (.) Notation:\n",
    "-----------------------------------------------------------"
   ]
  },
  {
   "cell_type": "code",
   "execution_count": 16,
   "id": "d3a2dade-bf7e-4763-adcd-11bd12f81dac",
   "metadata": {},
   "outputs": [
    {
     "name": "stdout",
     "output_type": "stream",
     "text": [
      "Chennai\n",
      "------------------------------------------\n"
     ]
    },
    {
     "ename": "AttributeError",
     "evalue": "type object 'User' has no attribute 'city'",
     "output_type": "error",
     "traceback": [
      "\u001b[31m---------------------------------------------------------------------------\u001b[39m",
      "\u001b[31mAttributeError\u001b[39m                            Traceback (most recent call last)",
      "\u001b[36mCell\u001b[39m\u001b[36m \u001b[39m\u001b[32mIn[16]\u001b[39m\u001b[32m, line 7\u001b[39m\n\u001b[32m      3\u001b[39m \u001b[38;5;28mprint\u001b[39m(\u001b[33m'\u001b[39m\u001b[33m------------------------------------------\u001b[39m\u001b[33m'\u001b[39m)\n\u001b[32m      4\u001b[39m \u001b[38;5;66;03m# Dot (.) Notation cannot show undefind class variable\u001b[39;00m\n\u001b[32m      5\u001b[39m \u001b[38;5;66;03m# So have a error\u001b[39;00m\n\u001b[32m----> \u001b[39m\u001b[32m7\u001b[39m \u001b[38;5;28mprint\u001b[39m(\u001b[43mUser\u001b[49m\u001b[43m.\u001b[49m\u001b[43mcity\u001b[49m) \n",
      "\u001b[31mAttributeError\u001b[39m: type object 'User' has no attribute 'city'"
     ]
    }
   ],
   "source": [
    "print(getattr(User, 'city', 'Chennai'))\n",
    "\n",
    "print('------------------------------------------')\n",
    "# Dot (.) Notation cannot show undefind class variable\n",
    "# So have a error\n",
    "\n",
    "print(User.city) "
   ]
  },
  {
   "cell_type": "markdown",
   "id": "b53cccf8-7fac-42c0-8b2a-f9694ff94eeb",
   "metadata": {},
   "source": [
    "Create Variable in after class creation:\n",
    "----------------------------------------"
   ]
  },
  {
   "cell_type": "code",
   "execution_count": 18,
   "id": "835cda8d-2edc-4a69-9235-d4079a3ad822",
   "metadata": {},
   "outputs": [],
   "source": [
    "class Student:\n",
    "    pass"
   ]
  },
  {
   "cell_type": "code",
   "execution_count": 21,
   "id": "0a675d9c-b568-46c2-b9ff-d94bb59ca3ac",
   "metadata": {},
   "outputs": [
    {
     "name": "stdout",
     "output_type": "stream",
     "text": [
      "Dev\n",
      "------------------------------------------\n",
      "CBE\n"
     ]
    }
   ],
   "source": [
    "# Set Attribute Method\n",
    "\n",
    "setattr(Student, 'name', 'Dev')\n",
    "\n",
    "print(getattr(Student, 'name'))\n",
    "\n",
    "print('------------------------------------------')\n",
    "\n",
    "# Dot (.) Notation\n",
    "\n",
    "User.city = 'CBE'\n",
    "\n",
    "print(User.city)"
   ]
  },
  {
   "cell_type": "markdown",
   "id": "9914a5a8-86e1-4f6e-94fd-fac56c327c2a",
   "metadata": {},
   "source": [
    "Remove the Variable in after Class creation:\n",
    "--------------------------------------------"
   ]
  },
  {
   "cell_type": "code",
   "execution_count": 22,
   "id": "17056f8c-3d4f-4dd1-a7f8-e82963d48477",
   "metadata": {},
   "outputs": [],
   "source": [
    "class User:\n",
    "    name = 'Sara'\n",
    "    age = 25\n",
    "    gender = 'Male'"
   ]
  },
  {
   "cell_type": "code",
   "execution_count": 23,
   "id": "6390bbf4-46a6-4e63-8768-d8aa02a7d745",
   "metadata": {},
   "outputs": [
    {
     "name": "stdout",
     "output_type": "stream",
     "text": [
      "{'__module__': '__main__', '__firstlineno__': 1, 'name': 'Sara', 'age': 25, 'gender': 'Male', '__static_attributes__': (), '__dict__': <attribute '__dict__' of 'User' objects>, '__weakref__': <attribute '__weakref__' of 'User' objects>, '__doc__': None}\n"
     ]
    }
   ],
   "source": [
    "print(User.__dict__)"
   ]
  },
  {
   "cell_type": "code",
   "execution_count": 24,
   "id": "0ee41665-b868-4c39-8988-7591d26f862f",
   "metadata": {},
   "outputs": [
    {
     "name": "stdout",
     "output_type": "stream",
     "text": [
      "{'__module__': '__main__', '__firstlineno__': 1, 'name': 'Sara', 'age': 25, '__static_attributes__': (), '__dict__': <attribute '__dict__' of 'User' objects>, '__weakref__': <attribute '__weakref__' of 'User' objects>, '__doc__': None}\n"
     ]
    }
   ],
   "source": [
    "# DelAttribute\n",
    "\n",
    "delattr(User, 'gender')\n",
    "\n",
    "print(User.__dict__)"
   ]
  },
  {
   "cell_type": "code",
   "execution_count": 25,
   "id": "0c000c83-c276-4f28-9bd4-fc5e11568722",
   "metadata": {},
   "outputs": [
    {
     "name": "stdout",
     "output_type": "stream",
     "text": [
      "{'__module__': '__main__', '__firstlineno__': 1, 'name': 'Sara', '__static_attributes__': (), '__dict__': <attribute '__dict__' of 'User' objects>, '__weakref__': <attribute '__weakref__' of 'User' objects>, '__doc__': None}\n"
     ]
    }
   ],
   "source": [
    "# Dot (.) Notation\n",
    "\n",
    "del User.age\n",
    "\n",
    "print(User.__dict__)"
   ]
  },
  {
   "cell_type": "code",
   "execution_count": null,
   "id": "22f443cf-895c-4da2-a13f-e45622fa573f",
   "metadata": {},
   "outputs": [],
   "source": []
  }
 ],
 "metadata": {
  "kernelspec": {
   "display_name": "Python 3 (ipykernel)",
   "language": "python",
   "name": "python3"
  },
  "language_info": {
   "codemirror_mode": {
    "name": "ipython",
    "version": 3
   },
   "file_extension": ".py",
   "mimetype": "text/x-python",
   "name": "python",
   "nbconvert_exporter": "python",
   "pygments_lexer": "ipython3",
   "version": "3.13.2"
  }
 },
 "nbformat": 4,
 "nbformat_minor": 5
}
