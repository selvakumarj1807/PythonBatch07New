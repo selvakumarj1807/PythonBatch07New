{
 "cells": [
  {
   "cell_type": "markdown",
   "id": "4288712b-d506-4a49-9eda-3ca0b8dd46a3",
   "metadata": {},
   "source": [
    "Property Decretor:\n",
    "------------------"
   ]
  },
  {
   "cell_type": "code",
   "execution_count": 15,
   "id": "1be3fd26-161e-43e4-9378-eca590ab45df",
   "metadata": {},
   "outputs": [],
   "source": [
    "class User:\n",
    "    def __init__(self, name, age):\n",
    "        self.name = name\n",
    "        self.age = age\n",
    "\n",
    "    @property\n",
    "    def msg(self):\n",
    "        print( self.name + ' your age is ' + str(self.age))"
   ]
  },
  {
   "cell_type": "code",
   "execution_count": 16,
   "id": "082c9e2a-a428-4f58-8ffb-8aeaf250c871",
   "metadata": {},
   "outputs": [],
   "source": [
    "user01 = User('Sara', 25)"
   ]
  },
  {
   "cell_type": "code",
   "execution_count": 17,
   "id": "142b2427-1c6c-47bc-8084-7ec1496c5a2c",
   "metadata": {},
   "outputs": [
    {
     "name": "stdout",
     "output_type": "stream",
     "text": [
      "Sara your age is 25\n"
     ]
    }
   ],
   "source": [
    "user01.msg"
   ]
  },
  {
   "cell_type": "markdown",
   "id": "846e90fd-d092-45be-b6a8-4b0def7eec7a",
   "metadata": {},
   "source": [
    "Property Getter & Setter:\n",
    "-------------------------"
   ]
  },
  {
   "cell_type": "code",
   "execution_count": 41,
   "id": "8ca2adcf-1c5c-480d-b59e-812502e113ed",
   "metadata": {},
   "outputs": [],
   "source": [
    "class stud:\n",
    "    def __init__(self, total):\n",
    "        self._total = total\n",
    "\n",
    "    def average(self):\n",
    "        return self._total / 5.00\n",
    "\n",
    "    @property\n",
    "    def total(self):\n",
    "        return self._total\n",
    "\n",
    "    @total.setter\n",
    "    def total(self, t):\n",
    "        if t < 0 or t > 500:\n",
    "            print('Assign a Valid Total, 0 - 500 values')\n",
    "\n",
    "        else:\n",
    "            self._total = t\n"
   ]
  },
  {
   "cell_type": "code",
   "execution_count": 42,
   "id": "711e8bd6-0372-4c39-bab9-f89d7a8a570a",
   "metadata": {},
   "outputs": [],
   "source": [
    "stud01 = stud(0)"
   ]
  },
  {
   "cell_type": "code",
   "execution_count": 43,
   "id": "9e253a14-2b63-4b6b-9071-983dfd2b98d0",
   "metadata": {},
   "outputs": [
    {
     "name": "stdout",
     "output_type": "stream",
     "text": [
      "Total :  0\n",
      "Average :  0.0\n"
     ]
    }
   ],
   "source": [
    "print('Total : ', stud01.total)\n",
    "\n",
    "print('Average : ', stud01.average())"
   ]
  },
  {
   "cell_type": "code",
   "execution_count": 45,
   "id": "d478c3be-ab68-4176-8baa-944e02957c0e",
   "metadata": {},
   "outputs": [
    {
     "name": "stdout",
     "output_type": "stream",
     "text": [
      "Total :  400\n",
      "Average :  80.0\n"
     ]
    }
   ],
   "source": [
    "stud01.total = 400\n",
    "\n",
    "print('Total : ', stud01.total)\n",
    "\n",
    "print('Average : ', stud01.average())"
   ]
  },
  {
   "cell_type": "code",
   "execution_count": 46,
   "id": "9095b1d0-944f-4e00-b462-5ecb6b37f5ca",
   "metadata": {},
   "outputs": [
    {
     "name": "stdout",
     "output_type": "stream",
     "text": [
      "Assign a Valid Total, 0 - 500 values\n",
      "Total :  400\n",
      "Average :  80.0\n"
     ]
    }
   ],
   "source": [
    "stud01.total = 600\n",
    "\n",
    "print('Total : ', stud01.total)\n",
    "\n",
    "print('Average : ', stud01.average())"
   ]
  },
  {
   "cell_type": "code",
   "execution_count": null,
   "id": "349df556-79fb-424f-a2de-c01fbd1b5242",
   "metadata": {},
   "outputs": [],
   "source": []
  }
 ],
 "metadata": {
  "kernelspec": {
   "display_name": "Python 3 (ipykernel)",
   "language": "python",
   "name": "python3"
  },
  "language_info": {
   "codemirror_mode": {
    "name": "ipython",
    "version": 3
   },
   "file_extension": ".py",
   "mimetype": "text/x-python",
   "name": "python",
   "nbconvert_exporter": "python",
   "pygments_lexer": "ipython3",
   "version": "3.13.2"
  }
 },
 "nbformat": 4,
 "nbformat_minor": 5
}
