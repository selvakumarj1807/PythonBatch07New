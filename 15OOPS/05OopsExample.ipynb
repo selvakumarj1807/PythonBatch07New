{
 "cells": [
  {
   "cell_type": "markdown",
   "id": "43cf8e14-1e6a-4fd8-ae2a-f8a1f7c930ff",
   "metadata": {},
   "source": [
    "Abstraction & Encapsulation:\n",
    "----------------------------"
   ]
  },
  {
   "cell_type": "code",
   "execution_count": 6,
   "id": "f886bda3-c647-40bf-a47f-0a0ada1f17e1",
   "metadata": {},
   "outputs": [],
   "source": [
    "# Class\n",
    "\n",
    "class LibrarryManagement:\n",
    "    def __init__(self, books):\n",
    "        self.books = books\n",
    "\n",
    "    def displayBook(self):\n",
    "        for i in self.books:\n",
    "            print(i)\n",
    "\n",
    "    def borrowBook(self, book):\n",
    "        if book in self.books:\n",
    "            self.books.remove(book)\n",
    "            print(book,' - Successfully Borrowed!...')\n",
    "        else:\n",
    "            print('No')\n",
    "\n",
    "    def recieveBook(self, book):\n",
    "        self.books.append(book)\n",
    "        print(book, 'Successfully Recieved!...')\n",
    "    "
   ]
  },
  {
   "cell_type": "code",
   "execution_count": 7,
   "id": "b3008d8a-7adf-48c2-bdd4-5ceaba041ff6",
   "metadata": {},
   "outputs": [
    {
     "name": "stdout",
     "output_type": "stream",
     "text": [
      "Welcom to Library Management\n",
      "\n",
      "1. Display Books\n",
      "2. Borrow Book\n",
      "3. Recieve Book\n"
     ]
    },
    {
     "name": "stdin",
     "output_type": "stream",
     "text": [
      "\n",
      "Enter Your Choice 1/2/3 :  1\n"
     ]
    },
    {
     "name": "stdout",
     "output_type": "stream",
     "text": [
      "C\n",
      "C++\n",
      "Java\n",
      "\n",
      "1. Display Books\n",
      "2. Borrow Book\n",
      "3. Recieve Book\n"
     ]
    },
    {
     "name": "stdin",
     "output_type": "stream",
     "text": [
      "\n",
      "Enter Your Choice 1/2/3 :  2\n",
      "Enter your Borrow book Name :  Java\n"
     ]
    },
    {
     "name": "stdout",
     "output_type": "stream",
     "text": [
      "Java  - Successfully Borrowed!...\n",
      "\n",
      "1. Display Books\n",
      "2. Borrow Book\n",
      "3. Recieve Book\n"
     ]
    },
    {
     "name": "stdin",
     "output_type": "stream",
     "text": [
      "\n",
      "Enter Your Choice 1/2/3 :  1\n"
     ]
    },
    {
     "name": "stdout",
     "output_type": "stream",
     "text": [
      "C\n",
      "C++\n",
      "\n",
      "1. Display Books\n",
      "2. Borrow Book\n",
      "3. Recieve Book\n"
     ]
    },
    {
     "name": "stdin",
     "output_type": "stream",
     "text": [
      "\n",
      "Enter Your Choice 1/2/3 :  3\n",
      "Enter your Recieve book Name :  Java\n"
     ]
    },
    {
     "name": "stdout",
     "output_type": "stream",
     "text": [
      "Java Successfully Recieved!...\n",
      "\n",
      "1. Display Books\n",
      "2. Borrow Book\n",
      "3. Recieve Book\n"
     ]
    },
    {
     "name": "stdin",
     "output_type": "stream",
     "text": [
      "\n",
      "Enter Your Choice 1/2/3 :  1\n"
     ]
    },
    {
     "name": "stdout",
     "output_type": "stream",
     "text": [
      "C\n",
      "C++\n",
      "Java\n",
      "\n",
      "1. Display Books\n",
      "2. Borrow Book\n",
      "3. Recieve Book\n"
     ]
    },
    {
     "name": "stdin",
     "output_type": "stream",
     "text": [
      "\n",
      "Enter Your Choice 1/2/3 :  3\n",
      "Enter your Recieve book Name :  Python\n"
     ]
    },
    {
     "name": "stdout",
     "output_type": "stream",
     "text": [
      "Python Successfully Recieved!...\n",
      "\n",
      "1. Display Books\n",
      "2. Borrow Book\n",
      "3. Recieve Book\n"
     ]
    },
    {
     "name": "stdin",
     "output_type": "stream",
     "text": [
      "\n",
      "Enter Your Choice 1/2/3 :  1\n"
     ]
    },
    {
     "name": "stdout",
     "output_type": "stream",
     "text": [
      "C\n",
      "C++\n",
      "Java\n",
      "Python\n",
      "\n",
      "1. Display Books\n",
      "2. Borrow Book\n",
      "3. Recieve Book\n"
     ]
    },
    {
     "name": "stdin",
     "output_type": "stream",
     "text": [
      "\n",
      "Enter Your Choice 1/2/3 :  5\n"
     ]
    }
   ],
   "source": [
    "books = ['C', 'C++', 'Java']\n",
    "\n",
    "bookDetails01 = LibrarryManagement(books)\n",
    "\n",
    "print('Welcom to Library Management')\n",
    "\n",
    "condition = True\n",
    "\n",
    "while condition:\n",
    "    Para = '\\n1. Display Books\\n2. Borrow Book\\n3. Recieve Book'\n",
    "\n",
    "    print(Para)\n",
    "\n",
    "    c = int(input('\\nEnter Your Choice 1/2/3 : '))\n",
    "\n",
    "    if c == 1:\n",
    "        bookDetails01.displayBook()\n",
    "\n",
    "    elif c == 2:\n",
    "        book = input('Enter your Borrow book Name : ')\n",
    "\n",
    "        bookDetails01.borrowBook(book)\n",
    "\n",
    "    elif c == 3:\n",
    "        book = input('Enter your Recieve book Name : ')\n",
    "\n",
    "        bookDetails01.recieveBook(book)\n",
    "\n",
    "    else:\n",
    "        condition = False"
   ]
  },
  {
   "cell_type": "code",
   "execution_count": null,
   "id": "4b91c73d-1d13-4f40-a673-3bf05bd15955",
   "metadata": {},
   "outputs": [
    {
     "name": "stdout",
     "output_type": "stream",
     "text": [
      "Welcom to Library Management\n",
      "\n",
      "1. Display Books\n",
      "2. Borrow Book\n",
      "3. Recieve Book\n"
     ]
    },
    {
     "name": "stdin",
     "output_type": "stream",
     "text": [
      "\n",
      "Enter Your Choice 1/2/3 :  1\n"
     ]
    },
    {
     "name": "stdout",
     "output_type": "stream",
     "text": [
      "Tamil\n",
      "English\n",
      "Math\n",
      "\n",
      "1. Display Books\n",
      "2. Borrow Book\n",
      "3. Recieve Book\n"
     ]
    }
   ],
   "source": [
    "books = ['Tamil', 'English', 'Math']\n",
    "\n",
    "bookDetails01 = LibrarryManagement(books)\n",
    "\n",
    "print('Welcom to Library Management')\n",
    "\n",
    "condition = True\n",
    "\n",
    "while condition:\n",
    "    Para = '\\n1. Display Books\\n2. Borrow Book\\n3. Recieve Book'\n",
    "\n",
    "    print(Para)\n",
    "\n",
    "    c = int(input('\\nEnter Your Choice 1/2/3 : '))\n",
    "\n",
    "    if c == 1:\n",
    "        bookDetails01.displayBook()\n",
    "\n",
    "    elif c == 2:\n",
    "        book = input('Enter your Borrow book Name : ')\n",
    "\n",
    "        bookDetails01.borrowBook(book)\n",
    "\n",
    "    elif c == 3:\n",
    "        book = input('Enter your Recieve book Name : ')\n",
    "\n",
    "        bookDetails01.recieveBook(book)\n",
    "\n",
    "    else:\n",
    "        condition = False"
   ]
  },
  {
   "cell_type": "code",
   "execution_count": null,
   "id": "9daae237-64c9-4888-8b32-89b71830e2c2",
   "metadata": {},
   "outputs": [],
   "source": []
  }
 ],
 "metadata": {
  "kernelspec": {
   "display_name": "Python 3 (ipykernel)",
   "language": "python",
   "name": "python3"
  },
  "language_info": {
   "codemirror_mode": {
    "name": "ipython",
    "version": 3
   },
   "file_extension": ".py",
   "mimetype": "text/x-python",
   "name": "python",
   "nbconvert_exporter": "python",
   "pygments_lexer": "ipython3",
   "version": "3.13.2"
  }
 },
 "nbformat": 4,
 "nbformat_minor": 5
}
